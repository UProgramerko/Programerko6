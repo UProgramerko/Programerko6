{
 "cells": [
  {
   "cell_type": "markdown",
   "metadata": {},
   "source": [
    "# Uvod u analizu podataka\n",
    "\n",
    "Pred vama je priručnik _Uvod u analizu podataka_ u kojem dajemo u deset lekcija pregled osnovnih vještina vezanih uz vizualizaciju i obradu podataka. Ideja priručnika je prikazati kako se upotrebom _Python_ programskog jezika i njegovih biblioteka s malo programske vještine može dobiti nova vrijednost iz prikladno predstavljenih podataka -- informacija. Ovaj je priručnik napisan na _Jupyteru_, što je interaktivno radno okruženje za pokretanje Python programa.\n",
    "\n",
    "Jezik za koji smo se odlučili je Python, ali svrha ovog priručnika nije podučavanje programiranja na Pythonu. Cilj je steći osnovne vještine i tehnike za vizualizaciju i obradu podataka, a programski jezik je samo alat koji nam omogućuje precizno formuliranje ideja i njihovo provođenje u praksi. Python je moderan programski jezik koji se redovno razvija i održava i za koji postoji besplatna podrška. To ga čini prikladnim izborom.\n",
    "\n",
    "* [1. Uvod u Jupyter](eJ01.html)\n",
    "* [2. Nizovi podataka i linijski dijagrami](eJ02.html)\n",
    "* [3. Grafikoni i boje](eJ03.html)\n",
    "* [4. Prosjek i srednja vrijednost niza brojeva](eJ04.html)\n",
    "* [5. Analiza frekvencije i dijagrami sektora](eJ05.html)\n",
    "* [6. Predstavljanje podataka u tablicama](eJ06.html)\n",
    "* [7. Indeksiranje i prijenos tablice](eJ07.html)\n",
    "* [8. Izmjene tablice i vođenje tablice u datoteku](eJ08.html)\n",
    "* [9. Razvrstavanje, filtriranje i analiza frekvencija](eJ09.html)\n",
    "* [10. Jupiter i Excel](eJ10.html)"
   ]
  }
 ],
 "metadata": {
  "kernelspec": {
   "display_name": "Python 3",
   "language": "python",
   "name": "python3"
  },
  "language_info": {
   "codemirror_mode": {
    "name": "ipython",
    "version": 3
   },
   "file_extension": ".py",
   "mimetype": "text/x-python",
   "name": "python",
   "nbconvert_exporter": "python",
   "pygments_lexer": "ipython3",
   "version": "3.7.6"
  }
 },
 "nbformat": 4,
 "nbformat_minor": 2
}
