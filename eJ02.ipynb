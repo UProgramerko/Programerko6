{
 "cells": [
  {
   "cell_type": "markdown",
   "metadata": {},
   "source": [
    "# 2. Nizovi podataka i linijski dijagrami\n",
    "\n",
    "U ovoj lekciji ćete naučiti:\n",
    "1. kako se kretati kroz radnu bilježnicu Jupytera;\n",
    "2. kako se pišu nizovi podataka; i\n",
    "3. kako su nizovi podataka prikazani linijskim dijagramima."
   ]
  },
  {
   "cell_type": "markdown",
   "metadata": {},
   "source": [
    "## 2.1. Još malo o Jupyter radnoj bilježnici\n",
    "\n",
    "Radna bilježnica za Jupyter sastoji se od niza ćelija, a svaka ćelija može sadržavati tekst, matematički izraz ili niz Python naredbi. Niz ikona na vrhu stranice omogućuje vam manipuliranje Jupyterovim radnim knjigama na različite načine:\n",
    "\n",
    "![Four buttons](pics/JupyterMenu4Buttons.jpg)\n",
    "\n",
    "- Klikom na gumb nalik na disketu (prvi lijevo) snimit ćete radnu bilježnicu.\n",
    "- Klikom na znak <b>+</b> dodat ćete novu ćeliju ispod aktivne ćelije. (Ćeliju aktivirate klikom na nju; aktivna ćelija ima okvir <font color=green>***green***</font> ili <font color=blue>***blue***</font>. \n",
    "- Strelice gore i dolje radnu ćeliju pomiču za jedno mjesto prema gore ili prema dolje."
   ]
  },
  {
   "cell_type": "markdown",
   "metadata": {},
   "source": [
    "Na primjer, čitate ovaj tekst i odjednom osjetite snažnu želju za izračunom vrijednosti izraza $1 + \\frac 12 + \\frac 13 + \\frac 14 + \\frac 15 + \\frac 16 + \\frac 17$. Zatim trebate kliknuti na ovu ćeliju (koju upravo čitate), a zatim na gumb **+**. U novu ćeliju koja se pojavi ispod možete unijeti izraz i Python će ga izračunati:"
   ]
  },
  {
   "cell_type": "code",
   "execution_count": null,
   "metadata": {},
   "outputs": [],
   "source": [
    "1 + 1/2 + 1/3 + 1/4 + 1/5 + 1/6 + 1/7"
   ]
  },
  {
   "cell_type": "markdown",
   "metadata": {},
   "source": [
    "Osam ćelija koje slijede stihovi su poznatog engleskog dječjeg brojača. Stihovi su isprepleteni. Upotrijebite tipke sa strelicama da preuredite ćelije tako da dobijete tekst brojača."
   ]
  },
  {
   "cell_type": "markdown",
   "metadata": {},
   "source": [
    "_Once I caught a fish alive,_"
   ]
  },
  {
   "cell_type": "markdown",
   "metadata": {},
   "source": [
    "_Then I let it go again._"
   ]
  },
  {
   "cell_type": "markdown",
   "metadata": {},
   "source": [
    "_Which finger did it bite?_"
   ]
  },
  {
   "cell_type": "markdown",
   "metadata": {},
   "source": [
    "_Why did you let it go?_"
   ]
  },
  {
   "cell_type": "markdown",
   "metadata": {},
   "source": [
    "_Because it bit my finger so._"
   ]
  },
  {
   "cell_type": "markdown",
   "metadata": {},
   "source": [
    "_This little finger on my right._"
   ]
  },
  {
   "cell_type": "markdown",
   "metadata": {},
   "source": [
    "_One, two, three, four, five,_"
   ]
  },
  {
   "cell_type": "markdown",
   "metadata": {},
   "source": [
    "_Six, seven, eight, nine, ten,_"
   ]
  },
  {
   "cell_type": "markdown",
   "metadata": {},
   "source": [
    "## 2.2. Zapisivanje niza podataka"
   ]
  },
  {
   "cell_type": "markdown",
   "metadata": {},
   "source": [
    "Nizovi podataka Pythona pišu se unutar uglatih zagrada u obliku liste. Na primjer, ocjene učenika iz jednog predmeta mogu se napisati kao niz ovako:"
   ]
  },
  {
   "cell_type": "code",
   "execution_count": null,
   "metadata": {},
   "outputs": [],
   "source": [
    "ocjene = [2, 4, 5, 3, 5]"
   ]
  },
  {
   "cell_type": "markdown",
   "metadata": {},
   "source": [
    "Sustav, naravno, nije vratio nikakav izlaz. Primijetio je samo da varijabla `ocjene` sada sadrži niz koji se sastoji od pet brojeva. Da bismo se uvjerili da je to slučaj, tražit ćemo od sustava da izračuna slijedeći izraz:"
   ]
  },
  {
   "cell_type": "code",
   "execution_count": null,
   "metadata": {},
   "outputs": [],
   "source": [
    "ocjene"
   ]
  },
  {
   "cell_type": "markdown",
   "metadata": {},
   "source": [
    "Moguće je raditi i s nizovima stringova:"
   ]
  },
  {
   "cell_type": "code",
   "execution_count": null,
   "metadata": {},
   "outputs": [],
   "source": [
    "predmeti = [\"Matematika\", \"Engleski\", \"Likovni\", \"Povijest\", \"Tjelesni\"]"
   ]
  },
  {
   "cell_type": "markdown",
   "metadata": {},
   "source": [
    "Sustav ovaj put nije vratio nijedan izlaz, samo je zapamtio da varijabla `predmeti`, sada sadrži niz od pet stringova (imena predmeta). Evo sadržaja varijable `predmeti`:"
   ]
  },
  {
   "cell_type": "code",
   "execution_count": null,
   "metadata": {},
   "outputs": [],
   "source": [
    "predmeti"
   ]
  },
  {
   "cell_type": "markdown",
   "metadata": {},
   "source": [
    "Dužinu niza možemo dobiti pozivom funkcije `len` (što je skraćenica engleske riječi length koja znači “dužina”):"
   ]
  },
  {
   "cell_type": "code",
   "execution_count": null,
   "metadata": {},
   "outputs": [],
   "source": [
    "len(predmeti)"
   ]
  },
  {
   "cell_type": "markdown",
   "metadata": {},
   "source": [
    "## 2.3. Prikazivanje niza podataka"
   ]
  },
  {
   "cell_type": "markdown",
   "metadata": {},
   "source": [
    "Sljedeća ćelija prikazuje procijenjenu populaciju našeg planeta u različitim povijesnim razdobljima, sa brojem ljudi izraženim u milijardama:"
   ]
  },
  {
   "cell_type": "code",
   "execution_count": null,
   "metadata": {},
   "outputs": [],
   "source": [
    "godine       = [1000,  1500, 1650, 1750, 1804, 1850, 1900, 1930, 1950, 1960, 1974, 1980, 1987, 1999, 2011, 2020, 2023, 2030, 2037, 2045, 2055, 2100]\n",
    "ljudi  = [0.275, 0.45, 0.5,  0.7,  1,    1.2,  1.6,  2,    2.55, 3,    4,    4.5,  5,    6,    7,    7.8,  8,    8.5,  9,    9.5,  10,   11.2]"
   ]
  },
  {
   "cell_type": "markdown",
   "metadata": {},
   "source": [
    "Željeli bismo prikazati ove podatke u obliku grafikona (`prikazati ih`) jer su ljudi najlakši i najbrži način obrade vizualnih podataka. (Vjerojatno znate izreku da `jedna slika vrijedi više od tisuću riječi`.)\n",
    "\n",
    "Python ima razne biblioteke za vizualizaciju podataka, a mi ćemo koristiti knjižnicu koja se zove `matplotlib.pyplot`. Kako je ovaj naziv vrlo dugačak i kompliciran i budući da će nam trebati brojne funkcije iz te biblioteke, nećemo uvoziti funkcije jednu po jednu, već ćemo uvesti cijelu biblioteku dok joj dajemo kraći naziv (tako reći) `plt`. (Engleska riječ plot znači \"plot\", a plt je kratica za plot.)"
   ]
  },
  {
   "cell_type": "code",
   "execution_count": null,
   "metadata": {},
   "outputs": [],
   "source": [
    "import matplotlib.pyplot as plt"
   ]
  },
  {
   "cell_type": "markdown",
   "metadata": {},
   "source": [
    "Sada su nam dostupne sve značajke u ovoj biblioteci. Važno je napomenuti da se _jedan_ `import` _odnosi na čitavu radnu knjižicu!_ Dakle, dovoljno je jednom uvesti biblioteku u radnu knjižicu. Važno je također reći da ćemo u novoj radnoj knjižici morati ponovno uvesti biblioteku koje nam trebaju za rad.\n",
    "\n",
    "**Jedan import po radnoj knjižici!**\n",
    "\n",
    "Ako zabrljate i pokušate uvesti knjižnicu dva puta - bez brige. Python se neće pobuniti, ali neće gubiti vrijeme dvaput učitati istu biblioteku.\n",
    "\n",
    "Natrag na crtež grafikona. Najjednostavniji grafikon može se dobiti kako slijedi:"
   ]
  },
  {
   "cell_type": "code",
   "execution_count": null,
   "metadata": {},
   "outputs": [],
   "source": [
    "plt.plot(godine, ljudi)\n",
    "plt.show()\n",
    "plt.close()"
   ]
  },
  {
   "cell_type": "markdown",
   "metadata": {},
   "source": [
    "Funkcija `plot(years, population)` nalaže sustavu da crta graf koji prikazuje podatke iz niza `godine` na vodoravnoj osi ($x$-osi), i okomitoj osi ($y$-osi) podaci iz niza `ljudi`. Funkcija `show` tada prikazuje grafikon. (Engleska riječ plot znači „privući“, a engleska riječ _show_ znači „pokazati“.) Napokon, funkcija `close` završava rad na grafikonu (engleska riječ _close_ znači „zatvoriti“).\n",
    "\n",
    "Vidimo da su podaci predstavljeni linijom. Zato se ova vrsta grafikona naziva _linijski grafikon_.\n",
    "\n",
    "Budući da nismo uvezli pojedinačne funkcije, već smo uveli čitavu biblioteku pod nadimkom `plt` funkcije `plot`, `show` i `close` moramo povati \"punim imenom  i prezimenom\": `plt.plot`, `plt.show` i `plt.close`.\n",
    "\n",
    "U narednom koraku ćemo grafikonu dodati naslov koristeći funkciju `title` (engleska reč _title_ znači \"naslov\"):"
   ]
  },
  {
   "cell_type": "code",
   "execution_count": null,
   "metadata": {},
   "outputs": [],
   "source": [
    "plt.plot(godine, ljudi)\n",
    "plt.title(\"Broj stanovnika na Zemlji\")\n",
    "plt.show()\n",
    "plt.close()"
   ]
  },
  {
   "cell_type": "markdown",
   "metadata": {},
   "source": [
    "Na okomitu os možemo staviti i oznaku da naglasimo da su brojke u milijardama. Da bismo to učinili, koristimo funkciju `ylabel` (\"oznaka na $y$-osi\"; engleska riječ _label_ znači \"oznaka\"):"
   ]
  },
  {
   "cell_type": "code",
   "execution_count": null,
   "metadata": {},
   "outputs": [],
   "source": [
    "plt.plot(godine, ljudi)\n",
    "plt.title(\"Broj stanovnika na Zemlji\")\n",
    "plt.ylabel(\"(milijarde)\")\n",
    "plt.show()\n",
    "plt.close()"
   ]
  },
  {
   "cell_type": "markdown",
   "metadata": {},
   "source": [
    "Za zaključak: grafikon funkcija `plot`, `title` i `ylabel` u grafikon dodajemo podatke, a tek kada na grafikon unesemo sve podatke koje želimo imati, crtamo grafikon pozivajući funkciju `show`. Napokon, pozivamo funkciju `close` da počisti nakon nas."
   ]
  },
  {
   "cell_type": "markdown",
   "metadata": {},
   "source": [
    "## 2.4. Zadaci"
   ]
  },
  {
   "cell_type": "markdown",
   "metadata": {},
   "source": [
    "**Zadatak 1.** Sljedeći program crta grafikon koji predstavlja procijenjeni broj ljudi na Zemlji u raznim periodima:"
   ]
  },
  {
   "cell_type": "code",
   "execution_count": null,
   "metadata": {},
   "outputs": [],
   "source": [
    "import matplotlib.pyplot as plt\n",
    "plt.plot(godine, ljudi)\n",
    "plt.title(\"Broj stanovnika na Zemlji\")\n",
    "plt.ylabel(\"(milijarde)\")\n",
    "plt.show()\n",
    "plt.close()"
   ]
  },
  {
   "cell_type": "markdown",
   "metadata": {},
   "source": [
    "1. Čemu služi naredba `import ... as ..`?\n",
    "2. Zašto pišemo `plt.plot`, a ne `plot`?\n",
    "3. Čemu služi funkcija `plot`?\n",
    "4. Čemu služi funkcije `title` i `ylabel`?\n",
    "5. Čemu služi funkcije `show` i `close`?\n",
    "\n",
    "Sljedeće primjere riješite u Jupyteru."
   ]
  },
  {
   "cell_type": "markdown",
   "metadata": {},
   "source": [
    "**Zadatak 2.** Sljedeća ćelija daje podatke o težini (u kilogramima) i dužini/visini (u centimetrima) jednog dječaka u dobi od šest mjeseci do dobi od 6,5 godina."
   ]
  },
  {
   "cell_type": "code",
   "execution_count": null,
   "metadata": {},
   "outputs": [],
   "source": [
    "mjerenja    = [\"6 mje\", \"1.5 god\", \"2.5 god\", \"3.5 god\", \"4.5 god\", \"5.5 god\", \"6.5 god\"]\n",
    "težinaKG  = [5.9,   11.5,    14.8,    20.5,    22.0,    24.2,    29.0   ]\n",
    "visinaCM  = [62.0,  84.0,    97.0,    115.0,   122.5,   131.5,   135.0  ]"
   ]
  },
  {
   "cell_type": "markdown",
   "metadata": {},
   "source": [
    "Pokažite s jednim grafikonom kako se mijenjala njegova težina, a drugim kako se mijenjala njegova visina."
   ]
  },
  {
   "cell_type": "markdown",
   "metadata": {},
   "source": [
    "**Zadatak 3.** _Indeks tjelesne mase_, BMI, je kvocijent tjelesne mase izražen u kilogramima i kvadratnom visinom tijela u metrima:\n",
    "\n",
    "$$\\hbox{BMI} = \\frac{\\hbox{težina u kilogramima}}{(\\hbox{visina u metrima})^2}$$\n",
    "\n",
    "Za dječaka iz zadatka 2 na grafikonu pokažite promjenu u njegovom indeksu tijelesne težine. Sljedeći mali program Python koji izračunava svoje indekse tjelesne težine za svako mjerenje može vam pomoći:"
   ]
  },
  {
   "cell_type": "code",
   "execution_count": null,
   "metadata": {},
   "outputs": [],
   "source": [
    "BMI = [0, 0, 0, 0, 0, 0, 0]\n",
    "for i in range(0, 7):\n",
    "    BMI[i] = težinaKG[i] / (visinaCM[i] / 100.0)**2"
   ]
  },
  {
   "cell_type": "markdown",
   "metadata": {},
   "source": [
    "**Zadatak 4.**  Kina se procjenjuje na 1.7.2019. imala je 1.420.062.022 stanovnika. Kinesko stanovništvo se svake godine povećava za 0,35%. Pod pretpostavkom da se godišnji rast stanovništva u Kini neće promijeniti, grafikon očekivanog broja stanovnika Kine u sljedećih deset godina."
   ]
  },
  {
   "cell_type": "code",
   "execution_count": null,
   "metadata": {},
   "outputs": [],
   "source": []
  }
 ],
 "metadata": {
  "kernelspec": {
   "display_name": "Python 3",
   "language": "python",
   "name": "python3"
  },
  "language_info": {
   "codemirror_mode": {
    "name": "ipython",
    "version": 3
   },
   "file_extension": ".py",
   "mimetype": "text/x-python",
   "name": "python",
   "nbconvert_exporter": "python",
   "pygments_lexer": "ipython3",
   "version": "3.7.6"
  }
 },
 "nbformat": 4,
 "nbformat_minor": 2
}
