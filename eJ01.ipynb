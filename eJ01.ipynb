{
 "cells": [
  {
   "cell_type": "markdown",
   "metadata": {},
   "source": [
    "# 1. Uvod u Jupyter\n",
    "\n",
    "U ovoj lekciji naučit ćete:\n",
    "1. što je Jupyter, kako se krećete po Jupyterovoj bilježnici i kako se Jupyterova radna bilježnica koristi za izračunavanje pojmova;\n",
    "2. kako se varijable koriste u Jupiteru i kako se radna knjiga koristi za pokretanje manjih Python programa; i\n",
    "3. što su biblioteke funkcija i kako se nazivaju funkcije iz standardnih biblioteka."
   ]
  },
  {
   "cell_type": "markdown",
   "metadata": {},
   "source": [
    "## 1.1. Jupyter može računati\n",
    "\n",
    "Jupyter je interaktivna radna knjiga u koju možete unijeti tekst (poput teksta koji upravo čitate), izračunati, pokrenuti programe Python, obraditi podatke, prikazati podatke u tablicama i dijagramima i još mnogo toga.\n",
    "\n",
    "Svaka Jupyter _radna knjiga_ sastoji se od niza _ćelija_, a svaka ćelija može sadržavati tekst, matematički izraz ili skup naredbi Python. Za sada nećemo objasniti kako se tekst upisuje u Jupiterovu ćeliju, ali ćemo usmjeriti našu pozornost na brojanje izraza i izvršavanje Python naredbi.\n",
    "\n",
    "Kada se izraz unese u Jupiterovu ćeliju ili Python naredbu, sadržaj ćelije može se izračunati klikom na gumb **Run** na vrhu stranice:\n",
    "\n",
    "![Evaluating a cell](pics/JupyterMenuRun.jpg)\n",
    "\n",
    "ili se na tipkovnici pritisne [CTRL]+[ENTER]\n",
    "\n",
    "Evo primjera:"
   ]
  },
  {
   "cell_type": "code",
   "execution_count": null,
   "metadata": {},
   "outputs": [],
   "source": [
    "3 * 19"
   ]
  },
  {
   "cell_type": "code",
   "execution_count": null,
   "metadata": {},
   "outputs": [],
   "source": [
    "(12 + 51) * 14"
   ]
  },
  {
   "cell_type": "code",
   "execution_count": null,
   "metadata": {},
   "outputs": [],
   "source": [
    "2**(5**3)"
   ]
  },
  {
   "cell_type": "markdown",
   "metadata": {},
   "source": [
    "Podsjetimo da dvije zvijezde na Pythonu predstavljaju eksponencijaciju."
   ]
  },
  {
   "cell_type": "markdown",
   "metadata": {},
   "source": [
    "## 1.2. Jupyter može koristiti varijable i izvršavati Python naredbe\n",
    "\n",
    "Ponekad je prikladno imenovati vrijednosti, posebno kad su u pitanju složeni brojevi poput $\\pi$ kad su u pitanju složeni izrazi. Kasnije možemo koristiti te vrijednosti navodeći ime koje smo im dali. Primjerice, procjenjuje se da 1.7.2019. na svijetu bilo 7 714,576,923. Naredba\n",
    "\n",
    "`WorldPopulation_2019 = 7714576923`\n",
    "\n",
    "će u sistemu uvesti novu varijablu `WorldPopulation_2019` kojoj će biti dodijeljena vrijednost `7714576923`. Da se podsjetimo: imena varijabli u Pythonu moraju početi slovom i mogu sadržavati slova, brojeve i znak `_` (donja crta)."
   ]
  },
  {
   "cell_type": "code",
   "execution_count": null,
   "metadata": {},
   "outputs": [],
   "source": [
    "WorldPopulation_2019 = 7714576923"
   ]
  },
  {
   "cell_type": "markdown",
   "metadata": {},
   "source": [
    "Nakon izvršenja ove ćelije sustav neće vratiti nikakav odgovor. Jednostavno je zapamtio da varijabla `WorldPopulation_2019` ima vrijednost 7.714.576.923. Procjenjuje se da u gradovima živi 27,8% svjetskog stanovništva. To znači da u gradovima žive ljudi:"
   ]
  },
  {
   "cell_type": "code",
   "execution_count": null,
   "metadata": {},
   "outputs": [],
   "source": [
    "WorldPopulation_2019 * 27.8 / 100"
   ]
  },
  {
   "cell_type": "markdown",
   "metadata": {},
   "source": [
    "Imajte na umu da Python pri pisanju decimalnih brojeva koristi _decimalnu točku_, a ne decimalni zarez kako je propisano našim pravopisom!\n",
    "\n",
    "Da se podsjetimo: riječ _posto_ comes dolazi od latinskog _pro centum_ što znači \"sto\". Zbog toga\n",
    "$$\n",
    "  47\\% = \\frac{47}{100} = \\text{četrdeset sedam posto}.\n",
    "$$\n",
    "\n",
    "Na primjer, u jednoj školi s 856 učenika 25% je izvrsno. Koliko je sjajnih učenika u toj školi?\n",
    "\n",
    "_Odgovor._ U toj školi ima 214 sjajnih učenika jer je\n",
    "$$\n",
    "  856 \\cdot 25\\% = 856 \\cdot \\frac{25}{100} = 214.\n",
    "$$\n",
    "\n",
    "U istoj je školi 326 učenika s dobrim prosjekom. Koliki je postotak ukupnog broja učenika?\n",
    "\n",
    "_Odgovor._ Neka bude $x\\%$ učenika. Tada je\n",
    "$$\n",
    "  856 \\cdot x\\% = 856 \\cdot \\frac{x}{100} = 326.\n",
    "$$\n",
    "Odavde je lako dobiti:\n",
    "$$\n",
    "  x = \\frac{326 \\cdot 100}{856} \\approx 38.08.\n",
    "$$\n",
    "Dakle, otprilike $38.08\\%$ učenici te škole imaju dobar uspjeh.\n",
    "\n",
    "Sada ćemo riješiti još jedan zadatak.\n",
    "\n",
    "**Zadatak.** Milica je htjela kupiti hlače koje koštaju 6.799,99 kuna, ali mama joj je rekla da su preskupe. Zbog toga je Milica čekala sezonu s popustima i sljedeći put kad je posjetila trgovinu vidjela da je cijena hlača snižena za 25% off. Mama je pristala kupiti hlače po sniženoj cijeni. Kad su došli u blagajnu, bili su ugodno iznenađeni što su dobili već 3% popusta na već sniženu cijenu jer je mama platila hlače u gotovini. Koliko su koštale hlače?"
   ]
  },
  {
   "cell_type": "code",
   "execution_count": null,
   "metadata": {},
   "outputs": [],
   "source": [
    "price = 6799.99\n",
    "discount1 = price * 25 / 100\n",
    "new_price = price - discount1\n",
    "discount2 = new_price * 3 / 100\n",
    "new_price - discount2"
   ]
  },
  {
   "cell_type": "markdown",
   "metadata": {},
   "source": [
    "Prve četiri naredbe su naredbe dodjele: nekim vrijednostima dodijelimo neke vrijednosti. Posljednja naredba sadrži samo matematički izraz. Budući da radimo u _interaktivnom okruženju_ (što znači da Jupyter odmah odgovara na pitanja koja mu postavljamo), ako je zadnja naredba u ćeliji samo izraz, sustav će vratiti vrijednost tog izraza kao rezultat izvršenja ćelije.\n",
    "\n",
    "Mogli smo napisati prethodni program ovako:"
   ]
  },
  {
   "cell_type": "code",
   "execution_count": null,
   "metadata": {},
   "outputs": [],
   "source": [
    "price = 6799.99\n",
    "discount1 = price * 25 / 100\n",
    "new_price = price - discount1\n",
    "discount2 = new_price * 3 / 100\n",
    "print(\"Hlace su na kraju koštale $\", new_price - discount2, sep=\"\")"
   ]
  },
  {
   "cell_type": "markdown",
   "metadata": {},
   "source": [
    "Ovog puta naredba `print` _ispisuje_ vrijednost izraza, a sustav _ne vraća ništa kao rezultat izvršenja ćelije_ (primjetite da nakon izvršenja ćelije sustav nije vratio odgovor u obliku `Out[ ]:`).\n",
    "\n",
    "Pri radu s interaktivnim okruženjima prikladno je usvojiti sljedeći način: naredbu `print` koristimo samo u situacijama kada moramo prikazati vrijednosti nekoliko izraza ili ako želimo ispis učiniti malo ljepšim, kao u prethodnom primjeru."
   ]
  },
  {
   "cell_type": "markdown",
   "metadata": {},
   "source": [
    "## 1.3. Biblioteka funkcija"
   ]
  },
  {
   "cell_type": "markdown",
   "metadata": {},
   "source": [
    "U modernim programskim jezicima, a Python je jedan od njih, nevjerojatne stvari se mogu napraviti jer dolaze s obiljem _funkcija_ koje su već isprogramirane. To uvelike pojednostavljuje život korisnika sustava (ili programera): većina stvari koje su prosječnom korisniku potrebne već programirane, samo trebaju pronaći pravu funkciju!\n",
    "\n",
    "Kako bi se korisnicima olakšalo kretanje po ovom obilju, sve značajke koje dolaze s programskim jezikom (ili odgovarajućim okruženjem) grupiraju se u _biblioteke funkcija_. Recimo da se biblioteka matematičkih funkcija naziva `math`. Sadrži funkcije poput `sqrt` (koji izračunava _kvadratni korijen_), `sin` (koji izračunava _sinus_ kuta) i `cos` (koji izračunava _kosinus_ kuta), ali i matematičke konstante poput `pi` (što predstavlja dobru _aproksimaciju_ broja $\\pi$).\n",
    "\n",
    "Na primjer, program koji izračunava opseg kruga određenog polumjera izgleda ovako:"
   ]
  },
  {
   "cell_type": "code",
   "execution_count": null,
   "metadata": {},
   "outputs": [],
   "source": [
    "from math import pi\n",
    "r = float(input(\"Unesite polumjer kruga: \"))\n",
    "obujam = 2 * r * pi\n",
    "print(\"Obujam kruga je:\", obujam)"
   ]
  },
  {
   "cell_type": "markdown",
   "metadata": {},
   "source": [
    "Prvi red u ovom programu pokazuje kako funkciju ili konstantu koja nam je potrebna možemo uvesti iz biblioteke:\n",
    "Naredba\n",
    "\n",
    "`from math import pi`\n",
    "\n",
    "doslovno znači: iz biblioteke `math` unesi pojam `pi`. Time smo u program unijeli ime `pi` i možemo ga koristiti.\n",
    "\n",
    "Evo još jednog primjera. Napisat ćemo Python program koji određuje hipotenuzu $c$ pravokutnog trokuta ako znamo njegove katete $a$ i $b$. (Podsjetimo se, prema Pitagorinoj teoriji je $c = \\sqrt{a^2 + b^2}$.)\n",
    "\n",
    "Za ovaj program će nam trebati funkcija `sqrt` koja računa korjen nekog broja i koja se također nalazi u biblioteci `math`."
   ]
  },
  {
   "cell_type": "code",
   "execution_count": null,
   "metadata": {},
   "outputs": [],
   "source": [
    "from math import sqrt\n",
    "a = float(input(\"Unesi katetu a = \"))\n",
    "b = float(input(\"Unesi katetu b = \"))\n",
    "c = sqrt(a**2 + b**2)\n",
    "print(\"Hipotenuza c je =\", c)"
   ]
  },
  {
   "cell_type": "markdown",
   "metadata": {},
   "source": [
    "Prethodna dva primjera su potpuni mali programi: ubacili smo podatke s naredbom `input` pravilno ih obradili i rezultate ispisali naredbom `print`.\n",
    "\n",
    "Rad s interaktivnim okruženjima omogućava nam pisanje „komada koda“ umjesto čitavih programa koje možemo izmijeniti onako kako smatramo prikladnim i izvršavati ih onoliko puta koliko želimo. To olakšava eksperimentiranje s podacima (što je važan dio suvremenog razumijevanja obrade podataka i o kojem će biti govora kasnije), a štedi vrijeme. Tada obično ne koristimo naredbu `input`, već vrijednosti koje nas izravno zanimaju unose u kod.\n",
    "\n",
    "Na primjer, možemo riješiti prethodni problem (izračunavanje hipotenuze pravokutnok trokuta) u interaktivnom okruženju i ovako:"
   ]
  },
  {
   "cell_type": "code",
   "execution_count": null,
   "metadata": {},
   "outputs": [],
   "source": [
    "from math import sqrt\n",
    "a, b = 3, 4\n",
    "sqrt(a**2 + b**2)"
   ]
  },
  {
   "cell_type": "markdown",
   "metadata": {},
   "source": [
    "Naredba `a, b = 3, 4` znači da će `a` dobiti vrijednost 3, a `b` vrijednost 4. Rezultat izvršavanja ćelije je vrijednost izraza `sqrt(a**2 + b**2)`."
   ]
  },
  {
   "cell_type": "markdown",
   "metadata": {},
   "source": [
    "## 1.4. Zadaci"
   ]
  },
  {
   "cell_type": "markdown",
   "metadata": {},
   "source": [
    "Zadaci koji slijede riješi u Jupyteru.\n",
    "\n",
    "**Zadatak 1.** \n",
    "\n",
    "_(a)_ Jedna je knjiga koštala 2460 kuna, a tada je knjižara snizila cijenu za 20%. Koliko knjiga sada košta?\n",
    "\n",
    "_(b)_ Druga knjiga u istoj knjižari, nakon 20% popusta, košta 1480 kuna. Koliko je koštala prije popusta?"
   ]
  },
  {
   "cell_type": "markdown",
   "metadata": {},
   "source": [
    "**Zadatak 2.** Procjenjuje se da je Kina dana 1.7.2019. imala je 1.420.062.022 stanovnika. Kinesko stanovništvo se svake godine povećava za 0,35%. Pod pretpostavkom da se godišnji rast stanovništva u Kini neće promijeniti, koliko će ljudi imati Kine 2020. godine?"
   ]
  },
  {
   "cell_type": "code",
   "execution_count": null,
   "metadata": {},
   "outputs": [],
   "source": []
  },
  {
   "cell_type": "markdown",
   "metadata": {},
   "source": [
    "**Zadatak 3*.** Procjenjuje se da je Kina 01.07.2019. imala je 1.420.062.022 stanovnika, a Indija 1,368,737,513. Kinesko se stanovništvo svake godine povećava za 0,35%, a u Indiji 1,08%. Nakon koliko godina će Indija nadmašiti Kinu kad je riječ o broju stanovnika, pod pretpostavkom da se godišnji rast stanovništva neće promijeniti u nijednoj od ove dvije zemlje?"
   ]
  },
  {
   "cell_type": "code",
   "execution_count": null,
   "metadata": {},
   "outputs": [],
   "source": []
  },
  {
   "cell_type": "markdown",
   "metadata": {},
   "source": [
    "**Zadatak 4.** Napišite Python program koji učitava polumjer kruga, a zatim izračunava i ispisuje njegovu površinu. (Pomoć: `pi` se nalazi u biblioteci `math`.)"
   ]
  },
  {
   "cell_type": "code",
   "execution_count": null,
   "metadata": {},
   "outputs": [],
   "source": []
  },
  {
   "cell_type": "markdown",
   "metadata": {},
   "source": [
    "**Zadatak 5.** Udaljenost dvije točke zadane u ravnini prema njenim koordinatama $A(x_1, y_1)$ and $B(x_2, y_2)$ može se izračunati formulom\n",
    "\n",
    "$$d(A, B) = \\sqrt{(x_1 - x_2)^2 + (y_1 - y_2)^2}$$\n",
    "\n",
    "Napišite program Python koji učitava koordinate dviju točaka u ravnini, a zatim izračunava i ispisuje njihove udaljenosti. (Pomoć: `sqrt` je u biblioteci `math`; ako vam se ova formula čini zastrašujuća, ne brinite: to je samo prekrivena Pitagorina teorija!)."
   ]
  },
  {
   "cell_type": "code",
   "execution_count": null,
   "metadata": {},
   "outputs": [],
   "source": []
  },
  {
   "cell_type": "markdown",
   "metadata": {},
   "source": [
    "**Zadatak 6.** _Faktorski_ broj $n$ je proizvod svih brojeva 1 do $n$ i označen je kao:\n",
    "\n",
    "$$n! = 1 \\cdot 2 \\cdot 3 \\cdot \\dots \\cdot n.$$\n",
    "\n",
    "Izračunaj broj 200! i odredite s koliko nula završava. (Pomoć: biblioteka `math` ima funkciju `factorial`.)"
   ]
  },
  {
   "cell_type": "code",
   "execution_count": null,
   "metadata": {},
   "outputs": [],
   "source": []
  },
  {
   "cell_type": "markdown",
   "metadata": {},
   "source": [
    "**Zadatak 7*.** Upotrebom dijela koda navedenog u donjoj ćeliji pronađite drugi par cjelobrojnih brojeva $a$ i $b$, tako da je hipotenuza desnog trokuta s katetama $a$ i $b$ cijeli broj. Umjesto `3, 4` unesite drugi par cijelih brojeva, izvršite ćeliju i eksperimentirajte! (Takve trostruke cjelobrojne vrijednosti zovu se Pitagorine trojke.)"
   ]
  },
  {
   "cell_type": "code",
   "execution_count": null,
   "metadata": {},
   "outputs": [],
   "source": [
    "from math import sqrt\n",
    "a, b = 3, 4\n",
    "sqrt(a**2 + b**2)"
   ]
  }
 ],
 "metadata": {
  "kernelspec": {
   "display_name": "Python 3",
   "language": "python",
   "name": "python3"
  },
  "language_info": {
   "codemirror_mode": {
    "name": "ipython",
    "version": 3
   },
   "file_extension": ".py",
   "mimetype": "text/x-python",
   "name": "python",
   "nbconvert_exporter": "python",
   "pygments_lexer": "ipython3",
   "version": "3.7.6"
  }
 },
 "nbformat": 4,
 "nbformat_minor": 2
}
