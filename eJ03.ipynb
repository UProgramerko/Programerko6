{
 "cells": [
  {
   "cell_type": "markdown",
   "metadata": {},
   "source": [
    "# 3. Grafikoni i boje\n",
    "\n",
    "U ovoj lekciji naučit ćete:\n",
    "1. još jedan način za pomicanje stanica unutar Jupyterove radne knjižice;\n",
    "2. kako prikazati podatke u grafikonima; i\n",
    "3. kako prikazati grafikone u različitim bojama."
   ]
  },
  {
   "cell_type": "markdown",
   "metadata": {},
   "source": [
    "## 3.1. Još malo o Jupyterovoj radnoj knižici"
   ]
  },
  {
   "cell_type": "markdown",
   "metadata": {},
   "source": [
    "Nekoliko smo puta rekli da se Jupyterova radna knjiga sastoji od niza ćelija, a svaka ćelija može sadržavati tekst, matematički izraz ili niz Python naredbi. Red gumba na vrhu stranice omogućuje vam manipuliranje Jupyterovim radnim knjigama na različite načine. Do sada smo se sreli:\n",
    "\n",
    "- gumb **Run** koji izvršava ćelije,\n",
    "- gumb nalik na disketu koji nam omogućava snimanje radne knjižice,\n",
    "- gumb **+** koji dodaje novu ćeliju ispod aktivne ćelije, i\n",
    "- strelice gore i dolje koje radnu ćeliju pomiču jedno mjesto gore ili dolje.\n",
    "\n",
    "Sljedeća tri gumba:\n",
    "\n",
    "![Three more buttons](pics/JupyterMenuCutCopyPaste.jpg)\n",
    "\n",
    "omogućuju ćelijama da obavljaju standardne operacije nazvane engleskim _cut_ (rez, gumb \"škare\"), _copy_ (iskopiraj, gumb \"dva lista papira\") i _paste_ (zalijepi, \"listovi papira koji se dodaju na radnu površinu\").\n",
    "\n",
    "Ako želite **premjestiti ćeliju:**\n",
    "1. kliknite tu ćeliju,\n",
    "2. kliknite gumb _cut_ (gumb škare),\n",
    "3. kliknite negdje drugdje u radnoj knjizi za Jupyteru, i na kraju\n",
    "4. kliknite gumb _paste_ (gumb \"list papira koji se dodaje radnoj površini\").\n",
    "\n",
    "Ova se operacija ukratko naziva _cut/paste_.\n",
    "\n",
    "Ako želite **kopirati ćeliju:**\n",
    "1. kliknite tu ćeliju,\n",
    "2. kliknite gumb za _cut_ (gumb \"dva lista papira\"),\n",
    "3. kliknite negdje drugdje u radnoj knjizi za Jupyteru, i na kraju\n",
    "4. kliknite gumb _paste_ (gumb \"list papira koji se dodaje radnoj površini\").\n",
    "\n",
    "Ova se operacija ukratko naziva _copy/paste_."
   ]
  },
  {
   "cell_type": "markdown",
   "metadata": {},
   "source": [
    "## 3.2. Grafikoni"
   ]
  },
  {
   "cell_type": "markdown",
   "metadata": {},
   "source": [
    "U situacijama kada nema puno podataka, prikladno je prikazati ih nizom stupaca. Takvi se dijagrami nazivaju _grafikoni_ ili (na engleskom bar charts).\n",
    "\n",
    "Budući da ćemo opet crtati grafikon, prvo ćemo predstaviti biblioteku za crtanje grafikona i dati joj kratko ime:"
   ]
  },
  {
   "cell_type": "code",
   "execution_count": null,
   "metadata": {},
   "outputs": [],
   "source": [
    "import matplotlib.pyplot as plt"
   ]
  },
  {
   "cell_type": "markdown",
   "metadata": {},
   "source": [
    "Da se podsjetimo: biblioteka nam je dostupna u ovoj radnoj knjižici, ali za drugu radnu knjižicu moramo je ponovo unijeti (iz te radne knjižice).\n",
    "\n",
    "Pretpostavimo da je jedan student u semestru imao sljedeće ocjene:\n",
    "\n",
    "| Predmet | Ocjena |\n",
    "|---------|-------|\n",
    "| Matematika | 2 |\n",
    "| Engleski | 4 |\n",
    "| Likovni | 5 |\n",
    "| Povijest | 3 |\n",
    "| Tjelesni | 5 |\n",
    "| Glazbeni | 4 |\n",
    "| Tehnička kultura | 5 |\n",
    "\n",
    "Podatke možemo prikazati pomoću dvije liste:"
   ]
  },
  {
   "cell_type": "code",
   "execution_count": null,
   "metadata": {},
   "outputs": [],
   "source": [
    "predmeti = [\"Mat\", \"Eng\", \"Lik\", \"Pov\", \"Tje\", \"Gla\", \"Teh\"]\n",
    "ocjene    = [2,        4,     5,      3,      5,    4,       5    ]"
   ]
  },
  {
   "cell_type": "markdown",
   "metadata": {},
   "source": [
    "Grafički ih možemo prikazati nizom stupaca pomoću funkcije `bar`. Ova vrsta dijagrama na engleskom jeziku se zove _bar chart_, a nazivamo ga i grafikoni:"
   ]
  },
  {
   "cell_type": "code",
   "execution_count": null,
   "metadata": {},
   "outputs": [],
   "source": [
    "plt.bar(predmeti, ocjene)\n",
    "plt.title(\"Ocjene na polugodištu\")\n",
    "plt.show()\n",
    "plt.close()"
   ]
  },
  {
   "cell_type": "markdown",
   "metadata": {},
   "source": [
    "Ako želite povećati veličinu grafikona, možete koristiti funkciju `figure` s parametrima `figuresize` (engleska riječ _figure_ znači \"ilustracija, prikaz\", dok engleska riječ _size_ znači \"veličina\"):"
   ]
  },
  {
   "cell_type": "code",
   "execution_count": null,
   "metadata": {},
   "outputs": [],
   "source": [
    "plt.figure(figsize=(10,5))\n",
    "plt.bar(predmeti, ocjene)\n",
    "plt.title(\"Ocjene na polugodištu\")\n",
    "plt.show()\n",
    "plt.close()"
   ]
  },
  {
   "cell_type": "markdown",
   "metadata": {},
   "source": [
    "Biblioteka crtanja dodjeljuje boju grafikona onako kako to odgovara. Ako nam se ne sviđa boja koju je odabrala knjižnica, boju možemo promijeniti opcijom `color`(\"boja\") promijeniti boju."
   ]
  },
  {
   "cell_type": "code",
   "execution_count": null,
   "metadata": {},
   "outputs": [],
   "source": [
    "plt.figure(figsize=(10,5))\n",
    "plt.bar(predmeti, ocjene, color=\"g\")\n",
    "plt.title(\"Ocjene na polugodištu\")\n",
    "plt.show()\n",
    "plt.close()"
   ]
  },
  {
   "cell_type": "markdown",
   "metadata": {},
   "source": [
    "Dijagram je sada nacrtan zelenom bojom (\"g\" = _green_ = zeleno). Možemo koristiti sljedeće boje:\n",
    "\n",
    "| Slovo | Boja (eng) | Boja (hrv) |\n",
    "|-------|------------|------------|\n",
    "|\"b\"|blue|plava|\n",
    "|\"g\"|green|zelena|\n",
    "|\"r\"|red|crvena|\n",
    "|\"c\"|cyan|svijetloplava|\n",
    "|\"m\"|magenta|roza|\n",
    "|\"y\"|yellow|žuta|\n",
    "|\"k\"|black|crna|\n",
    "|\"w\"|white|bijela|"
   ]
  },
  {
   "cell_type": "markdown",
   "metadata": {},
   "source": [
    "## 3.3. Prikazivanje dvije grupe podataka na istom grafikonu"
   ]
  },
  {
   "cell_type": "markdown",
   "metadata": {},
   "source": [
    "Na istom je grafikonu moguće prikazati dva skupa podataka. Evo primjera.\n",
    "\n",
    "\"Normalna tjelesna temperatura\" zapravo je interval temperatura koji se mijenja s godinama osobe. Kada se temperatura mjeri ispod pazuha, normalna tjelesna temperatura opisana je u sljedećoj tablici:\n",
    "\n",
    "| Dob | Temperatura ($^\\circ$C) |\n",
    "|--------|-----------------------------|\n",
    "| 0--2 godine | 34.7--37.3 |\n",
    "| 3--10 godine | 35.9--36.7 |\n",
    "| 11--65 godine | 35.2--36.9 |\n",
    "| preko 65 godina | 35.6--36.2 |\n",
    "\n",
    "U sljedećoj ćeliji iznijeli smo podatke u ovoj tablici sa nizovima:"
   ]
  },
  {
   "cell_type": "code",
   "execution_count": null,
   "metadata": {},
   "outputs": [],
   "source": [
    "godine        = [\"0-2\", \"3-10\", \"11-65\", \"65+\"]\n",
    "normalnaT_donja = [34.7,  35.9,   35.2,    35.6]\n",
    "normalnaT_gornja = [37.3,  36.7,   36.9,    36.2]"
   ]
  },
  {
   "cell_type": "markdown",
   "metadata": {},
   "source": [
    "e ćemo podatke prikazati na jednom grafikonu nabrajajući dvije `bar` naredbe:"
   ]
  },
  {
   "cell_type": "code",
   "execution_count": null,
   "metadata": {},
   "outputs": [],
   "source": [
    "plt.bar(godine, normalnaT_gornja)\n",
    "plt.bar(godine, normalnaT_donja)\n",
    "plt.title(\"Normalna tjelesna temperatura po starosnim grupama\")\n",
    "plt.xlabel(\"Starosne grupe (godine)\")\n",
    "plt.ylabel(\"Temperatura (C)\")\n",
    "plt.show()\n",
    "plt.close()"
   ]
  },
  {
   "cell_type": "markdown",
   "metadata": {},
   "source": [
    "Funkcije `xlabel` i `ylabel` dodavaju napomene na $x$-osi i $y$-osi.\n",
    "\n",
    "Ovaj je dijagram nečitljiv jer su razlike između donje i gornje granice normalne tjelesne temperature relativno male u usporedbi s podacima koje prikazujemo. Da bismo bolje vidjeli o kojim intervalima govorimo, možemo prikazati samo dio dijagrama koji se odnosi na veličine od recimo 34 stupnja Celzija do 39 stupnjeva Celzija koristeći `ylim` ($y$-limits, što znači, \"granica za y-os\")."
   ]
  },
  {
   "cell_type": "code",
   "execution_count": null,
   "metadata": {},
   "outputs": [],
   "source": [
    "plt.bar(godine, normalnaT_gornja)\n",
    "plt.bar(godine, normalnaT_donja)\n",
    "plt.ylim(34,39)\n",
    "plt.title(\"Normalna tjelesna temperatura po starosnim grupama\")\n",
    "plt.xlabel(\"Starosne grupe (godine)\")\n",
    "plt.ylabel(\"Temperatura (C)\")\n",
    "plt.show()\n",
    "plt.close()"
   ]
  },
  {
   "cell_type": "markdown",
   "metadata": {},
   "source": [
    "Važno je napomenuti da je redoslijed popisa naredbi `bar` važan jer knjižnica prvo crta više stupove, a preko njih niže! Ako promijenimo redoslijed  `bar` naredbi, dobit ćemo dijagram koji ne predstavlja ono što želimo - stupci koji predstavljaju donje granice nisu vidljivi jer je nad njima crtana druga skupina podataka:"
   ]
  },
  {
   "cell_type": "code",
   "execution_count": null,
   "metadata": {},
   "outputs": [],
   "source": [
    "plt.bar(godine, normalnaT_donja)\n",
    "plt.bar(godine, normalnaT_gornja)\n",
    "plt.ylim(34,39)\n",
    "plt.title(\"Normalna tjelesna temperatura po starosnim grupama\")\n",
    "plt.xlabel(\"Starosne grupe (godine)\")\n",
    "plt.ylabel(\"Temperatura (C)\")\n",
    "plt.show()\n",
    "plt.close()"
   ]
  },
  {
   "cell_type": "markdown",
   "metadata": {},
   "source": [
    "Dakle, moramo ovim redom:"
   ]
  },
  {
   "cell_type": "code",
   "execution_count": null,
   "metadata": {},
   "outputs": [],
   "source": [
    "plt.bar(godine, normalnaT_gornja)\n",
    "plt.bar(godine, normalnaT_donja)\n",
    "plt.ylim(34,39)\n",
    "plt.title(\"Normalna tjelesna temperatura po starosnim grupama\")\n",
    "plt.xlabel(\"Starosne grupe (godine)\")\n",
    "plt.ylabel(\"Temperatura (C)\")\n",
    "plt.show()\n",
    "plt.close()"
   ]
  },
  {
   "cell_type": "markdown",
   "metadata": {},
   "source": [
    "Nekome tko je samo pogledao dijagram i nije pažljivo pročitao tekst prije njega, nije sasvim jasno koje su informacije predstavljene plavom, a koje narančastim trakama. Stoga se u dijagram može dodati legenda koja daje dodatna objašnjenja.\n",
    "\n",
    "Prvo ćemo u obje naredbe `bar` dodati još jedan parametar `label=\"objašnjenje\"` \", koji ukratko opisuje podatke prikazane na tom dijelu dijagrama. Funkcija `legend` zatim crta legendu na dijagramu:"
   ]
  },
  {
   "cell_type": "code",
   "execution_count": null,
   "metadata": {},
   "outputs": [],
   "source": [
    "plt.bar(godine, normalnaT_gornja, label=\"gornja granica\")\n",
    "plt.bar(godine, normalnaT_donja, label=\"donja granica\")\n",
    "plt.ylim(34,39)\n",
    "plt.title(\"Normalna tjelesna temperatura po starosnim grupama\")\n",
    "plt.xlabel(\"Starosne grupe (godine)\")\n",
    "plt.ylabel(\"Temperatura (C)\")\n",
    "plt.legend()\n",
    "plt.show()\n",
    "plt.close()"
   ]
  },
  {
   "cell_type": "markdown",
   "metadata": {},
   "source": [
    "## 3.4. Zadaci"
   ]
  },
  {
   "cell_type": "markdown",
   "metadata": {},
   "source": [
    "**Zadatak 1.** Pogledaj sljedeći kod pa odgovori na pitanje:"
   ]
  },
  {
   "cell_type": "code",
   "execution_count": null,
   "metadata": {},
   "outputs": [],
   "source": [
    "import matplotlib.pyplot as plt\n",
    "plt.bar(godine, normalnaT_gornja, label=\"gornja granica\")\n",
    "plt.bar(godine, normalnaT_donja, label=\"donja granica\")\n",
    "plt.ylim(34,39)\n",
    "plt.title(\"Normalna tjelesna temperatura po starosnim grupama\")\n",
    "plt.xlabel(\"Starosne grupe (godine)\")\n",
    "plt.ylabel(\"Temperatura (C)\")\n",
    "plt.legend()\n",
    "plt.show()\n",
    "plt.close()"
   ]
  },
  {
   "cell_type": "markdown",
   "metadata": {},
   "source": [
    "1. Čemu služi funkcija `bar`?\n",
    "2. Kako bi izgledao grafikon kada bi dve funkcije `bar` zamijenile mjesta u ovom programu?\n",
    "3. Čemu služi funkcija `xlabel`?\n",
    "4. Čemu služi funkcije `ylim` i `legend`?\n",
    "5. Kako bi promijenio veličinu ovog grafikona (dimenzije pravokutnika u koji je graf pakiran)?\n",
    "6. Kako bi promijenio boju stupića koji pokazuju gornju granicu u žutu?\n",
    "\n",
    "Sljedeće zadatke riješi u Jupyteru."
   ]
  },
  {
   "cell_type": "markdown",
   "metadata": {},
   "source": [
    "**Zadatak 2.** Prvih deset mjesta na ATP listi na dan 21.07.2019. izgleda ovako:"
   ]
  },
  {
   "cell_type": "code",
   "execution_count": null,
   "metadata": {},
   "outputs": [],
   "source": [
    "tennis_players = [\"Đoković\", \"Nadal\", \"Federer\", \"Thiem\", \"Zverev\", \"Tsipras\", \"Nishikori\", \"Khachanov\", \"Fognini\", \"Medvedev\"]\n",
    "ATP_points     = [12415,      7945,    7460,      4595,   4325,     4045,       4040,        2890,        2785,      2625]"
   ]
  },
  {
   "cell_type": "markdown",
   "metadata": {},
   "source": [
    "Prikaži grafikon podatke o ATP bodovima prvih 10 tenisača na svijetu."
   ]
  },
  {
   "cell_type": "markdown",
   "metadata": {},
   "source": [
    "**Zadatak 3.** Biolozi su do danas opisali oko dva milijuna vrsta živih bića. Svi su podijeljeni u pet carstava. Njihov približan broj po carstvu dan je u sljedećoj tablici:\n",
    "\n",
    "| Carstvo  | Broj vrsta |\n",
    "|--|--|\n",
    "| Životinje | 1,400,000 |\n",
    "| Biljke    | 290,000 |\n",
    "| Gljive    | 100,000 |\n",
    "| Protisti | 200,000 |\n",
    "| Monere   | 10,000 |\n",
    "\n",
    "Prikaži ove podatke grafikonom."
   ]
  },
  {
   "cell_type": "markdown",
   "metadata": {},
   "source": [
    "**Zadatak 4.** Sljedeća tablica prikazuje najviše i najniže temperature (in $^\\circ$C) ikad izmjerene na kontinentima:\n",
    "\n",
    "|Kontinent:              | Europa | Azija  | Afrika | S. Amerika   | J. Amerika | Australija  | Antarktika |\n",
    "|------------------------|--------|-------|--------|-----------------|---------------|------------|-----------|\n",
    "|Najv. zabilježena temp:| 48     | 54    | 55     | 56.7            | 48.9          | 50.7       | 19.8      |\n",
    "|najn. zabilježena temp:| -58.1  | -67.8 | -23.9  | -63             | -32.8         | -23        | -89.2     |\n",
    "\n",
    "Prikažite oba niza podataka grafikonima na istom grafikonu. Neka su maksimalne temperature predstavljene crvenom bojom, a minimalne plavom. (Podaci preuzeti s https://www.space.com/17816-earth-temperature.html)."
   ]
  },
  {
   "cell_type": "markdown",
   "metadata": {},
   "source": [
    "**Zadatak 5.**\n",
    "\n",
    "_(a)_ Na Internetu saznajte što radi `barh` funkcija iz biblioteke `matplotlib`.\n",
    "\n",
    "_(b)_ Ako u rješenju prethodnog zadatka umjesto funkcije `bar` koristiti `barh` funkcija na oba mjesta, kako ćete dobiti graf?."
   ]
  },
  {
   "cell_type": "code",
   "execution_count": null,
   "metadata": {},
   "outputs": [],
   "source": []
  },
  {
   "cell_type": "markdown",
   "metadata": {},
   "source": [
    "**Zadatak 6*.** Procjenjuje se da je Kina 01.07.2019. imala 1.420.062.022 stanovnika, a Indija 1,368,737,513. Kinesko se stanovništvo svake godine povećava za 0,35%, a u Indiji 1,08%. Na istom dijagramu prikazujte očekivani broj stanovnika Kine i Indije u sljedećih deset godina, grafičkim crtama, pod pretpostavkom da se godišnji rast stanovništva u bilo kojoj od ove dvije zemlje neće promijeniti. \n",
    "\n",
    "Nakon koliko godina će Indija nadmašiti Kinu po broju stanovnika? Kako se to može vidjeti iz grafikona?"
   ]
  },
  {
   "cell_type": "code",
   "execution_count": null,
   "metadata": {},
   "outputs": [],
   "source": []
  }
 ],
 "metadata": {
  "kernelspec": {
   "display_name": "Python 3",
   "language": "python",
   "name": "python3"
  },
  "language_info": {
   "codemirror_mode": {
    "name": "ipython",
    "version": 3
   },
   "file_extension": ".py",
   "mimetype": "text/x-python",
   "name": "python",
   "nbconvert_exporter": "python",
   "pygments_lexer": "ipython3",
   "version": "3.7.6"
  }
 },
 "nbformat": 4,
 "nbformat_minor": 2
}
