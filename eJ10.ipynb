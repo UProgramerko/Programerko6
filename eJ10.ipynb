{
 "cells": [
  {
   "cell_type": "markdown",
   "metadata": {},
   "source": [
    "# 10. Jupyter i Excel\n",
    "\n",
    "U ovoj lekciji ćemo govoriti o:\n",
    "1. odnos Jupytera i Microsofta Excel-a;\n",
    "2. učitavanje tablica iz Excel datoteka; i\n",
    "3. pisanje tablica u Excel datoteke."
   ]
  },
  {
   "cell_type": "markdown",
   "metadata": {},
   "source": [
    "## 10.1. Zašto Jupyter i zašto Excel\n",
    "\n",
    "Microsoft Excel najpopularniji je program za proračunske tablice na svijetu. Svoju popularnost duguje činjenici da je tablica na kojoj radite točno tamo ispred vas, možete je vidjeti, možete kliknuti na ćeliju i unijeti vrijednost ili formulu. Tipičan je predstavnik filozofije _Ono što vidiš, je ono što dobiješ_ . Dakle, zašto smo se odlučili fokusirati ovaj tečaj na Jupyter?\n",
    "\n",
    "* _Cijena._ Microsoft Excel je komercijalni proizvod - košta novac. Za razliku od tog Python, sve njegove biblioteke koje prate i Jupyter kao interaktivno okruženje su _besplatni_.\n",
    "\n",
    "* _Jasno vidljivi postupci._ Obrada podataka u programu Microsoft Excell sastoji se od unošenja formula u ćelije. Ako radite s tablicom s zamršenim odnosima između stanica izraženih mnogim kompliciranim formulama raspoređenim po cijelom radnom listu, ubrzo postaje gotovo nemoguće pratiti protok informacija i, što je još važnije, razumjeti, ispraviti pogrešku i poboljšati postupak. S druge strane, ako je obrada izražena programskim jezikom (kao što je Python), mi gubimo _ono što vidite je ono što dobivate u Excelu_ , ali puno više dobivamo na čitljivosti koda. Jasni postupak smješten na jednom mjestu (Jupyterova ćelija ili Python datoteka) i kodiran jednostavnim i ekspresivnim programskim jezikom lako se može provjeriti za pogreške, nadograditi i podijeliti.\n",
    "\n",
    "* _Fleksibilnost._ Microsoft Excel prikladan je za obradu relativno malih tablica tako da se lako mogu uklopiti na nekoliko zaslona računala. Jednom kada se nađete u položaju u kojem morate obraditi ogromne tablice s tisućama redaka i stupaca, prednosti skriptnih jezika postaju očite. Štoviše, svaka Python distribucija dolazi s velikim brojem biblioteka u kojima je većina standardnih algoritama za obradu podataka su već implementirana.\n",
    "\n",
    "Korištenje jasno vidljivih postupaka koji se ne stapaju s podacima koji se analiziraju najefikasniji je način obrade podataka. To je kamen temeljac svakog pristupa moderne obrade podataka."
   ]
  },
  {
   "cell_type": "markdown",
   "metadata": {},
   "source": [
    "## 10.2. Učitavanje tablica iz lokalnih Excel datoteka\n",
    "\n",
    "Svaki Excel dokument sastoji se od nekoliko radnih listova. Svaki je radni list tablica kojoj se može pristupiti kroz njegovo ime:\n",
    "\n",
    "![Worksheets](pics/Excel.jpg)\n",
    "\n",
    "Budući da je Microsoft Excel najpopularniji program za proračunske tablice na svijetu, biblioteka _pandas_ ima način za učitavanje radnog lista Excelovog dokumenta u DataFrame. Ako se Excel dokument sastoji od više radnih listova, moramo ga učitati kao nekoliko DataFrames - jedan DataFrame po radnom listu.\n",
    "\n",
    "Na primjer, datoteka podataka _data/Additives.xlsx_ ima jedan radni list \"E-brojevi\" koji izravno postavljamo u DataFrame:"
   ]
  },
  {
   "cell_type": "code",
   "execution_count": null,
   "metadata": {},
   "outputs": [],
   "source": [
    "import pandas as pd\n",
    "aditivi = pd.read_excel(\"podaci/Aditivi.xlsx\", sheet_name=\"Aditivi\")"
   ]
  },
  {
   "cell_type": "markdown",
   "metadata": {},
   "source": [
    "Ova datoteka sadrži neke osnovne podatke o aditivima koji su tvari koje se koriste u prehrambenoj industriji za očuvanje hrane ili poboljšanje njihove boje i ukusa. Pogledajmo na stol:"
   ]
  },
  {
   "cell_type": "code",
   "execution_count": null,
   "metadata": {},
   "outputs": [],
   "source": [
    "aditivi.head(15)"
   ]
  },
  {
   "cell_type": "markdown",
   "metadata": {},
   "source": [
    "Stupci koji su bili prazni u Excelovoj tablici dobivaju posebnu NaN vrijednost, koja označava \"nije broj\". Budući da u našem slučaju ove ćelije predstavljaju komentare, želimo da prazne ćelije ostanu prazne. Dakle, ponovno ćemo uložiti tablicu, ali ovaj put uputimo sustav da se ne žali na prazne ćelije:"
   ]
  },
  {
   "cell_type": "code",
   "execution_count": null,
   "metadata": {},
   "outputs": [],
   "source": [
    "aditivi = pd.read_excel(\"podaci/Aditivi.xlsx\", sheet_name=\"Aditivi\", na_filter=False)\n",
    "aditivi.head(15)"
   ]
  },
  {
   "cell_type": "markdown",
   "metadata": {},
   "source": [
    "Opcija `na_filter=False` upućuje funkciju `read_excel` da \"isključi umjetnu inteligenciju\" i prazne ćelije ostavi praznima. Napravimo frekvencijsku analizu na temelju štetnosti aditiva."
   ]
  },
  {
   "cell_type": "code",
   "execution_count": null,
   "metadata": {},
   "outputs": [],
   "source": [
    "aditivi[\"Štetnost\"].value_counts()"
   ]
  },
  {
   "cell_type": "markdown",
   "metadata": {},
   "source": [
    "Sada ćemo filtrirati tablicu kako bismo izdvojili aditive koji mogu izazvati rak:"
   ]
  },
  {
   "cell_type": "code",
   "execution_count": null,
   "metadata": {},
   "outputs": [],
   "source": [
    "aditivi[aditivi.Napomena == \"može izazvati rak\"]"
   ]
  },
  {
   "cell_type": "markdown",
   "metadata": {},
   "source": [
    "Na kraju, nabrojimo aditive koji su označeni kao OPASNI ili mogu izazvati rak. Da bismo to učinili, moramo kombinirati dva kriterija filtriranja:\n",
    "\n",
    "    Comment == \"may cause cancer\"  or  Status == \"DANGEROUS\" (or both)\n",
    "\n",
    "Kad moramo kombinirati dva kriterija tako da je red uključen u filtriranu tablicu ako je zadovoljan barem jedan od kriterija, koristimo `|` priključak:"
   ]
  },
  {
   "cell_type": "code",
   "execution_count": null,
   "metadata": {},
   "outputs": [],
   "source": [
    "aditivi[(aditivi.Napomena == \"može izazvati rak\") | (aditivi.Štetnost == \"IZUZETNO OPASAN\")]"
   ]
  },
  {
   "cell_type": "markdown",
   "metadata": {},
   "source": [
    "## 10.3. Pisanje tablica u Excel datoteke\n",
    "\n",
    "Svaka tablica se može zapisati u Excel datoteku baš onako kako smo ih koristili u _CSV_ datotekama. Jedina je razlika što umjesto funkcije `to_csv` pozivamo funkciju `to_excel`. Na primjer, napravimo tablicu s popisom aditiva koji su označeni opasnim ili mogu uzrokovati rak:"
   ]
  },
  {
   "cell_type": "code",
   "execution_count": null,
   "metadata": {},
   "outputs": [],
   "source": [
    "opasni_aditivi = aditivi[(aditivi.Napomena == \"može izazvati rak\") | (aditivi.Štetnost == \"IZUZETNO OPASAN\")]"
   ]
  },
  {
   "cell_type": "markdown",
   "metadata": {},
   "source": [
    "i dopustite nam da tablicu napišemo u datoteku Excel:"
   ]
  },
  {
   "cell_type": "code",
   "execution_count": null,
   "metadata": {},
   "outputs": [],
   "source": [
    "opasni_aditivi.to_excel(\"podaci/opasni_aditivi.xlsx\", encoding=\"utf-8\")"
   ]
  },
  {
   "cell_type": "markdown",
   "metadata": {},
   "source": [
    "Pogledajmo Excel datoteku koju smo upravo stvorili\n",
    "\n",
    "![Excel file](pics/BadAdditives.jpg)\n",
    "\n",
    "Vidimo da je sustav također napisao stupac indeksa tablice, koji je u ovom slučaju samo popis besmislenih cjelobrojnih brojeva. Da biste ga se riješili, ponovo ćemo napisati tablicu, ali ovaj put koristeći opciju `index=False`:"
   ]
  },
  {
   "cell_type": "code",
   "execution_count": null,
   "metadata": {},
   "outputs": [],
   "source": [
    "opasni_aditivi.to_excel(\"podaci/opasni_aditivi.xlsx\", encoding=\"utf-8\", index=False)"
   ]
  },
  {
   "cell_type": "markdown",
   "metadata": {},
   "source": [
    "Nova datoteka izgleda ovako:\n",
    "\n",
    "![Excel file](pics/BadAdditives2.jpg)\n",
    "\n",
    "To je upravo ono što smo željeli."
   ]
  },
  {
   "cell_type": "markdown",
   "metadata": {},
   "source": [
    "## 10.4. Zadaci"
   ]
  },
  {
   "cell_type": "markdown",
   "metadata": {},
   "source": [
    "Zadatke riješite u Jupyteru"
   ]
  },
  {
   "cell_type": "markdown",
   "metadata": {},
   "source": [
    "**Zadatak 1.** Podaci datoteke `data/CS201.xlsx` imaju pregled bodova grupe učenika informatike 201. Podaci su stvarni, pa je tablica anonimna.\n",
    "\n",
    "_(a)_ Učitajte ovu tablicu u DataFrame i pogledajte prvih nekoliko redaka da biste razumjeli strukturu tablice (\"Hnn\" označava \"domaći zadatak nn\", \"Cn\" označava \"kolokvij n\", \"WE\" stoji za \"pisani dio ispita\", a \"OE\" znači \"usmeno ispitivanje\")."
   ]
  },
  {
   "cell_type": "markdown",
   "metadata": {},
   "source": [
    "_(b)_ Tablicu indeksirajte s \"StudentID\"."
   ]
  },
  {
   "cell_type": "markdown",
   "metadata": {},
   "source": [
    "_(c)_ Izračunajte prosječnu ocjenu na svakom kolokviju (stupci \"C1\", \"C2\" i \"C3\")."
   ]
  },
  {
   "cell_type": "markdown",
   "metadata": {},
   "source": [
    "_(d)_ Dodajte novi stupac \"Prosj.\" i za svakog učenika izračunajte prosječnu ocjenu i upišite je u odgovarajuću ćeliju."
   ]
  },
  {
   "cell_type": "markdown",
   "metadata": {},
   "source": [
    "_(e)_ Dodajte novi stupac \"FinalGrade\" i za svakog učenika izračunajte konačnu ocjenu na temelju prosječne ocjene koristeći sljedeću funkciju:"
   ]
  },
  {
   "cell_type": "code",
   "execution_count": null,
   "metadata": {},
   "outputs": [],
   "source": [
    "def final_grade(avg):\n",
    "    if avg >= 4.50:\n",
    "        return 5\n",
    "    elif avg >= 3.50:\n",
    "        return 4\n",
    "    elif avg >= 2.50:\n",
    "        return 3\n",
    "    elif avg >= 1.50:\n",
    "        return 2\n",
    "    else:\n",
    "        return 1"
   ]
  },
  {
   "cell_type": "markdown",
   "metadata": {},
   "source": [
    "_(f)_ Napišite novu tablicu u podatke datoteke Excel _data/CS201-FinalGrades.xlsx_"
   ]
  },
  {
   "cell_type": "markdown",
   "metadata": {},
   "source": [
    "**Exercise 2.** _Eurostat_ je službena europska agencija zadužena za statističke analize različitih podataka važnih za razvoj Europske unije. Svi podaci koje Eurostat prikuplja javno su dostupni na sljedećoj poveznici: https://ec.europa.eu/eurostat/data/database\n",
    "\n",
    "Podaci u datoteci _data/EUProjPop.xlsx_ sadrže projekciju stanovništva svake od zemalja EU-a 2080. Tablica ima dva radna lista: Bazna linija koja sadrži predviđeno stanovništvo zemalja EU-a i Migracije koja sadrži predviđeno stanovništvo zemalja EU-a u slučaju pojačana migracija.\n",
    "\n",
    "_(a)_ Učitajte ta dva radna lista u DataFrames (Baseline i Migration) i prikažite nekoliko redaka svake tablice da biste razumjeli strukturu tablica."
   ]
  },
  {
   "cell_type": "markdown",
   "metadata": {},
   "source": [
    "_(b)_ Dodajte novi redak \"EU\" svakoj tablici i izračunajte projiciranu populaciju cijele unije za svaku godinu."
   ]
  },
  {
   "cell_type": "markdown",
   "metadata": {},
   "source": [
    "_(c)_ Dodajte novi redak u tablicu Migracije i izračunajte projiciranu migraciju za svaku godinu (oduzmite redni EU u osnovnoj tablici od retka EU u tablici Migracije)."
   ]
  },
  {
   "cell_type": "markdown",
   "metadata": {},
   "source": [
    "_(d)_ Vizualizirajte projiciranu migraciju linijskim grafikonom."
   ]
  },
  {
   "cell_type": "markdown",
   "metadata": {},
   "source": [
    "_(e)_ Dodajte novi redak \"EU-UK\" u Tablicu osnovne i izračunajte predviđeno stanovništvo EU-a bez Velike Britanije."
   ]
  },
  {
   "cell_type": "markdown",
   "metadata": {},
   "source": [
    "_(f)_ Zapišite dva DataFrames-a podacima _data/EU-UK.xlsx_ and _data/EU-Migration.xlsx_"
   ]
  },
  {
   "cell_type": "markdown",
   "metadata": {},
   "source": [
    "**Zadatak 3.** Podaci datoteke `data/Cricket.xlsx` sadrže podatke o najboljim igračima kriketa u povijesti kriketa."
   ]
  },
  {
   "cell_type": "markdown",
   "metadata": {},
   "source": [
    "_(a)_ Učitajte ovu tablicu u DataFrame i indeksirajte je u stupcu \"Player\"."
   ]
  },
  {
   "cell_type": "markdown",
   "metadata": {},
   "source": [
    "_(b)_ Dodajte novi stupac \"YP\" (igrane godine) u tablicu i izračunajte broj godina aktivnog igranja za svakog igrača (oduzmite stupac \"Od\" iz stupca \"Do\")."
   ]
  },
  {
   "cell_type": "markdown",
   "metadata": {},
   "source": [
    "_(c)_ U tablicu dodajte novi stupac \"ARY\" (Prosječni trci po godini) i za svakog igrača izračunajte prosječni broj trčanja godišnje (ARY = Runs / YP)."
   ]
  },
  {
   "cell_type": "markdown",
   "metadata": {},
   "source": [
    "_(d)_ Tablicu sortirajte po \"ARY\" u silaznom orederu i prikažite prvih 25 redaka tablice. U kojem stoljeću je većina od najboljih 25 igrača igrala aktivno? Što mislite zašto?"
   ]
  }
 ],
 "metadata": {
  "kernelspec": {
   "display_name": "Python 3",
   "language": "python",
   "name": "python3"
  },
  "language_info": {
   "codemirror_mode": {
    "name": "ipython",
    "version": 3
   },
   "file_extension": ".py",
   "mimetype": "text/x-python",
   "name": "python",
   "nbconvert_exporter": "python",
   "pygments_lexer": "ipython3",
   "version": "3.7.6"
  }
 },
 "nbformat": 4,
 "nbformat_minor": 2
}
