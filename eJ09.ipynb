{
 "cells": [
  {
   "cell_type": "markdown",
   "metadata": {},
   "source": [
    "# 9. Sortiranje, filtriranje i analiza frekvencija\n",
    "\n",
    "U ovoj lekciji ćemo govoriti o:\n",
    "1. kako sortirati redove tablice;\n",
    "2. kako filtrirati retke tablice koji zadovoljavaju neki kriterij; i\n",
    "3. kako izvoditi analizu frekvencija na redovima tablice."
   ]
  },
  {
   "cell_type": "markdown",
   "metadata": {},
   "source": [
    "## 9.1. Sortiranje\n",
    "\n",
    "Podsjetimo da sortiranje niza znači poredati članove po veličini. Poredati redove tablice znači preurediti redove tako da se vrijednosti u određenom stupcu razvrstavaju. Sada ćemo pokazati kako brzo sortirati tablice pomoću biblioteke _pandas_ . Prvo učitajmo biblioteku:"
   ]
  },
  {
   "cell_type": "code",
   "execution_count": null,
   "metadata": {},
   "outputs": [],
   "source": [
    "import pandas as pd"
   ]
  },
  {
   "cell_type": "markdown",
   "metadata": {},
   "source": [
    "Pogledajte primjer koji smo već analizirali u prethodnim predavanjima:"
   ]
  },
  {
   "cell_type": "code",
   "execution_count": 2,
   "metadata": {},
   "outputs": [],
   "source": [
    "studenti = [[\"Anne\",    \"f\", 13, 46, 160],\n",
    "            [\"Ben\",     \"m\", 14, 52, 165],\n",
    "            [\"Colin\",   \"m\", 13, 47, 157],\n",
    "            [\"Diana\",   \"f\", 15, 54, 165],\n",
    "            [\"Ethan\",   \"m\", 15, 56, 163],\n",
    "            [\"Fred\",    \"m\", 13, 45, 159],\n",
    "            [\"Gloria\",  \"f\", 14, 49, 161],\n",
    "            [\"Hellen\",  \"f\", 15, 52, 164],\n",
    "            [\"Ian\",     \"m\", 15, 57, 167],\n",
    "            [\"Jane\",    \"f\", 13, 45, 158],\n",
    "            [\"Kate\",    \"f\", 14, 51, 162]]\n",
    "studenti_df = pd.DataFrame(studenti)\n",
    "studenti_df.columns=[\"Ime\", \"Spol\", \"Godine\", \"Težina\", \"Visina\"]\n",
    "studenti_ix=studenti_df.set_index(\"Ime\")"
   ]
  },
  {
   "cell_type": "markdown",
   "metadata": {},
   "source": [
    "Tablica izgleda ovako:"
   ]
  },
  {
   "cell_type": "code",
   "execution_count": null,
   "metadata": {},
   "outputs": [],
   "source": [
    "studenti_ix"
   ]
  },
  {
   "cell_type": "markdown",
   "metadata": {},
   "source": [
    "Funkcija `sort_values` sortira redove tablice tako da se vrijednosti u određenom stupcu razvrstavaju. Naziv stupca koji želimo sortirati ponekad se naziva i kriterij sortiranja. Kriterij sortiranja određujemo pomoću opcije `by`:"
   ]
  },
  {
   "cell_type": "code",
   "execution_count": null,
   "metadata": {},
   "outputs": [],
   "source": [
    "studenti_by_height = studenti_ix.sort_values(by=\"Visina\")\n",
    "studenti_by_height"
   ]
  },
  {
   "cell_type": "markdown",
   "metadata": {},
   "source": [
    "Zadani redoslijed _sortiranja je uzlazni_ , što znači da će se redovi tablice preurediti tako da se vrijednosti u stupcu \"Visina\" povećavaju. Ako tablicu želimo sortirati tako da prvi red sadrži najviše učenika, moramo pozvati funkciju dodatnom opcijom `ascending=False`:"
   ]
  },
  {
   "cell_type": "code",
   "execution_count": null,
   "metadata": {},
   "outputs": [],
   "source": [
    "studenti_by_height = studenti_ix.sort_values(by=\"Visina\", ascending=False)\n",
    "studenti_by_height"
   ]
  },
  {
   "cell_type": "markdown",
   "metadata": {},
   "source": [
    "Na kraju, vizualizirajmo visinu i težinu učenika u razvrstanoj tablici (imajte na umu da je tablica sortirana po visini, ali to ne znači da su i ostali stupci poredani):"
   ]
  },
  {
   "cell_type": "code",
   "execution_count": null,
   "metadata": {},
   "outputs": [],
   "source": [
    "import matplotlib.pyplot as plt\n",
    "plt.figure(figsize=(10,5))\n",
    "plt.bar(studenti_by_height.index, studenti_by_height[\"Visina\"], label=\"Visina\")\n",
    "plt.bar(studenti_by_height.index, studenti_by_height[\"Težina\"], label=\"Težina\")\n",
    "plt.title(\"Visina i težina djece u grupi\")\n",
    "plt.legend()\n",
    "plt.show()\n",
    "plt.close()"
   ]
  },
  {
   "cell_type": "markdown",
   "metadata": {},
   "source": [
    "## 9.2. Filtriranje podataka\n",
    "\n",
    "Često moramo proći kroz tablicu i izdvojiti redove koji zadovoljavaju neki kriterij. Na primjer, ako se želimo fokusirati samo na podatke o ženama, možemo filtrirati te retke i spakirati ih u novu tablicu poput ove:\n",
    "\n",
    "    djevojke = studenti_ix[studenti_ix.Spol == \"f\"]"
   ]
  },
  {
   "cell_type": "code",
   "execution_count": null,
   "metadata": {},
   "outputs": [],
   "source": [
    "djevojke = studenti_ix[studenti_ix.Spol == \"f\"]\n",
    "djevojke"
   ]
  },
  {
   "cell_type": "markdown",
   "metadata": {},
   "source": [
    "Na sličan način možemo izdvojiti svu djecu koja imaju preko 50 kg:"
   ]
  },
  {
   "cell_type": "code",
   "execution_count": null,
   "metadata": {},
   "outputs": [],
   "source": [
    "preko_50kg = studenti_ix[studenti_ix.Težina > 50]\n",
    "preko_50kg"
   ]
  },
  {
   "cell_type": "markdown",
   "metadata": {},
   "source": [
    "Također možemo kombinirati kriterije. Na primjer, ako se želimo fokusirati na dječake s najviše 55 kg, moramo kombinirati dva kriterija:\n",
    "\n",
    "    Težina <= 55  i  Spol == \"m\".\n",
    "\n",
    "Biblioteka `pandas` koristi simbol `&` za kombiniranje u slučajevima kada oba dva kriterija moraju biti zadovoljena:"
   ]
  },
  {
   "cell_type": "code",
   "execution_count": null,
   "metadata": {},
   "outputs": [],
   "source": [
    "dečki_55kg = studenti_ix[(studenti_ix.Težina <= 55) & (studenti_ix.Spol == \"m\")]\n",
    "dečki_55kg"
   ]
  },
  {
   "cell_type": "markdown",
   "metadata": {},
   "source": [
    "Vizualizirajmo visinu i težinu ovih dječaka:"
   ]
  },
  {
   "cell_type": "code",
   "execution_count": null,
   "metadata": {},
   "outputs": [],
   "source": [
    "plt.figure(figsize=(6,6))\n",
    "plt.bar(dečki_55kg.index, dečki_55kg[\"Visina\"], label=\"Visina\")\n",
    "plt.bar(dečki_55kg.index, dečki_55kg[\"Težina\"], label=\"Težina\")\n",
    "plt.title(\"Visina i težina dječaka do 55 kg\")\n",
    "plt.legend()\n",
    "plt.show()\n",
    "plt.close()"
   ]
  },
  {
   "cell_type": "markdown",
   "metadata": {},
   "source": [
    "## 9.3. Frekvencijska analiza\n",
    "\n",
    "Podsjetimo, _analiza frekvencije_ svodi se na brojanje koliko se puta svaka vrijednost pojavi u nizu. Biblioteka `pandas` ima prikladnu funkciju `value_counts` koja nam može pomoći. Na primjer, brojmo dječake i djevojčice u gornjoj tablici:"
   ]
  },
  {
   "cell_type": "code",
   "execution_count": null,
   "metadata": {},
   "outputs": [],
   "source": [
    "studenti_ix[\"Spol\"].value_counts()"
   ]
  },
  {
   "cell_type": "markdown",
   "metadata": {},
   "source": [
    "Dakle, `value_counts` utvrdila je da u ovoj tablici postoji 6 redaka s \"f\" u stupcu \"Spol\" i 5 redaka s \"m\" u stupcu \"Spol\". Stoga je u grupi 6 djevojčica i 5 dječaka.\n",
    "\n",
    "Kada je riječ o dobi učenika u grupi, imamo sljedeću situaciju:"
   ]
  },
  {
   "cell_type": "code",
   "execution_count": null,
   "metadata": {},
   "outputs": [],
   "source": [
    "studenti_ix[\"Godine\"].value_counts()"
   ]
  },
  {
   "cell_type": "markdown",
   "metadata": {},
   "source": [
    "4 učenika u dobi od 15 godina, 4 učenika u dobi od 13 godina i 3 učenika u dobi od 14 godina.\n",
    "\n",
    "Rezultat funkcije `value_counts` možemo staviti u varijablu za daljnju upotrebu:"
   ]
  },
  {
   "cell_type": "code",
   "execution_count": null,
   "metadata": {},
   "outputs": [],
   "source": [
    "frekv = studenti_ix[\"Spol\"].value_counts()\n",
    "frekv"
   ]
  },
  {
   "cell_type": "markdown",
   "metadata": {},
   "source": [
    "Jednostavno možemo dobiti predmete koji su identificirani u stupcu \"Spol\" i njihove učestalosti:\n",
    "\n",
    "    frekv.index\n",
    "    \n",
    "daje listu predmeta, dok\n",
    "    \n",
    "    frekv.values\n",
    "\n",
    "daje svoje frekvencije."
   ]
  },
  {
   "cell_type": "code",
   "execution_count": null,
   "metadata": {},
   "outputs": [],
   "source": [
    "print(\"Vrijednosti koje se javljaju u koloni:\", frekv.index)\n",
    "print(\"Njihove frekvencije:\", frekv.values)"
   ]
  },
  {
   "cell_type": "markdown",
   "metadata": {},
   "source": [
    "Struktura skupine prema spolu može se prikazati ovako:"
   ]
  },
  {
   "cell_type": "code",
   "execution_count": null,
   "metadata": {},
   "outputs": [],
   "source": [
    "import matplotlib.pyplot as plt\n",
    "frekv = studenti_ix[\"Spol\"].value_counts()\n",
    "plt.figure(figsize=(6,6))\n",
    "plt.pie(frekv.values, labels=frekv.index)\n",
    "plt.title(\"Popis struktura grupe\")\n",
    "plt.show()\n",
    "plt.close()"
   ]
  },
  {
   "cell_type": "markdown",
   "metadata": {},
   "source": [
    "Analogno, možemo vizualizirati strukturu skupine prema dobi:"
   ]
  },
  {
   "cell_type": "code",
   "execution_count": null,
   "metadata": {},
   "outputs": [],
   "source": [
    "frekv = studenti_ix[\"Godine\"].value_counts()\n",
    "plt.figure(figsize=(6,6))\n",
    "plt.pie(frekv.values, labels=frekv.index)\n",
    "plt.title(\"Struktura grupe po godinama\")\n",
    "plt.show()\n",
    "plt.close()"
   ]
  },
  {
   "cell_type": "markdown",
   "metadata": {},
   "source": [
    "Kao konačni primjer pronađite raspodjelu zemalja po kontinentima. Na sljedećem URL-u\n",
    "\n",
    "    https://raw.githubusercontent.com/cs109/2014_data/master/countries.csv\n",
    "    \n",
    "možete pronaći javno dostupan popis svih zemalja svijeta. Započnimo učitavanjem popisa u DataFrame:"
   ]
  },
  {
   "cell_type": "code",
   "execution_count": null,
   "metadata": {},
   "outputs": [],
   "source": [
    "countries = pd.read_csv(\"https://raw.githubusercontent.com/cs109/2014_data/master/countries.csv\")\n",
    "countries.head(5)"
   ]
  },
  {
   "cell_type": "markdown",
   "metadata": {},
   "source": [
    "Broj zemalja po kontinentu sada se može lako odrediti:"
   ]
  },
  {
   "cell_type": "code",
   "execution_count": null,
   "metadata": {},
   "outputs": [],
   "source": [
    "countries[\"Region\"].value_counts()"
   ]
  },
  {
   "cell_type": "markdown",
   "metadata": {},
   "source": [
    "i vizualizirano:"
   ]
  },
  {
   "cell_type": "code",
   "execution_count": null,
   "metadata": {},
   "outputs": [],
   "source": [
    "by_continents = countries[\"Region\"].value_counts()\n",
    "plt.figure(figsize=(8,8))\n",
    "plt.pie(by_continents.values, labels=by_continents.index)\n",
    "plt.title(\"Broj država po kontinentima\")\n",
    "plt.show()\n",
    "plt.close()"
   ]
  },
  {
   "cell_type": "markdown",
   "metadata": {},
   "source": [
    "## 9.4. Zadaci"
   ]
  },
  {
   "cell_type": "markdown",
   "metadata": {},
   "source": [
    "Zadatke riješite u Jupyteru."
   ]
  },
  {
   "cell_type": "markdown",
   "metadata": {},
   "source": [
    "**Zadatak 1.** Podaci datoteke _data/LongestRiversOfEurope.csv_ sadrži popis najdužih 25 rijeka Europe. Ova tablica sadrži pet stupaca:\n",
    "\n",
    "- River = naziv rijeke,\n",
    "- Length = duljina rijeke u km,\n",
    "- Countries = niz sa svim zemljama kroz koje rijeka teče,\n",
    "- Mouth = more/ocean/jezero u koje se ulijeva rijeka, i\n",
    "- Via = \"(izravno)\" ako rijeka teče izravno u more/ocean/jezero; inače naziv rijeke kroz koju se ulijeva u more/ocean/jezero.\n",
    "\n",
    "_(a)_ Učitajte datoteku u DataFrame, indeksirajte je u stupcu \"River\" i prikažite prvih nekoliko redaka tablice."
   ]
  },
  {
   "cell_type": "markdown",
   "metadata": {},
   "source": [
    " \n",
    "_(b)_ tablicu razvrstajte po duljini tako da se na vrhu nalazi najduža rijeka u Europi."
   ]
  },
  {
   "cell_type": "markdown",
   "metadata": {},
   "source": [
    "_(c)_ Koliko najdužih 25 rijeka Europe teče kroz Rusiju, koliko kroz Njemačku, a koliko kroz Lihtenštajn?"
   ]
  },
  {
   "cell_type": "markdown",
   "metadata": {},
   "source": [
    "_(d)_ Za novu tablicu koja se sastoji samo od onih rijeka koja se ulijevaju izravno u more/ocean/jezero riješite se retka \"Via\" i tablicu upišite u podatke datoteke _data/FLowDirectly.csv_"
   ]
  },
  {
   "cell_type": "markdown",
   "metadata": {},
   "source": [
    "**Zadatak 2.** Ovdje su nutritivne činjenice o nekoj morskoj hrani:\n",
    "\n",
    "| Morski plodovi (100g) | Energetska vrijednost (kcal) | Ugljiko hidrati (g) | Proteini (g) | Masti (g) |\n",
    "|--|--|--|--|--|\n",
    "|Tuna|116|0|26|1|\n",
    "|Hake|88|0|17.2|0.8|\n",
    "|Trout|119|0|18|5|\n",
    "|Salmon|116|0|20|3.5|\n",
    "|Mackerel|205|0|19|14|\n",
    "|Sardines|135|0|18|5|\n",
    "|Hеrring|158|0|18|9|\n",
    "|Cod|82|0|18|0.7|\n",
    "|Catfish|95|0|16.4|2.8|\n",
    "|Carp|127|0|17.6|5.6|\n",
    "|Gilthead|115|0|16.5|5.5|\n",
    "|Eel|184|0|18.4|11.7|\n",
    "|Shrimp|106|1|20|2|\n",
    "|Mussels|86|4|12|2|\n",
    "|Prawns|71|1|13|1|\n",
    "|Squid|92|3|15.6|1.3|\n",
    "|Octopus|81|0|16.4|0.9|\n",
    "|Lobster|112|0|20|1.5|\n",
    "\n",
    "Ova se tablica može prikazati kao listu ovako:"
   ]
  },
  {
   "cell_type": "code",
   "execution_count": null,
   "metadata": {},
   "outputs": [],
   "source": [
    "# izvršite ovu ćeliju\n",
    "morski_plodovi = [\n",
    "  [\"Tuna\", 116, 0, 26, 1],\n",
    "  [\"Hake\", 88, 0, 17.2, 0.8],\n",
    "  [\"Trout\", 119, 0, 18, 5],\n",
    "  [\"Salmon\", 116, 0, 20, 3.5],\n",
    "  [\"Mackerel\", 205, 0, 19, 14],\n",
    "  [\"Sardines\", 135, 0, 18, 5],\n",
    "  [\"Hеrring\", 158, 0, 18, 9],\n",
    "  [\"Cod\", 82, 0, 18, 0.7],\n",
    "  [\"Catfish\", 95, 0, 16.4, 2.8],\n",
    "  [\"Carp\", 127, 0, 17.6, 5.6],\n",
    "  [\"Gilthead\", 115, 0, 16.5, 5.5],\n",
    "  [\"Eel\", 184, 0, 18.4, 11.7],\n",
    "  [\"Shrimp\", 106, 1, 20, 2],\n",
    "  [\"Mussels\", 86, 4, 12, 2],\n",
    "  [\"Prawns\", 71, 1, 13, 1],\n",
    "  [\"Squid\", 92, 3, 15.6, 1.3],\n",
    "  [\"Octopus\", 81, 0, 16.4, 0.9],\n",
    "  [\"Lobster\", 112, 0, 20, 1.5]]"
   ]
  },
  {
   "cell_type": "markdown",
   "metadata": {},
   "source": [
    "_(a)_ Pretvorite ovaj popis u DataFrame, kolumne na odgovarajući način i tablicu indeksirajte."
   ]
  },
  {
   "cell_type": "markdown",
   "metadata": {},
   "source": [
    "_(b)_ Tablicu razvrstajte po nutritivnim vrijednostima i vizualizirajte podatke koristeći grafikon."
   ]
  },
  {
   "cell_type": "markdown",
   "metadata": {},
   "source": [
    "_(c)_ Napravite frekvencijsku analizu ove tablice prema količini ugljikohidrata i vizualizirajte rezultate dobivenim grafikonom."
   ]
  },
  {
   "cell_type": "markdown",
   "metadata": {},
   "source": [
    "_(d)_ Stavite svu morsku hranu bez ugljikohidrata i manje od 10 g masti po 100 g u novu tablicu."
   ]
  },
  {
   "cell_type": "markdown",
   "metadata": {},
   "source": [
    "**Zadatak 3.** Na satu tjelesnog studenti su uvježbavali skokove u dalj. Svaki je student imao tri pokušaja, a podaci se prikupljaju u _LongJump.csv_ dostupno u podacima u mapi. Prvi red datoteke je zaglavlje.\n",
    "\n",
    "_(a)_ Učitajte ovu datoteku u _DataFrame_."
   ]
  },
  {
   "cell_type": "markdown",
   "metadata": {},
   "source": [
    "_(b)_ Dodajte novi stupac \"Max\" u tablicu i za svakog učenika izračunajte najbolji skok."
   ]
  },
  {
   "cell_type": "markdown",
   "metadata": {},
   "source": [
    "_(c)_ Tablicu razvrstajte po \"Max\" i prikažite prvih pet redaka razvrstane tablice."
   ]
  },
  {
   "cell_type": "markdown",
   "metadata": {},
   "source": [
    "_(d)_ udaljite one studente koji su napravili barem jedan pogrešan skok. Prestupnici u skoku bilježe se kao 0."
   ]
  },
  {
   "cell_type": "markdown",
   "metadata": {},
   "source": [
    "**Zadatak 4.** Sljedeći popis sadrži neke osnovne podatke o grupi učenika: prezime, ime, ID učenika, razred koji pohađaju i prosjek ocjena:"
   ]
  },
  {
   "cell_type": "code",
   "execution_count": null,
   "metadata": {},
   "outputs": [],
   "source": [
    "student = [\n",
    "    [\"Peterson\",    \"Peter\",   \"0308003800019\", \"m\", 8, 4.52],\n",
    "    [\"Janesdottir\", \"Jane\",    \"1210003805026\", \"f\", 8, 5.00],\n",
    "    [\"Annesdottir\", \"Anne\",    \"1105004805019\", \"f\", 7, 4.11],\n",
    "    [\"Verasdottir\", \"Vera\",    \"2901005705011\", \"f\", 6, 5.00],\n",
    "    [\"Georgsson\",   \"George\",  \"1504005700012\", \"m\", 6, 3.12],\n",
    "    [\"Michaelson\",  \"Michael\", \"1506004400056\", \"m\", 7, 2.51],\n",
    "    [\"Michaelson\",  \"Peter\",   \"1506004400057\", \"m\", 7, 2.48],\n",
    "    [\"Smith\",       \"Nathan\",  \"2109003800046\", \"m\", 8, 3.58],\n",
    "    [\"Smith\",       \"Jane\",    \"2109003805021\", \"f\", 8, 4.21]\n",
    "]"
   ]
  },
  {
   "cell_type": "markdown",
   "metadata": {},
   "source": [
    "_(a)_ Pretvorite ovo u _DataFrame_."
   ]
  },
  {
   "cell_type": "markdown",
   "metadata": {},
   "source": [
    "_(b)_ Vizualizirajte rodnu strukturu grupe pomoću pie chart."
   ]
  },
  {
   "cell_type": "markdown",
   "metadata": {},
   "source": [
    "_(c)_ Vizualizirajte dobnu strukturu grupe pomoću dijagrama torte (bazirajte se na analizi na razredu koji učenik pohađa)."
   ]
  },
  {
   "cell_type": "markdown",
   "metadata": {},
   "source": [
    "_(d)_ Koji je stupac najbolji izbor za stupac indeksa?"
   ]
  },
  {
   "cell_type": "markdown",
   "metadata": {},
   "source": [
    "_(e)_ Stavite sve učenike 8. razreda u novu tablicu."
   ]
  },
  {
   "cell_type": "markdown",
   "metadata": {},
   "source": [
    "_(f)_ Stavite sve dečke čija je prosječna ocjena manja od 4,50 u novu tablicu."
   ]
  },
  {
   "cell_type": "markdown",
   "metadata": {},
   "source": [
    "**Zadatak 5.** Na sljedećem URL-u:\n",
    "\n",
    "    https://raw.githubusercontent.com/resbaz/r-novice-gapminder-files/master/data/gapminder-FiveYearData.csv\n",
    "\n",
    "možete pronaći javno dostupnu tablicu s popisom svih zemalja svijeta i nekim parametrima gospodarskog razvoja svake zemlje. Tablica ima šest stupaca:\n",
    "\n",
    "* country = država\n",
    "* year = godina u kojoj su izračunati ekonomski parametri\n",
    "* pop = populacija\n",
    "* continent = kontinent\n",
    "* lifeExp = životna dob\n",
    "* gdpPercap = BDP po stanovniku\n",
    "\n",
    "_(a)_ Učitajte ovu tablicu u _DataFrame_."
   ]
  },
  {
   "cell_type": "markdown",
   "metadata": {},
   "source": [
    "_(b)_ Stavite sve podatke koji se odnose na vašu zemlju u novu tablicu (koristite kriterij filtriranja kao što je ovaj: `table[table.country == \"Hrvatska\"]`) i upišite ih u datoteku."
   ]
  },
  {
   "cell_type": "markdown",
   "metadata": {},
   "source": [
    "_(c)_ Linearnom grafikonom prikaži promjenu životnog vijeka svoje zemlje u vremenu."
   ]
  },
  {
   "cell_type": "markdown",
   "metadata": {},
   "source": [
    "_(d)_ Promjenu BDP-a u vašoj zemlji prikažite pomoću grafikona."
   ]
  },
  {
   "cell_type": "code",
   "execution_count": null,
   "metadata": {},
   "outputs": [],
   "source": []
  }
 ],
 "metadata": {
  "kernelspec": {
   "display_name": "Python 3",
   "language": "python",
   "name": "python3"
  },
  "language_info": {
   "codemirror_mode": {
    "name": "ipython",
    "version": 3
   },
   "file_extension": ".py",
   "mimetype": "text/x-python",
   "name": "python",
   "nbconvert_exporter": "python",
   "pygments_lexer": "ipython3",
   "version": "3.7.6"
  }
 },
 "nbformat": 4,
 "nbformat_minor": 2
}
