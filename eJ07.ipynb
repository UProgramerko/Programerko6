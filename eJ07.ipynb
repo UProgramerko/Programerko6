{
 "cells": [
  {
   "cell_type": "markdown",
   "metadata": {},
   "source": [
    "# 7. Indeksiranje i prijenos tablice\n",
    "\n",
    "U ovoj lekciji govoriti ćemo o:\n",
    "1. kako indeksiranje tablice pruža fleksibilan pristup elementima tablice;\n",
    "2. kako pristupiti vrstama i pojedinačnim lokacijama indeksiranje tablice\n",
    "3. kako izračunati redove i stupce tablice; i\n",
    "4. kako prenijeti tablicu."
   ]
  },
  {
   "cell_type": "markdown",
   "metadata": {},
   "source": [
    "## 7.1. Indeksiranje"
   ]
  },
  {
   "cell_type": "markdown",
   "metadata": {},
   "source": [
    "Vidjeli smo da je rad sa stupovima DataFrame-a vrlo jednostavan, jer stupci imaju imena. Bilo bi jednako lako raditi s redovima DataFramea ako bismo imali način da nekako imenujemo redove. Postupak koji čini upravo to naziva se _indeksiranje tablice_.\n",
    "\n",
    "Za indeksiranje tablice prvo moramo identificirati stupac ( _stupac za indeksiranje ili indeks_) tako da je svaki redak jedinstveno određen vrijednosti u stupcu za indeksiranje. Na primjer, u sljedećoj tablici\n",
    "\n",
    "| __Ime__ | __Spol__ | __Godine (yrs)__ | __Težina (kg)__ | __Visina (cm)__ |\n",
    "|---|---|---|---|---|\n",
    "|     Anne | f | 13 | 46 | 160 |\n",
    "|      Ben | m | 14 | 52 | 165 |\n",
    "|    Colin | m | 13 | 47 | 157 |\n",
    "|    Diana | f | 15 | 54 | 165 |\n",
    "|    Ethan | m | 15 | 56 | 163 |\n",
    "|     Fred | m | 13 | 45 | 159 |\n",
    "|   Gloria | f | 14 | 49 | 161 |\n",
    "|   Hellen | f | 15 | 52 | 164 |\n",
    "|      Ian | m | 15 | 57 | 167 |\n",
    "|     Jane | f | 13 | 45 | 158 |\n",
    "|     Kate | f | 14 | 51 | 162 |\n",
    "\n",
    "\"Ime\" je dobar kandidat za stupac indeksiranja, jer u ovoj tabeli vevery student ima jedinstveno ime (imajte na umu da u stvarnom životu to nije nužno slučaj). \"Visina\" nije dobar izbor, jer postoje dva učenika čija je visina 165; a isto vrijedi i za ostale stupce.\n",
    "\n",
    "Funkcija `set_index` postavlja stupac indeksa tablice:"
   ]
  },
  {
   "cell_type": "code",
   "execution_count": null,
   "metadata": {},
   "outputs": [],
   "source": [
    "import pandas as pd\n",
    "studenti = [[\"Anne\",    \"f\", 13, 46, 160],\n",
    "            [\"Ben\",     \"m\", 14, 52, 165],\n",
    "            [\"Colin\",   \"m\", 13, 47, 157],\n",
    "            [\"Diana\",   \"f\", 15, 54, 165],\n",
    "            [\"Ethan\",   \"m\", 15, 56, 163],\n",
    "            [\"Fred\",    \"m\", 13, 45, 159],\n",
    "            [\"Gloria\",  \"f\", 14, 49, 161],\n",
    "            [\"Hellen\",  \"f\", 15, 52, 164],\n",
    "            [\"Ian\",     \"m\", 15, 57, 167],\n",
    "            [\"Jane\",    \"f\", 13, 45, 158],\n",
    "            [\"Kate\",    \"f\", 14, 51, 162]]\n",
    "studenti_df = pd.DataFrame(studenti)\n",
    "studenti_df.columns=[\"Ime\", \"Spol\", \"Godine\", \"Težina\", \"Visina\"]\n",
    "\n",
    "studenti_ix=studenti_df.set_index(\"Ime\")"
   ]
  },
  {
   "cell_type": "markdown",
   "metadata": {},
   "source": [
    "Nova tablica (`studenti_ix`) razlikuje se od stare (`studenti_df`) osamo po tome što su redovi tablice sada indeksirani imenima učenika. Evo neindeksidirane verzije tablice:"
   ]
  },
  {
   "cell_type": "code",
   "execution_count": null,
   "metadata": {},
   "outputs": [],
   "source": [
    "studenti_df"
   ]
  },
  {
   "cell_type": "markdown",
   "metadata": {},
   "source": [
    "a ovdje je indeksirana inačica iste tablice:"
   ]
  },
  {
   "cell_type": "code",
   "execution_count": null,
   "metadata": {},
   "outputs": [],
   "source": [
    "studenti_ix"
   ]
  },
  {
   "cell_type": "markdown",
   "metadata": {},
   "source": [
    "Kolona \"Ime\" i dalje je prisutan, ali sada ima poseban status. Ako pokušamo pristupiti njemu kao i prije nego što smo dobili pogrešku (izvješće o pogrešci je prilično dugo; nemojte se truditi pročitati ga pažljivo, samo se pomaknite prema dolje):"
   ]
  },
  {
   "cell_type": "code",
   "execution_count": null,
   "metadata": {},
   "outputs": [],
   "source": [
    "studenti_ix[\"Ime\"]"
   ]
  },
  {
   "cell_type": "markdown",
   "metadata": {},
   "source": [
    "Međutim, ona je tu kao _kolona indeksa_ :"
   ]
  },
  {
   "cell_type": "code",
   "execution_count": null,
   "metadata": {},
   "outputs": [],
   "source": [
    "studenti_ix.index"
   ]
  },
  {
   "cell_type": "markdown",
   "metadata": {},
   "source": [
    "Vizualiziranje, recimo, visine učenika u grupi sada djeluje ovako:"
   ]
  },
  {
   "cell_type": "code",
   "execution_count": null,
   "metadata": {},
   "outputs": [],
   "source": [
    "import matplotlib.pyplot as plt\n",
    "plt.figure(figsize=(10,5))\n",
    "plt.bar(studenti_ix.index, studenti_ix[\"Visina\"])\n",
    "plt.title(\"Visina djece u grupi\")\n",
    "plt.show()\n",
    "plt.close()"
   ]
  },
  {
   "cell_type": "markdown",
   "metadata": {},
   "source": [
    "## 7.2. Pristup redovima i pojedinačnim ćelijama indeksirane tablice"
   ]
  },
  {
   "cell_type": "markdown",
   "metadata": {},
   "source": [
    "_DataFrame_ je optimiziran za pružanje učinkovitog pristupa stupcima tablice. Međutim, u indeksiranom DataFrame-u lako je pristupiti redovima i ćelijama tablice koristeći funkciju `loc` (skraćeno za \"location\").\n",
    "\n",
    "Možemo prikazati jedan red tablice ovako:"
   ]
  },
  {
   "cell_type": "code",
   "execution_count": null,
   "metadata": {},
   "outputs": [],
   "source": [
    "studenti_ix.loc[\"Ethan\"]"
   ]
  },
  {
   "cell_type": "markdown",
   "metadata": {},
   "source": [
    "ili raspon redaka poput ovoga:"
   ]
  },
  {
   "cell_type": "code",
   "execution_count": null,
   "metadata": {
    "scrolled": true
   },
   "outputs": [],
   "source": [
    "studenti_ix.loc[\"Ethan\":\"Ian\"]"
   ]
  },
  {
   "cell_type": "markdown",
   "metadata": {},
   "source": [
    "Možemo se usredotočiti i na određenu značajku:"
   ]
  },
  {
   "cell_type": "code",
   "execution_count": null,
   "metadata": {
    "scrolled": true
   },
   "outputs": [],
   "source": [
    "studenti_ix.loc[\"Ethan\", \"Visina\"]"
   ]
  },
  {
   "cell_type": "markdown",
   "metadata": {},
   "source": [
    "ili kako možemo dobiti informacije za visinu i težinu nekoliko djece:"
   ]
  },
  {
   "cell_type": "code",
   "execution_count": null,
   "metadata": {
    "scrolled": true
   },
   "outputs": [],
   "source": [
    "studenti_ix.loc[\"Ethan\":\"Ian\", \"Težina\":\"Visina\"]"
   ]
  },
  {
   "cell_type": "markdown",
   "metadata": {},
   "source": [
    "## 7.3. Računanje kroz redove i stupce indeksirane tablice"
   ]
  },
  {
   "cell_type": "markdown",
   "metadata": {},
   "source": [
    "U tablici ispod prikupili smo ocjene učenika koje smo već susreli u nekim predmetima (informatika, engleski, matematika, fizika, kemija i likovni):"
   ]
  },
  {
   "cell_type": "code",
   "execution_count": null,
   "metadata": {},
   "outputs": [],
   "source": [
    "ocjene = [[\"Anne\",    5, 3, 5, 2, 4, 5],\n",
    "         [\"Ben\",     5, 5, 5, 5, 5, 5],\n",
    "         [\"Colin\",   4, 5, 3, 4, 5, 4],\n",
    "         [\"Diana\",   5, 5, 5, 5, 5, 5],\n",
    "         [\"Ethan\",   3, 4, 2, 3, 3, 4],\n",
    "         [\"Fred\",    4, 5, 3, 4, 5, 4],\n",
    "         [\"Gloria\",  3, 3, 3, 4, 2, 3],\n",
    "         [\"Hellen\",  5, 5, 4, 5, 4, 5],\n",
    "         [\"Ian\",     4, 5, 4, 4, 3, 5],\n",
    "         [\"Jane\",    2, 2, 2, 2, 2, 5],\n",
    "         [\"Kate\",    3, 4, 5, 4, 5, 5]]"
   ]
  },
  {
   "cell_type": "markdown",
   "metadata": {},
   "source": [
    "Pretvorimo to u indeksirani DataFrame"
   ]
  },
  {
   "cell_type": "code",
   "execution_count": null,
   "metadata": {},
   "outputs": [],
   "source": [
    "ocjene_df = pd.DataFrame(ocjene)\n",
    "ocjene_df.columns=[\"Ime\", \"Informatika\", \"Engleski\", \"Matematika\", \"Fizika\", \"Kemija\", \"Likovni\"]\n",
    "ocjene_ix = ocjene_df.set_index(\"Ime\")\n",
    "ocjene_ix"
   ]
  },
  {
   "cell_type": "markdown",
   "metadata": {},
   "source": [
    "Izračunavanje prosječne ocjene po predmetu je jednostavno: primjenjujemo `mean` na svaki stupac tablice:"
   ]
  },
  {
   "cell_type": "code",
   "execution_count": null,
   "metadata": {},
   "outputs": [],
   "source": [
    "for subj in ocjene_ix.columns:\n",
    "    print(subj, \"->\", round(ocjene_ix[subj].mean(), 2))"
   ]
  },
  {
   "cell_type": "markdown",
   "metadata": {},
   "source": [
    "Za izračunavanje prosječne ocjene po učeniku primijenit ćemo `mean` u redove tablice, kojima pristupamo koristeći `loc`. Kao zagrijavanje izračunajmo prosječnu ocjenu za Kate:"
   ]
  },
  {
   "cell_type": "code",
   "execution_count": null,
   "metadata": {
    "scrolled": true
   },
   "outputs": [],
   "source": [
    "print(\"Kate-ine ocjene su:\")\n",
    "print(ocjene_ix.loc[\"Kate\"])\n",
    "print(\"Prosjek njezinih ocjena je:\", round(ocjene_ix.loc[\"Kate\"].mean(), 2))"
   ]
  },
  {
   "cell_type": "markdown",
   "metadata": {},
   "source": [
    "Imena svih učenika smještena su u stupcu indeksa, tako da se prosječna ocjena svakog učenika u tablici može izračunati ovako:"
   ]
  },
  {
   "cell_type": "code",
   "execution_count": null,
   "metadata": {
    "scrolled": true
   },
   "outputs": [],
   "source": [
    "for student in ocjene_ix.index:\n",
    "    print(student, \"->\", round(ocjene_ix.loc[student].mean(), 2))"
   ]
  },
  {
   "cell_type": "markdown",
   "metadata": {},
   "source": [
    "## 7.4. Prijenos tablice\n",
    "\n",
    "_Prijenos tablice_ je operacija koja zamjenjuje redove i stupce tablice tako da se prvi red zamjenjuje prvim stupcem, drugi red zamjenjuje drugim stupcem i tako dalje. Kada transponirate indeksirani DataFrame, nazivi stupaca postaju indeksni redak nove tablice, dok indeksni redak daje imena stupaca u novoj tablici.\n",
    "\n",
    "![Transpose](pics/DataFrame-T.jpg)\n",
    "\n",
    "Podsjetimo da su DataFrames optimizirani za učinkovit pristup stupcima tablice. Stoga je prikladno prenijeti tablicu koja ima nekoliko vrlo dugih redova. Odvažno, ne trebamo transponirati tablicu da bismo mogli učinkovito raditi s njom (budući da `loc` daje pristup redovima tablice), tako da je prenošenje tablice stvar ukusa ili praktičnosti.\n",
    "\n",
    "Za prijenos tablice samo primijenite `T` da biste dobili novu, pretočenu tablicu. Na primjer, podsjetimo to:"
   ]
  },
  {
   "cell_type": "code",
   "execution_count": null,
   "metadata": {
    "scrolled": true
   },
   "outputs": [],
   "source": [
    "ocjene_ix"
   ]
  },
  {
   "cell_type": "markdown",
   "metadata": {},
   "source": [
    " Nakon prijenosa:"
   ]
  },
  {
   "cell_type": "code",
   "execution_count": null,
   "metadata": {},
   "outputs": [],
   "source": [
    "ocjene_tr = ocjene_ix.T"
   ]
  },
  {
   "cell_type": "markdown",
   "metadata": {},
   "source": [
    "nova tablica izgleda ovako:"
   ]
  },
  {
   "cell_type": "code",
   "execution_count": null,
   "metadata": {},
   "outputs": [],
   "source": [
    "ocjene_tr"
   ]
  },
  {
   "cell_type": "markdown",
   "metadata": {},
   "source": [
    "Provjerimo što se dogodilo s `index` i `columns`. U originalnoj tablici imamo:"
   ]
  },
  {
   "cell_type": "code",
   "execution_count": null,
   "metadata": {},
   "outputs": [],
   "source": [
    "ocjene_ix.index"
   ]
  },
  {
   "cell_type": "code",
   "execution_count": null,
   "metadata": {},
   "outputs": [],
   "source": [
    "ocjene_ix.columns"
   ]
  },
  {
   "cell_type": "markdown",
   "metadata": {},
   "source": [
    " dok u transponiranoj tablici imamo:"
   ]
  },
  {
   "cell_type": "code",
   "execution_count": null,
   "metadata": {},
   "outputs": [],
   "source": [
    "ocjene_tr.index"
   ]
  },
  {
   "cell_type": "code",
   "execution_count": null,
   "metadata": {},
   "outputs": [],
   "source": [
    "ocjene_tr.columns"
   ]
  },
  {
   "cell_type": "markdown",
   "metadata": {},
   "source": [
    "Kao što smo već vidjeli, prosječna ocjena po predmetu može se lako izračunati:"
   ]
  },
  {
   "cell_type": "code",
   "execution_count": null,
   "metadata": {},
   "outputs": [],
   "source": [
    "for subj in ocjene_ix.columns:\n",
    "    print(subj, \"->\", round(ocjene_ix[subj].mean(), 2))"
   ]
  },
  {
   "cell_type": "markdown",
   "metadata": {},
   "source": [
    "Da bismo izračunali prosječne ocjene za svakog učenika, možemo koristiti `loc` mrežu da bismo pristupili redovima izvorne tablice, ali također možemo primijeniti istu logiku kao gore, ali u prenesenu tablicu:"
   ]
  },
  {
   "cell_type": "code",
   "execution_count": null,
   "metadata": {},
   "outputs": [],
   "source": [
    "for student in ocjene_tr.columns:\n",
    "    print(student, \"->\", round(ocjene_tr[student].mean(), 2))"
   ]
  },
  {
   "cell_type": "markdown",
   "metadata": {},
   "source": [
    "## 7.5. Zadaci"
   ]
  },
  {
   "cell_type": "markdown",
   "metadata": {},
   "source": [
    "Zadatke riješite u Jupyteru."
   ]
  },
  {
   "cell_type": "markdown",
   "metadata": {},
   "source": [
    "**Zadatak 1.** Pogledajte pažljivo kod u nastavku, a zatim odgovorite na pitanja koja slijede:"
   ]
  },
  {
   "cell_type": "code",
   "execution_count": null,
   "metadata": {},
   "outputs": [],
   "source": [
    "import pandas as pd\n",
    "studenti = [[\"Anne\",    \"f\", 13, 46, 160],\n",
    "            [\"Ben\",     \"m\", 14, 52, 165],\n",
    "            [\"Colin\",   \"m\", 13, 47, 157],\n",
    "            [\"Diana\",   \"f\", 15, 54, 165],\n",
    "            [\"Ethan\",   \"m\", 15, 56, 163],\n",
    "            [\"Fred\",    \"m\", 13, 45, 159],\n",
    "            [\"Gloria\",  \"f\", 14, 49, 161],\n",
    "            [\"Hellen\",  \"f\", 15, 52, 164],\n",
    "            [\"Ian\",     \"m\", 15, 57, 167],\n",
    "            [\"Jane\",    \"f\", 13, 45, 158],\n",
    "            [\"Kate\",    \"f\", 14, 51, 162]]\n",
    "studenti_df = pd.DataFrame(studenti)\n",
    "studenti_df.columns=[\"Ime\", \"Spol\", \"Godine\", \"Težina\", \"Visina\"]\n",
    "studenti_ix=studenti_df.set_index(\"Ime\")\n",
    "\n",
    "temp_anomalije = pd.read_csv(\"data/TempAnomalies.csv\", header=None)\n",
    "temp_anomalije_tr = temp_anomalije.T\n",
    "temp_anomalije_tr.columns = [\"Godina\", \"Anomalije\"]"
   ]
  },
  {
   "cell_type": "markdown",
   "metadata": {},
   "source": [
    "1. Koja je razlika između `studenti_df` i `studenti_ix`?\n",
    "2. Što znači `studenti_ix.index`?\n",
    "3. Koja je vrijednost `studenti_ix.loc[\"Fred\"]`?\n",
    "4. Koja je vrijednost `studenti_ix.loc[\"Fred\", \"Visina\"]`?\n",
    "5. Koja je vrijednost `studenti_df.loc[\"Fred\", \"Visina\"]`?\n",
    "6. Što mislite, zašto smo primijenili `T` na `temp_anomalije`?\n",
    "7. Koliko stupaca ima `temp_anomalije_tr`?"
   ]
  },
  {
   "cell_type": "markdown",
   "metadata": {},
   "source": [
    "**Zadatak 2.** Ovo je pregled potrošnje obitelji tijekom jedne godine (u lokalnoj valuti):\n",
    "  \n",
    "  | Stavka | Jan | Feb | Mar | Apr | May | Jun | Jul | Aug | Sep | Oct | Nov | Dec |\n",
    "  |--------|-----|-----|-----|-----|-----|-----|-----|-----|-----|-----|-----|-----|\n",
    "  | Stanarina             | 8,251 | 8,436 | 8,524 | 8,388 | 8,241 | 8,196 | 8,004 | 7,996 | 7,991 | 8,015 | 8,353 | 8,456 |\n",
    "  | Struja      | 4,321 | 4,530 | 4,115 | 3,990 | 3,985 | 3,726 | 3,351 | 3,289 | 3,295 | 3,485 | 3,826 | 3,834 |\n",
    "  | Telefon (fiksni) | 1,425 | 1,538 | 1,623 | 1,489 | 1,521 | 1,485 | 1,491 | 1,399 | 1,467 | 1,531 | 1,410 | 1,385 |\n",
    "  | Telefon (mobitel)     | 2,181 | 2,235 | 2,073 | 1,951 | 1,989 | 1,945 | 3,017 | 2,638 | 2,171 | 1,831 | 1,926 | 1,833 |\n",
    "  | TV i Internet  | 2,399 | 2,399 | 2,399 | 2,399 | 2,399 | 2,399 | 2,399 | 2,399 | 2,399 | 2,399 | 2,399 | 2,399  |\n",
    "  | Prijevoz        | 1,830 | 1,830 | 1,830 | 1,830 | 1,950 | 1,950 | 1,450 | 1,450 | 1,950 | 1,950 | 2,050 | 2,050 |\n",
    "  | Hrana             | 23,250 | 23,780 | 24,019 | 24,117 | 24,389 | 24,571 | 24,736 | 24,951 | 25,111 | 25,389 | 25,531 | 25,923 |\n",
    "  | Ostalo             | 4,500 | 3,700 | 5,100 | 3,500 | 2,750 | 4,250 | 7,320 | 8,250 | 3,270 | 4,290 | 3,200 | 8,390 |\n",
    "\n",
    "Ova tablica predstavljena kao lista izgleda ovako:"
   ]
  },
  {
   "cell_type": "code",
   "execution_count": null,
   "metadata": {},
   "outputs": [],
   "source": [
    "troškovi = [\n",
    "  [\"Stanarina\", 8251, 8436, 8524, 8388, 8241, 8196, 8004, 7996, 7991, 8015, 8353, 8456],\n",
    "  [\"Struja\", 4321, 4530, 4115, 3990, 3985, 3726, 3351, 3289, 3295, 3485, 3826, 3834],\n",
    "  [\"Telefon (fiksni)\", 1425, 1538, 1623, 1489, 1521, 1485, 1491, 1399, 1467, 1531, 1410, 1385],\n",
    "  [\"Telefon (mobitel)\", 2181, 2235, 2073, 1951, 1989, 1945, 3017, 2638, 2171, 1831, 1926, 1833],\n",
    "  [\"TV i Internet\", 2399, 2399, 2399, 2399, 2399, 2399, 2399, 2399, 2399, 2399, 2399, 2399 ],\n",
    "  [\"Prijevoz\", 1830, 1830, 1830, 1830, 1950, 1950, 1450, 1450, 1950, 1950, 2050, 2050],\n",
    "  [\"Hrana\", 23250, 23780, 24019, 24117, 24389, 24571, 24736, 24951, 25111, 25389, 25531, 25923],\n",
    "  [\"Ostalo\", 4500, 3700, 5100, 3500, 2750, 4250, 7320, 8250, 3270, 4290, 3200, 8390]\n",
    "]"
   ]
  },
  {
   "cell_type": "markdown",
   "metadata": {},
   "source": [
    "_(a)_ Pretvorite ovaj popis u _DataFrame_ i indeksirajte ga."
   ]
  },
  {
   "cell_type": "markdown",
   "metadata": {},
   "source": [
    "_(b)_ izračunajte prosječnu potrošnju ove obitelji po stavci (najamnina, električna energija itd.)."
   ]
  },
  {
   "cell_type": "markdown",
   "metadata": {},
   "source": [
    "**Zadatak 3.** Pet skupina učenika sudjelovalo je u studentskoj anketi o njihovim omiljenim filmskim žanrovima. Svaki je student mogao glasati za točno jedan žanr. Rezultati ankete sažeti su u nastavku:\n",
    "\n",
    "| Žanr | Group 1 | Group 2 | Group 3 | Group 4 | Group 5 |\n",
    "|------|-----|-----|-----|-----|-----|\n",
    "| Komedija | 4 | 3 | 5 | 2 | 3 |\n",
    "| Horor | 1 | 0 | 2 | 1 | 6 |\n",
    "| SF | 10 | 7 | 9 | 8 | 9 |\n",
    "| Avantur | 4 | 3 | 4 | 2 | 2 |\n",
    "| Povijsni | 1 | 0 | 2 | 0 | 0 |\n",
    "| Romantika | 11 | 10 | 7 | 9 | 8 |"
   ]
  },
  {
   "cell_type": "markdown",
   "metadata": {},
   "source": [
    "_(a)_ Pretvorite u DataFrame indeksiran po žanru."
   ]
  },
  {
   "cell_type": "markdown",
   "metadata": {},
   "source": [
    "_(b)_ izračunava se broj glasova po žanru."
   ]
  },
  {
   "cell_type": "markdown",
   "metadata": {},
   "source": [
    "_(c)_ Za svaku grupu izračunajte ukupan broj učenika koji su sudjelovali u istraživanju."
   ]
  },
  {
   "cell_type": "markdown",
   "metadata": {},
   "source": [
    "_(d)_ Koliki je ukupan broj učenika koji su sudjelovali na anketama?"
   ]
  },
  {
   "cell_type": "markdown",
   "metadata": {},
   "source": [
    "**Zadatak 4.** Hranjivi podaci za određene proizvode navedeni su u donjoj tablici:\n",
    "\n",
    "| Proizvodi (100g) | Energetska vrijednost (kcal) | Ugljiko hidrati (g) | Proteini (g) | Masti (g) |\n",
    "|--|--|--|--|--|\n",
    "| Raženi kruh | 250 | 48.2 | 8.4 | 1.0 |\n",
    "| Bijeli kruh | 280 | 57.5 | 6.8 | 0.5 |\n",
    "| Sirni namaz | 127 | 4.0 | 3.1 | 10.5 |\n",
    "| Margarin | 532 | 4.6 | 3.2 | 1.5 |\n",
    "| Jogurt | 48 | 4.7 | 4.0 | 3.3 |\n",
    "| Mlijeko (2.8%) | 57 | 4.7 | 3.3 | 2.8 |\n",
    "| Salama | 523 | 1.0 | 17.0 | 47.0 |\n",
    "| Šunka | 268 | 0.0 | 25.5 | 18.4 |\n",
    "| Pileća prsa | 110 | 0.0 | 23.1 | 1.2 |\n",
    "\n",
    "U ćeliji ispod pretvorili smo ovu tablicu u _DataFrame_ indeksiran nazivom proizvoda:"
   ]
  },
  {
   "cell_type": "code",
   "execution_count": null,
   "metadata": {},
   "outputs": [],
   "source": [
    "proizvodi = pd.DataFrame([\n",
    "    [\"Raženi kruh\", 250, 48.2, 8.4, 1.0],\n",
    "    [\"Bijeli kruh\", 280, 57.5, 6.8, 0.5],\n",
    "    [\"Sirni namaz\", 127, 4.0, 3.1, 10.5],\n",
    "    [\"Margarin\", 532, 4.6, 3.2, 1.5],\n",
    "    [\"Jogurt\", 48, 4.7, 4.0, 3.3],\n",
    "    [\"Mlijeko\", 57, 4.7, 3.3, 2.8],\n",
    "    [\"Salama\", 523, 1.0, 17.0, 47.0],\n",
    "    [\"Šunka\", 268, 0.0, 25.5, 18.4],\n",
    "    [\"Pileća prsa\", 110, 0.0, 23.1, 1.2]])\n",
    "proizvodi.columns=[\"Proizvodi\", \"Engv\", \"Ugljh\", \"Prot\", \"Masti\"]\n",
    "proizvodi_ix = proizvodi.set_index(\"Proizvodi\")"
   ]
  },
  {
   "cell_type": "markdown",
   "metadata": {},
   "source": [
    "_(a)_ Mike je za doručak pojeo dva komada bijelog kruha i popio šalicu mlijeka. Na svakom komadu kruha bilo je malo namaza od sira i kriška šunke. Kolika je hranjiva vrijednost Mikeovog doručka (u kcalima) ako pretpostavimo da je svaki komad kruha težak 100 g, da se koristi 10h namaza po komadu kruha, da jedna kriška šunke teži 20 g i da šalica mlijeka sadrži 200 d mlijeka?"
   ]
  },
  {
   "cell_type": "markdown",
   "metadata": {},
   "source": [
    "_(b)_ Koliko je masnoće bilo u Mikeovom doručku?"
   ]
  },
  {
   "cell_type": "markdown",
   "metadata": {},
   "source": [
    "_(c)_ Vizualizirajte količinu ugljiko hidrata u tim proizvodima."
   ]
  },
  {
   "cell_type": "markdown",
   "metadata": {},
   "source": [
    "**Zadatak 5.** Temperaturna anomalija je broj koji nam govori koliko prosječna temperatura u određenoj godini odstupa od optimalne vrijednosti. Datoteka TempAnomalies.csv koja se nalazi u podacima mape sadrži temperaturne anomalije (u stupnjevima Celzija) za peroid 40 godina (1977-2017). Datoteka ima dva retka kao što je ova:\n",
    "\n",
    "    1977,1978,1979,1980,1981,...\n",
    "    0.22,0.14,0.15,0.3,0.37,...\n",
    "\n",
    "_(a)_ Umetnite tablicu u _DataFrame_ (Napomena: tablica nema zaglavlje, pa vam je potrebno `header=None` opcije u vašem `read_scv`.)"
   ]
  },
  {
   "cell_type": "code",
   "execution_count": null,
   "metadata": {},
   "outputs": [],
   "source": []
  },
  {
   "cell_type": "markdown",
   "metadata": {},
   "source": [
    "_(b)_ Prenesite tablicu i nazovite dva stupca \"Godina\" i \"Anomalije\"."
   ]
  },
  {
   "cell_type": "code",
   "execution_count": null,
   "metadata": {},
   "outputs": [],
   "source": []
  },
  {
   "cell_type": "markdown",
   "metadata": {},
   "source": [
    "_(c)_ Indeksirajte tablicu."
   ]
  },
  {
   "cell_type": "code",
   "execution_count": null,
   "metadata": {},
   "outputs": [],
   "source": []
  },
  {
   "cell_type": "markdown",
   "metadata": {},
   "source": [
    "_(d)_ Vizualizirajte temperaturne anomalije linijskim grafikonom."
   ]
  },
  {
   "cell_type": "code",
   "execution_count": null,
   "metadata": {},
   "outputs": [],
   "source": []
  }
 ],
 "metadata": {
  "kernelspec": {
   "display_name": "Python 3",
   "language": "python",
   "name": "python3"
  },
  "language_info": {
   "codemirror_mode": {
    "name": "ipython",
    "version": 3
   },
   "file_extension": ".py",
   "mimetype": "text/x-python",
   "name": "python",
   "nbconvert_exporter": "python",
   "pygments_lexer": "ipython3",
   "version": "3.7.6"
  }
 },
 "nbformat": 4,
 "nbformat_minor": 2
}
