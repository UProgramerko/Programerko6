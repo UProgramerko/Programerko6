{
 "cells": [
  {
   "cell_type": "markdown",
   "metadata": {},
   "source": [
    "# 8. Izmjena tablica i pisanje u datoteke\n",
    "\n",
    "U ovoj lekciji ćemo govoriti o:\n",
    "1. kako dodati novi red ili stupac u indeksiranu tablicu; i\n",
    "2. kako napisati tablicu u lokalnu datoteku."
   ]
  },
  {
   "cell_type": "markdown",
   "metadata": {},
   "source": [
    "## 8.1. Dodavanje novih redaka i stupaca"
   ]
  },
  {
   "cell_type": "markdown",
   "metadata": {},
   "source": [
    "Izračunavanje iste statistike iznova i iznova može drastično usporiti analize podataka. Stoga je vrlo često u analizi velikih nizova podataka unaprijed izračunati neke stvari i pohraniti vrijednosti u tablicu. Razlog je očigledan: brže je dobiti unaprijed izračunatu vrijednost iz tablice, nego izvršiti izračunavanje ispočetka.\n",
    "\n",
    "Pokažimo to na jednostavnom primjeru. Prisjetite se ocjena studenata s prethodnog predavanja:"
   ]
  },
  {
   "cell_type": "code",
   "execution_count": null,
   "metadata": {},
   "outputs": [],
   "source": [
    "import pandas as pd\n",
    "ocjene = [[\"Anne\",    5, 3, 5, 2, 4, 5],\n",
    "         [\"Ben\",     5, 5, 5, 5, 5, 5],\n",
    "         [\"Colin\",   4, 5, 3, 4, 5, 4],\n",
    "         [\"Diana\",   5, 5, 5, 5, 5, 5],\n",
    "         [\"Ethan\",   3, 4, 2, 3, 3, 4],\n",
    "         [\"Fred\",    4, 5, 3, 4, 5, 4],\n",
    "         [\"Gloria\",  3, 3, 3, 4, 2, 3],\n",
    "         [\"Hellen\",  5, 5, 4, 5, 4, 5],\n",
    "         [\"Ian\",     4, 5, 4, 4, 3, 5],\n",
    "         [\"Jane\",    2, 2, 2, 2, 2, 5],\n",
    "         [\"Kate\",    3, 4, 5, 4, 5, 5]]\n",
    "ocjene_df = pd.DataFrame(ocjene)\n",
    "ocjene_df.columns=[\"Ime\", \"Informatika\", \"Engleski\", \"Matematika\", \"Fizika\", \"Povijest\", \"Likovni\"]\n",
    "ocjene_ix = ocjene_df.set_index(\"Ime\")\n",
    "ocjene_ix"
   ]
  },
  {
   "cell_type": "markdown",
   "metadata": {},
   "source": [
    "Sada ćemo u tablicu dodati novi stupac, izračunati prosječne ocjene učenika i spremiti ih u novi stupac. Da biste dodali novi stupac u tablicu, jednostavno dodijelite neku vrijednost novom nazivu stupca:"
   ]
  },
  {
   "cell_type": "code",
   "execution_count": null,
   "metadata": {},
   "outputs": [],
   "source": [
    "ocjene_ix[\"Prosjek(Studenti)\"] = 0.0"
   ]
  },
  {
   "cell_type": "markdown",
   "metadata": {},
   "source": [
    "Ovo stvara novi stupac pod nazivom \"Prosjek(Studenti)\" i dodjeljuje nulu svim unosima u stupcu. Da vidimo što smo postigli:"
   ]
  },
  {
   "cell_type": "code",
   "execution_count": null,
   "metadata": {},
   "outputs": [],
   "source": [
    "ocjene_ix"
   ]
  },
  {
   "cell_type": "markdown",
   "metadata": {},
   "source": [
    "Kao sljedeći korak pohranit ćemo prosječnu ocjenu svakog učenika u odgovarajući unos tablice. Imajte na umu da nam više nije dopušteno pisanje `ocjene_ix.loc[student].mean()` jer imamo dodatni stupac čija se vrijednost ne smije uvrstiti u prosjek."
   ]
  },
  {
   "cell_type": "code",
   "execution_count": null,
   "metadata": {},
   "outputs": [],
   "source": [
    "for student in ocjene_ix.index:\n",
    "    ocjene_ix.loc[student, \"Prosjek(Studenti)\"] = ocjene_ix.loc[student, \"Informatika\":\"Likovni\"].mean()"
   ]
  },
  {
   "cell_type": "markdown",
   "metadata": {},
   "source": [
    "Ovo je nova tablica:"
   ]
  },
  {
   "cell_type": "code",
   "execution_count": null,
   "metadata": {},
   "outputs": [],
   "source": [
    "ocjene_ix"
   ]
  },
  {
   "cell_type": "markdown",
   "metadata": {},
   "source": [
    "Da bismo izračunali prosječnu ocjenu po predmetu, prvo dodamo novi redak i ispunimo ga s vrijednostima:"
   ]
  },
  {
   "cell_type": "code",
   "execution_count": null,
   "metadata": {},
   "outputs": [],
   "source": [
    "ocjene_ix.loc[\"Prosjek(Predmet)\"] = 0.0\n",
    "ocjene_ix"
   ]
  },
  {
   "cell_type": "markdown",
   "metadata": {},
   "source": [
    "a zatim izračunati prosjeke i pohraniti ih:"
   ]
  },
  {
   "cell_type": "code",
   "execution_count": null,
   "metadata": {},
   "outputs": [],
   "source": [
    "for predmet in ocjene_ix.columns:\n",
    "    ocjene_ix.loc[\"Prosjek(Predmet)\", predmet] = ocjene_ix.loc[\"Anne\":\"Kate\", predmet].mean()\n",
    "ocjene_ix"
   ]
  },
  {
   "cell_type": "markdown",
   "metadata": {},
   "source": [
    "Krenimo kroz još jedan primjer. Datoteka _PopulationSrb2017.csv_ in the folder _data_ u podacima mape sadrži procijenjenu broja građana Srbije u 2017. godini prema spolu i dobi. Prvi red je zaglavlje tablice. Učitajmo tablicu i pogledajte:"
   ]
  },
  {
   "cell_type": "code",
   "execution_count": null,
   "metadata": {},
   "outputs": [],
   "source": [
    "popSrb = pd.read_csv(\"data/PopulationSrb2017.csv\")\n",
    "popSrb.head()"
   ]
  },
  {
   "cell_type": "code",
   "execution_count": null,
   "metadata": {},
   "outputs": [],
   "source": [
    "popSrb.tail()"
   ]
  },
  {
   "cell_type": "markdown",
   "metadata": {},
   "source": [
    "Indeksirajte tablicu prema dobi:"
   ]
  },
  {
   "cell_type": "code",
   "execution_count": null,
   "metadata": {},
   "outputs": [],
   "source": [
    "popSrb_ix = popSrb.set_index(\"Age\")\n",
    "popSrb_ix.head()"
   ]
  },
  {
   "cell_type": "markdown",
   "metadata": {},
   "source": [
    "Te ćemo podatke iskoristiti za izradu male demografske analize. Izračunat ćemo prosjek muškaraca i žena po dobnoj skupini i prikazati to crtežom:"
   ]
  },
  {
   "cell_type": "code",
   "execution_count": null,
   "metadata": {},
   "outputs": [],
   "source": [
    "popSrb_ix[\"M/F\"] = 0.0\n",
    "for i in popSrb_ix.index:\n",
    "    popSrb_ix.loc[i, \"M/F\"] = popSrb_ix.loc[i, \"M\"] / popSrb_ix.loc[i, \"F\"]\n",
    "popSrb_ix.head(10)"
   ]
  },
  {
   "cell_type": "markdown",
   "metadata": {},
   "source": [
    "The line chart is now easy to get:"
   ]
  },
  {
   "cell_type": "code",
   "execution_count": null,
   "metadata": {},
   "outputs": [],
   "source": [
    "import matplotlib.pyplot as plt\n",
    "plt.figure(figsize=(20,5))\n",
    "plt.plot(popSrb_ix.index, popSrb_ix[\"M/F\"])\n",
    "plt.title(\"Omjer muškaraca i žena u Srbiji u 2017. godini prema dobi\")\n",
    "plt.show()\n",
    "plt.close()"
   ]
  },
  {
   "cell_type": "markdown",
   "metadata": {},
   "source": [
    "Krivulja počinje otprilike oko 1 (što znači da ima otprilike isti broj muškaraca i žena u tim dobnim skupinama), ali onda pada znatno ispod 1 (što znači da je u nekom trenutku više žena nego muškaraca). Otkrijmo koje su dobne skupine kritične crtanjem vodoravne crte na visini 1:"
   ]
  },
  {
   "cell_type": "code",
   "execution_count": null,
   "metadata": {},
   "outputs": [],
   "source": [
    "plt.figure(figsize=(20,5))\n",
    "plt.plot(popSrb_ix.index, popSrb_ix[\"M/F\"])\n",
    "plt.plot(popSrb_ix.index, [1.0] * len(popSrb_ix.index))\n",
    "plt.title(\"Omjer muškaraca i žena u Srbiji u 2017. godini prema dobi\")\n",
    "plt.show()\n",
    "plt.close()"
   ]
  },
  {
   "cell_type": "markdown",
   "metadata": {},
   "source": [
    "Iz grafikona vidimo da je u dobnim skupinama od 46 godina i kasnije broj žena značajno veći od broja muškaraca."
   ]
  },
  {
   "cell_type": "markdown",
   "metadata": {},
   "source": [
    "## 8.2. Pisanje tablica u datoteke\n",
    "\n",
    "Važno je biti u mogućnosti zapisati modificirane tablice u datoteke kako ne bismo morali ponavljati intermedijarne proračune čiji su rezultati već pohranjeni u tablici.\n",
    "\n",
    "Funkcija `to_csv` upisuje tablicu u CSV datoteku čije se ime navodi kao argument. Na primjer, izmijenili smo tablicu `popSrb_ix` izračunavanjem omjera muškaraca i žena za svaku dobnu skupinu. Ima smisla napisati ovu novu tablicu u novu datoteku za kasniju upotrebu:"
   ]
  },
  {
   "cell_type": "code",
   "execution_count": null,
   "metadata": {},
   "outputs": [],
   "source": [
    "popSrb_ix.to_csv(\"data/PopulationSrb2017-MF-ratio.csv\")"
   ]
  },
  {
   "cell_type": "markdown",
   "metadata": {},
   "source": [
    "Kao još jedan primjer, nazovimo tablicu dostupnu na\n",
    "\n",
    "    https://raw.githubusercontent.com/cs109/2014_data/master/countries.csv\n",
    "\n",
    "i dopustite nam da tablicu napišemo u podatke lokalne datoteke _data/countries.csv_ :"
   ]
  },
  {
   "cell_type": "code",
   "execution_count": null,
   "metadata": {},
   "outputs": [],
   "source": [
    "countries = pd.read_csv(\"https://raw.githubusercontent.com/cs109/2014_data/master/countries.csv\")\n",
    "countries.to_csv(\"data/countries.csv\")"
   ]
  },
  {
   "cell_type": "markdown",
   "metadata": {},
   "source": [
    "Ako pogledate datoteku, vidjet ćete da ona izgleda ovako:\n",
    "\n",
    "    ,Country,Region\n",
    "    0,Algeria,AFRICA\n",
    "    1,Angola,AFRICA\n",
    "    2,Benin,AFRICA\n",
    "    3,Botswana,AFRICA\n",
    "    4,Burkina,AFRICA\n",
    "    5,Burundi,AFRICA\n",
    "    6,Cameroon,AFRICA\n",
    "    7,Cape Verde,AFRICA\n",
    "    8,Central African Republic,AFRICA\n",
    "    9,Chad,AFRICA\n",
    "    (etc)\n",
    "\n",
    "Dakle, sustav je napisao stupac indeksa (zadani) zajedno s relevantnim podacima. To je bilo prikladno za vrijeme pisanja tablice u `popSrb_ix` u datoteku, jer je tablica indeksirana dobnim skupinama, ali ovdje to nije slučaj. Stoga ćemo ponovo napisati tablicu, ali ovaj put ćemo uputiti sustav da ne piše indeks (što je, u ovom slučaju, suludi slijed brojeva):"
   ]
  },
  {
   "cell_type": "code",
   "execution_count": null,
   "metadata": {},
   "outputs": [],
   "source": [
    "countries.to_csv(\"data/countries.csv\", index=False)"
   ]
  },
  {
   "cell_type": "markdown",
   "metadata": {},
   "source": [
    "Datoteka sada izgleda ovako:\n",
    "\n",
    "    Country,Region\n",
    "    Algeria,AFRICA\n",
    "    Angola,AFRICA\n",
    "    Benin,AFRICA\n",
    "    Botswana,AFRICA\n",
    "    Burkina,AFRICA\n",
    "    Burundi,AFRICA\n",
    "    Cameroon,AFRICA\n",
    "    Cape Verde,AFRICA\n",
    "    Central African Republic,AFRICA\n",
    "    Chad,AFRICA\n",
    "    (etc)"
   ]
  },
  {
   "cell_type": "markdown",
   "metadata": {},
   "source": [
    "## 8.3. Zadaci"
   ]
  },
  {
   "cell_type": "markdown",
   "metadata": {},
   "source": [
    "Zadatke riješite u Jupyteru."
   ]
  },
  {
   "cell_type": "markdown",
   "metadata": {},
   "source": [
    "**Zadatak 1.** Pažljivo pogledajte kod, a zatim odgovorite na donja pitanja:"
   ]
  },
  {
   "cell_type": "code",
   "execution_count": null,
   "metadata": {},
   "outputs": [],
   "source": [
    "import pandas as pd\n",
    "\n",
    "US = pd.read_html(\"https://simple.wikipedia.org/wiki/List_of_U.S._states\", header=[0,1])[0]\n",
    "US.to_csv(\"data/USA.csv\")"
   ]
  },
  {
   "cell_type": "markdown",
   "metadata": {},
   "source": [
    "1. U kojem će formatu biti napisana tablica \"US\"?\n",
    "2. Hoće li to biti napisano lokalno ili na neki udaljeni resurs?"
   ]
  },
  {
   "cell_type": "markdown",
   "metadata": {},
   "source": [
    "**Zadatak 2.**  Biolozi su do sada klasificirali više od 2 000 000 vrsta živih bića. Sve su podijeljene u pet kraljevstava, a približan broj vrsta po kraljevstvu naveden je u ovoj tablici:\n",
    "\n",
    "| Carstvo  | Broj vrsta |\n",
    "|--|--|\n",
    "| Životinje | 1,400,000 |\n",
    "| Biljke    | 290,000 |\n",
    "| Gljive    | 100,000 |\n",
    "| Protoctista | 200,000 |\n",
    "| Prokaryotae   | 10,000 |\n",
    "\n",
    "Pretvorite ovu tablicu u indeksirani DataFrame, zatim dodajte novi redak pod nazivom \"Ukupno\" i izračunajte ukupni broj vrsta na koje se odnosi ova tablica."
   ]
  },
  {
   "cell_type": "markdown",
   "metadata": {},
   "source": [
    "**Zadatak 3.** Sljedeća ćelija sadrži podatke o težini i dužini/visini dječaka u prvih sedam godina njegovog života."
   ]
  },
  {
   "cell_type": "code",
   "execution_count": null,
   "metadata": {},
   "outputs": [],
   "source": [
    "razdoblje    = [\"6 m\", \"1.5 y\", \"2.5 y\", \"3.5 y\", \"4.5 y\", \"5.5 y\", \"6.5 y\"]\n",
    "težinaKG  = [5.9,   11.5,    14.8,    20.5,    22.0,    24.2,    29.0   ]\n",
    "visinaCM  = [62.0,  84.0,    97.0,    115.0,   122.5,   131.5,   135.0  ]"
   ]
  },
  {
   "cell_type": "markdown",
   "metadata": {},
   "source": [
    "Prenesite tablicu, dodajte novi stupac zvan \"BMI\" u transponiranu tablicu, a zatim za svaki red izračunajte BMI ( _indeks tjelesne mase_ ) koristeći formulu:\n",
    "\n",
    "$$\\hbox{BMI} = \\frac{\\hbox{težina u kilogramima}}{(\\hbox{visina u metrima})^2}$$\n",
    "\n",
    "Napišite novu tablicu u datoteke _data/BMI.csv_"
   ]
  },
  {
   "cell_type": "markdown",
   "metadata": {},
   "source": [
    "**Zadatak 4.** Sljedeća tablica sažima najviše i najniže zabilježene temperature (in $^\\circ$C) na svakom od kontinenata:\n",
    "\n",
    "|Kontinent:              | Europa | Azija  | Afrika | Sjeverna Amerika   | Južna Amerika | Australija  | Antarktika |\n",
    "|------------------------|--------|-------|--------|-----------------|---------------|------------|-----------|\n",
    "|Najviša zabilježena temp:| 48     | 54    | 55     | 56.7            | 48.9          | 50.7       | 19.8      |\n",
    "|Najniža zabilježena temp:| -58.1  | -67.8 | -23.9  | -63             | -32.8         | -23        | -89.2     |\n",
    "\n",
    "Dodajte novi redak u ovu tablicu i izračunajte raspon maksimalne temperature za svaki kontinent (oduzimajući najnižu zabilježenu temperaturu od najviše zabilježene temperature)."
   ]
  },
  {
   "cell_type": "markdown",
   "metadata": {},
   "source": [
    "**Zadatak 5.** Ovo je pregled potrošnje obitelji tijekom jedne godine (u lokalnoj valuti):\n",
    "  \n",
    "  | Stavka | Jan | Feb | Mar | Apr | May | Jun | Jul | Aug | Sep | Oct | Nov | Dec |\n",
    "  |--------|-----|-----|-----|-----|-----|-----|-----|-----|-----|-----|-----|-----|\n",
    "  | Stanarina             | 8,251 | 8,436 | 8,524 | 8,388 | 8,241 | 8,196 | 8,004 | 7,996 | 7,991 | 8,015 | 8,353 | 8,456 |\n",
    "  | Struja      | 4,321 | 4,530 | 4,115 | 3,990 | 3,985 | 3,726 | 3,351 | 3,289 | 3,295 | 3,485 | 3,826 | 3,834 |\n",
    "  | Telefon (fiksni) | 1,425 | 1,538 | 1,623 | 1,489 | 1,521 | 1,485 | 1,491 | 1,399 | 1,467 | 1,531 | 1,410 | 1,385 |\n",
    "  | Telefon (mobitel)     | 2,181 | 2,235 | 2,073 | 1,951 | 1,989 | 1,945 | 3,017 | 2,638 | 2,171 | 1,831 | 1,926 | 1,833 |\n",
    "  | TV i Internet  | 2,399 | 2,399 | 2,399 | 2,399 | 2,399 | 2,399 | 2,399 | 2,399 | 2,399 | 2,399 | 2,399 | 2,399  |\n",
    "  | Prijevoz        | 1,830 | 1,830 | 1,830 | 1,830 | 1,950 | 1,950 | 1,450 | 1,450 | 1,950 | 1,950 | 2,050 | 2,050 |\n",
    "  | Hrana             | 23,250 | 23,780 | 24,019 | 24,117 | 24,389 | 24,571 | 24,736 | 24,951 | 25,111 | 25,389 | 25,531 | 25,923 |\n",
    "  | Ostalo             | 4,500 | 3,700 | 5,100 | 3,500 | 2,750 | 4,250 | 7,320 | 8,250 | 3,270 | 4,290 | 3,200 | 8,390 |\n",
    "\n",
    "Ova tablica predstavljena kao lista izgleda ovako:"
   ]
  },
  {
   "cell_type": "code",
   "execution_count": null,
   "metadata": {},
   "outputs": [],
   "source": [
    "troškovi = [\n",
    "  [\"Stanarina\", 8251, 8436, 8524, 8388, 8241, 8196, 8004, 7996, 7991, 8015, 8353, 8456],\n",
    "  [\"Struja\", 4321, 4530, 4115, 3990, 3985, 3726, 3351, 3289, 3295, 3485, 3826, 3834],\n",
    "  [\"Telefon (fiksni)\", 1425, 1538, 1623, 1489, 1521, 1485, 1491, 1399, 1467, 1531, 1410, 1385],\n",
    "  [\"Telefon (mobitel)\", 2181, 2235, 2073, 1951, 1989, 1945, 3017, 2638, 2171, 1831, 1926, 1833],\n",
    "  [\"TV i Internet\", 2399, 2399, 2399, 2399, 2399, 2399, 2399, 2399, 2399, 2399, 2399, 2399 ],\n",
    "  [\"Prijevoz\", 1830, 1830, 1830, 1830, 1950, 1950, 1450, 1450, 1950, 1950, 2050, 2050],\n",
    "  [\"Hrana\", 23250, 23780, 24019, 24117, 24389, 24571, 24736, 24951, 25111, 25389, 25531, 25923],\n",
    "  [\"Ostalo\", 4500, 3700, 5100, 3500, 2750, 4250, 7320, 8250, 3270, 4290, 3200, 8390]\n",
    "]"
   ]
  },
  {
   "cell_type": "markdown",
   "metadata": {},
   "source": [
    "_(a)_ Pretvorite ovaj popis u indeksirani _DataFrame_."
   ]
  },
  {
   "cell_type": "markdown",
   "metadata": {},
   "source": [
    "_(b)_ Dodajte novi redak pod nazivom \"Ukupno\" i u njega pohranite ukupne troškove života po mjesecu (siječanj, veljača, ožujak itd.)."
   ]
  },
  {
   "cell_type": "markdown",
   "metadata": {},
   "source": [
    "_(c)_ Dodajte novi stupac nazvan \"Prosječno\" i u njega unesite prosječne troškove po svakoj vrsti troškova (Najam, Električna energija itd.)."
   ]
  },
  {
   "cell_type": "markdown",
   "metadata": {},
   "source": [
    "_(d)_ Napišite novu tablicu u podatke _data/LivingCosts.csv_"
   ]
  }
 ],
 "metadata": {
  "kernelspec": {
   "display_name": "Python 3",
   "language": "python",
   "name": "python3"
  },
  "language_info": {
   "codemirror_mode": {
    "name": "ipython",
    "version": 3
   },
   "file_extension": ".py",
   "mimetype": "text/x-python",
   "name": "python",
   "nbconvert_exporter": "python",
   "pygments_lexer": "ipython3",
   "version": "3.7.6"
  }
 },
 "nbformat": 4,
 "nbformat_minor": 2
}
