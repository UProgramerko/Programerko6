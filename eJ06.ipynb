{
 "cells": [
  {
   "cell_type": "markdown",
   "metadata": {},
   "source": [
    "# 6. Predstavljanje podataka u tablicama\n",
    "\n",
    "U ovoj lekciji ćemo govoriti o:\n",
    "1. kako predstaviti tablice pomoću lista u Pythonu;\n",
    "2. kako predstaviti tablice pomoću učinkovitijeg modela koji pruža biblioteka _pandas_ ;\n",
    "3. kako vizualizirati podatke predstavljene kao tablice; i\n",
    "4. kako čitati tablice iz lokalnih datoteka i udaljenih izvora."
   ]
  },
  {
   "cell_type": "markdown",
   "metadata": {},
   "source": [
    "## 6.1. Predstavljanje tablica zadanih podataka pomoću lista\n",
    "\n",
    "Najefikasniji način organiziranja velikih količina podataka je da se oni stave u tablicu. Na primjer, ova tablica sadrži neke osnovne činjenice o grupi učenika:\n",
    "\n",
    "| __Ime__ | __Spol__ | __God (yrs)__ | __Težina (kg)__ | __Visina (cm)__ |\n",
    "|---|---|---|---|---|\n",
    "|     Anne | f | 13 | 46 | 160 |\n",
    "|      Ben | m | 14 | 52 | 165 |\n",
    "|    Colin | m | 13 | 47 | 157 |\n",
    "|    Diana | f | 15 | 54 | 165 |\n",
    "|    Ethan | m | 15 | 56 | 163 |\n",
    "|     Fred | m | 13 | 45 | 159 |\n",
    "|   Gloria | f | 14 | 49 | 161 |\n",
    "|   Hellen | f | 15 | 52 | 164 |\n",
    "|      Ian | m | 15 | 57 | 167 |\n",
    "|     Jane | f | 13 | 45 | 158 |\n",
    "|     Kate | f | 14 | 51 | 162 |\n",
    "\n",
    "Da bismo mogli da obrađujemo i analiziramo podatke, prvo smo trebali predstaviti u obliku strukture podatka. Jedan jednostavan način je da učinite da svaki crveni red tablice predstavimo jednom listu, i da sve te liste zapakiramo u jednu veliku listu, recimo ovako:"
   ]
  },
  {
   "cell_type": "code",
   "execution_count": null,
   "metadata": {},
   "outputs": [],
   "source": [
    "podaci = [[\"Anne\",    \"f\", 13, 46, 160],\n",
    "            [\"Ben\",     \"m\", 14, 52, 165],\n",
    "            [\"Colin\",   \"m\", 13, 47, 157],\n",
    "            [\"Diana\",   \"f\", 15, 54, 165],\n",
    "            [\"Ethan\",   \"m\", 15, 56, 163],\n",
    "            [\"Fred\",    \"m\", 13, 45, 159],\n",
    "            [\"Gloria\",  \"f\", 14, 49, 161],\n",
    "            [\"Hellen\",  \"f\", 15, 52, 164],\n",
    "            [\"Ian\",     \"m\", 15, 57, 167],\n",
    "            [\"Jane\",    \"f\", 13, 45, 158],\n",
    "            [\"Kate\",    \"f\", 14, 51, 162]]"
   ]
  },
  {
   "cell_type": "markdown",
   "metadata": {},
   "source": [
    "Sada lako možemo dohvatiti podatke o bilo kojem učeniku u grupi. Na primjer, da bismo vidjeli podatke o Ethanu jednostavno upišemo `podaci[4]` (_Važno! Prvi element liste ima indeks 0, zato podaci o Ethanu koji su navedeni u 5. redu tablice imaju indeks 4_):"
   ]
  },
  {
   "cell_type": "code",
   "execution_count": null,
   "metadata": {},
   "outputs": [],
   "source": [
    "podaci[4]"
   ]
  },
  {
   "cell_type": "markdown",
   "metadata": {},
   "source": [
    "S druge strane, takav je način prikazivanja tablica nezgodan jer nije lako raditi sa stupcima tablice. Na primjer, ako želimo izračunati prosječnu visinu učenika u grupi, morali bismo napisati program:"
   ]
  },
  {
   "cell_type": "code",
   "execution_count": null,
   "metadata": {},
   "outputs": [],
   "source": [
    "sum = 0\n",
    "for dijete in podaci:\n",
    "    sum += dijete[4]\n",
    "float(sum) / len(podaci)"
   ]
  },
  {
   "cell_type": "markdown",
   "metadata": {},
   "source": [
    "Program radi na sljedeći način:\n",
    "\n",
    "* prvo inicijaliziramo varijablu `sum` na 0 (na kraju će sadržavati zbroj visina učenika);\n",
    "* nakon tog ciklusa `for dijete in podaci`: prolazi svako dijete u grupi (jer svaki element liste `podaci` predstavlja podatke o jednom djetetu) i dodaje zbroju njegove visine (visina djeteta je na petom mjestu u grupi podataka za to dijete, a to je element liste s indeksom 4);\n",
    "* konačno izračunavamo prosjek.\n",
    "\n",
    "Ovo nije teško, ali isto tako nije baš povoljno. Potrebna nam je fleksibilnija struktura podataka."
   ]
  },
  {
   "cell_type": "markdown",
   "metadata": {},
   "source": [
    "## 6.2. Biblioteka _pandas_, struktura podataka _DataFrame_ i rad sa stupcima tablice\n",
    "\n",
    "Biblioteka _pandas_ razvijena je s efektivnim načinom izrade tablica. Uvozimo biblioteku i dodijeli joj nadimak:"
   ]
  },
  {
   "cell_type": "code",
   "execution_count": null,
   "metadata": {},
   "outputs": [],
   "source": [
    "import pandas as pd"
   ]
  },
  {
   "cell_type": "markdown",
   "metadata": {},
   "source": [
    "Ova biblioteka pruža snažnu strukturu podataka nazvanu _DataFrame_. Započnimo pretvaranjem podataka o grupi učenika u DataFrame:"
   ]
  },
  {
   "cell_type": "code",
   "execution_count": null,
   "metadata": {},
   "outputs": [],
   "source": [
    "studenti_df = pd.DataFrame(studenti)"
   ]
  },
  {
   "cell_type": "markdown",
   "metadata": {},
   "source": [
    "Ova naredba jednostavno preuređuje podatke s liste `studenti` u DataFrame. Pogledajmo kako izgleda DataFrame:"
   ]
  },
  {
   "cell_type": "code",
   "execution_count": null,
   "metadata": {},
   "outputs": [],
   "source": [
    "studenti_df"
   ]
  },
  {
   "cell_type": "markdown",
   "metadata": {},
   "source": [
    "Sve informacije su tu, poredane u urednu tablicu. Da bismo tablicu učinili čitljivijom, imenovat ćemo stupce tablice pomoću opcije `columns`:"
   ]
  },
  {
   "cell_type": "code",
   "execution_count": null,
   "metadata": {},
   "outputs": [],
   "source": [
    "studenti_df.columns=[\"Ime\", \"Spol\", \"Godine\", \"Težina\", \"Visina\"]\n",
    "studenti_df"
   ]
  },
  {
   "cell_type": "markdown",
   "metadata": {},
   "source": [
    "Sada, kada svaki stupac ima svoje ime, možemo pristupiti pojedinačnim kolonama ovako:"
   ]
  },
  {
   "cell_type": "code",
   "execution_count": null,
   "metadata": {},
   "outputs": [],
   "source": [
    "studenti_df[\"Ime\"]"
   ]
  },
  {
   "cell_type": "code",
   "execution_count": null,
   "metadata": {},
   "outputs": [],
   "source": [
    "studenti_df[\"Visina\"]"
   ]
  },
  {
   "cell_type": "markdown",
   "metadata": {},
   "source": [
    "U tablici možete uvijek dobiti naziv svih stupaca:"
   ]
  },
  {
   "cell_type": "code",
   "execution_count": null,
   "metadata": {},
   "outputs": [],
   "source": [
    "studenti_df.columns"
   ]
  },
  {
   "cell_type": "markdown",
   "metadata": {},
   "source": [
    "Sljedeće funkcije olakšavaju nam izračunavanje elementarnih statistika na stupcima DataFramea:\n",
    "* `sum` -- zbroj elemenata u stupcu;\n",
    "* `mean` -- prosječna vrijednost (_aritmetička sredina_) elemenata u stupcu;\n",
    "* `median` -- srednja vrijednost elemenata u stupcu;\n",
    "* `min` -- minimalna vrijednost elemenata u stupcu;\n",
    "* `max` -- maksimalna vrijednost elemenata u stupcu.\n",
    "\n",
    "Na primjer, visina najkraćeg učenika je:"
   ]
  },
  {
   "cell_type": "code",
   "execution_count": null,
   "metadata": {},
   "outputs": [],
   "source": [
    "studenti_df[\"Visina\"].min()"
   ]
  },
  {
   "cell_type": "markdown",
   "metadata": {},
   "source": [
    "Godine najstarijeg učenika:"
   ]
  },
  {
   "cell_type": "code",
   "execution_count": null,
   "metadata": {},
   "outputs": [],
   "source": [
    "studenti_df[\"Godine\"].max()"
   ]
  },
  {
   "cell_type": "markdown",
   "metadata": {},
   "source": [
    "Prosječna visina učenika:"
   ]
  },
  {
   "cell_type": "code",
   "execution_count": null,
   "metadata": {},
   "outputs": [],
   "source": [
    "studenti_df[\"Visina\"].mean()"
   ]
  },
  {
   "cell_type": "markdown",
   "metadata": {},
   "source": [
    "Srednja visina:"
   ]
  },
  {
   "cell_type": "code",
   "execution_count": null,
   "metadata": {},
   "outputs": [],
   "source": [
    "studenti_df[\"Visina\"].median()"
   ]
  },
  {
   "cell_type": "markdown",
   "metadata": {},
   "source": [
    "Može li se cijela skupina uklopiti u lift koji ima najviše 600 kg?"
   ]
  },
  {
   "cell_type": "code",
   "execution_count": null,
   "metadata": {},
   "outputs": [],
   "source": [
    "if studenti_df[\"Težina\"].sum() <= 600:\n",
    "    print(\"Mogu svi stati u lift.\")\n",
    "else:\n",
    "    print(\"Ne. Zajedno su preteški.\")"
   ]
  },
  {
   "cell_type": "markdown",
   "metadata": {},
   "source": [
    "## 6.3. Vizualizacija podataka predstavljenih DataFrame-om"
   ]
  },
  {
   "cell_type": "markdown",
   "metadata": {},
   "source": [
    "To je jednostavno: samo odaberite stupce koje želite vizualizirati. Da vidimo nekoliko primjera započinjemo učitavanjem odgovarajuće biblioteke:"
   ]
  },
  {
   "cell_type": "code",
   "execution_count": null,
   "metadata": {},
   "outputs": [],
   "source": [
    "import matplotlib.pyplot as plt"
   ]
  },
  {
   "cell_type": "markdown",
   "metadata": {},
   "source": [
    "Da bismo vizualizirali visinu učenika u grupi, jednostavno crtamo grafikon koji prikazuje imena i visine učenika:"
   ]
  },
  {
   "cell_type": "code",
   "execution_count": null,
   "metadata": {},
   "outputs": [],
   "source": [
    "plt.figure(figsize=(10,5))\n",
    "plt.bar(studenti_df[\"Ime\"], studenti_df[\"Visina\"])\n",
    "plt.title(\"Visina studenta\")\n",
    "plt.show()\n",
    "plt.close()"
   ]
  },
  {
   "cell_type": "markdown",
   "metadata": {},
   "source": [
    "Također možemo vizualizirati godine i težinu učenika:"
   ]
  },
  {
   "cell_type": "code",
   "execution_count": null,
   "metadata": {},
   "outputs": [],
   "source": [
    "plt.figure(figsize=(10,5))\n",
    "plt.bar(studenti_df[\"Ime\"], studenti_df[\"Težina\"], color=\"r\", label=\"Težina\")\n",
    "plt.bar(studenti_df[\"Ime\"], studenti_df[\"Godine\"], color=\"g\", label=\"Godine\")\n",
    "plt.title(\"Godine i težina studenata\")\n",
    "plt.legend()\n",
    "plt.show()\n",
    "plt.close()"
   ]
  },
  {
   "cell_type": "markdown",
   "metadata": {},
   "source": [
    "## 6.4. Učitavanje podataka iz lokalnih _CSV_ datoteka\n",
    "\n",
    "Analiza podataka koja najviše troši i najmanje privlači posao je pretvaranje neobrađenih podataka u tablice. Možda niste primijetili da su tablice koje koristimo za demonstraciju bile male, ali u stvarnim životnim situacijama obično dobivamo ogromne tablice s tisućama redaka i stupaca. (Jeste li ikada čuli za dio znanosti o podacima koji se zove Big Data?)\n",
    "\n",
    "Danas koristimo strojeve za prikupljanje podataka (automatske meteorološke stanice, računalna biračka mjesta itd.). Strojevi zatim spakiraju prikupljene podatke u neki vrlo jednostavan format koji kasnije možemo učitati i obraditi. _CSV_ označava \"comma separated values = vrijednost odvojena zarezima\" i jedan je od najjednostavnijih (i najpopularnijih) formata za predstavljanje tablica. CSV datoteke su tekstualne datoteke čiji redovi odgovaraju redovima tablice, a vrijednosti unutar istog retka odvojene su zarezima (\"comma separated values\").\n",
    "\n",
    "Na primjer, postoji datoteka Top 25 YouTubers.csv u podacima mape koja izgleda ovako:\n",
    "\n",
    "    RANK,GRADE,NAME,VIDEOS,SUBSCRIBERS,VIEWES\n",
    "    1,A++,T-Series,13629,105783888,76945588449\n",
    "    2,A,PewDiePie,3898,97853589,22298927681\n",
    "    3,A+,5-Minute Crafts,3341,58629572,14860695079\n",
    "    4,A++,Cocomelon - Nursery Rhymes,441,53163816,33519273951\n",
    "    ...\n",
    "    25,A,TheEllenShow,10542,33362512,16519572219\n",
    "\n",
    "Ova tablica sadrži podatke o 25 najboljih YouTube kanala prema broju pretplatnika 1. srpnja 2019. Prvi red datoteke je redak zaglavlja koji nam govori da tablica ima šest stupaca (RANK, GRADE, NAME, VIDEOS, SUBSCRIBERS , Viewes). Red\n",
    "\n",
    "    4,A++,Cocomelon - Nursery Rhymes,441,53163816,33519273951\n",
    "\n",
    "znači da 4. najpopularniji YouTube kanal (1. srpnja 2019.) ima YouTube rang A ++, njegovo ime je \"Cocomelon - Nursery Rhymes\", objavio je 441 videozapis na YouTubeu, ima 53.163.816 pretplatnika i 33.519.273.951 pregleda.\n",
    "\n",
    "Funkcija `read_csv` iz `pandas` čita _CSV_ datoteku i pretvara je u _DataFrame_. Na primjer:"
   ]
  },
  {
   "cell_type": "code",
   "execution_count": null,
   "metadata": {},
   "outputs": [],
   "source": [
    "import pandas as pd\n",
    "Top25 = pd.read_csv(\"data/Top 25 YouTubers.csv\")"
   ]
  },
  {
   "cell_type": "markdown",
   "metadata": {},
   "source": [
    "U tablicu možemo zaviriti pomoću funkcije `head(N)` koja prikazuje prvih N redaka tablice. Ako bez argumenata pozivamo funkciju, ona prikazuje prvih pet redaka:"
   ]
  },
  {
   "cell_type": "code",
   "execution_count": null,
   "metadata": {},
   "outputs": [],
   "source": [
    "Top25.head()"
   ]
  },
  {
   "cell_type": "code",
   "execution_count": null,
   "metadata": {},
   "outputs": [],
   "source": [
    "Top25.head(10)"
   ]
  },
  {
   "cell_type": "markdown",
   "metadata": {},
   "source": [
    "Funkcija `tail(N)` prikazuje zadnjih N redaka tablice (ili samo 5 ako nije naveden arguement):"
   ]
  },
  {
   "cell_type": "code",
   "execution_count": null,
   "metadata": {},
   "outputs": [],
   "source": [
    "Top25.tail()"
   ]
  },
  {
   "cell_type": "code",
   "execution_count": null,
   "metadata": {},
   "outputs": [],
   "source": [
    "Top25.tail(7)"
   ]
  },
  {
   "cell_type": "markdown",
   "metadata": {},
   "source": [
    "Zamislimo broj pretplatnika najboljih 25 YouTube kanala:"
   ]
  },
  {
   "cell_type": "code",
   "execution_count": null,
   "metadata": {},
   "outputs": [],
   "source": [
    "plt.figure(figsize=(15,10))\n",
    "plt.bar(Top25[\"NAME\"], Top25[\"SUBSCRIBERS\"])\n",
    "plt.title(\"Top 25 YouTube kanala prema broju pretplatnika\")\n",
    "plt.show()\n",
    "plt.close()"
   ]
  },
  {
   "cell_type": "markdown",
   "metadata": {},
   "source": [
    "Nered je zbog toga što su imena kanala predugačka. U tim situacijama uporaba `barh` umjesto `bar` može dati bolje rezultate:"
   ]
  },
  {
   "cell_type": "code",
   "execution_count": null,
   "metadata": {},
   "outputs": [],
   "source": [
    "plt.figure(figsize=(10,10))\n",
    "plt.barh(Top25[\"NAME\"], Top25[\"SUBSCRIBERS\"])\n",
    "plt.title(\"Top 25 YouTube kanala prema broju pretplatnika\")\n",
    "plt.show()\n",
    "plt.close()"
   ]
  },
  {
   "cell_type": "markdown",
   "metadata": {},
   "source": [
    "## 6.5. Učitavanje podataka iz udaljenih izvora\n",
    "\n",
    "Također možete izravno učitati podatke s udaljenog izvora, bez potrebe za preuzimanjem podataka na uređaj. Da biste mogli učitati tablicu s udaljenog resursa, potrebna vam je internetska veza (naravno!) I morate znati točno mjesto tablice koju želite učitati. Točna lokacija Internet resouces-a pružena je u njegovom _URL-u_ (što označava _Universal Resource Locator_ ).\n",
    "\n",
    "\"Internet adresa\"\n",
    "\n",
    "    https://raw.githubusercontent.com/cs109/2014_data/master/countries.csv\n",
    "    \n",
    "sadrži javno dostupan popis svih zemalja svijeta. Ovu tablicu možemo čitati izravno koristeći `read_csv`:"
   ]
  },
  {
   "cell_type": "code",
   "execution_count": null,
   "metadata": {
    "scrolled": true
   },
   "outputs": [],
   "source": [
    "countries = pd.read_csv(\"https://raw.githubusercontent.com/cs109/2014_data/master/countries.csv\")\n",
    "countries.head(10)"
   ]
  },
  {
   "cell_type": "markdown",
   "metadata": {},
   "source": [
    "Tablice dostupne na Internetu obično nisu prikladno pakirane u CSV datoteku. Najčešće su ugrađeni u web stranicu i okruženi nekim dodatnim _HTML_ kodom (_HTML_ znači \"hyper-text markup language\" i označava jezik na kojem su kodirane sve web stranice na Zemlji).\n",
    "\n",
    "Srećom, funkcija `read_html` može zauzeti web stranicu i iz nje izvući tablicu. Na primjer, sljedeći kod čita popis svih američkih država u DataFrame izravno s web stranice Wikipedije:"
   ]
  },
  {
   "cell_type": "code",
   "execution_count": null,
   "metadata": {},
   "outputs": [],
   "source": [
    "US = pd.read_html(\"https://simple.wikipedia.org/wiki/List_of_U.S._states\", header=[0,1])[0]"
   ]
  },
  {
   "cell_type": "markdown",
   "metadata": {},
   "source": [
    "Web stranice su složene i mogu sadržavati nekoliko tablica. Zbog toga `read_html` vraća listu tablica. U ovom slučaju tablica koja nam je potrebna prva je na listi, otuda i indeksiranje `[0]`. Opcija `header=[0,1]` znači da prva dva reda tablice čine zaglavlje. Pogledajmo:"
   ]
  },
  {
   "cell_type": "code",
   "execution_count": null,
   "metadata": {
    "scrolled": true
   },
   "outputs": [],
   "source": [
    "US.head()"
   ]
  },
  {
   "cell_type": "markdown",
   "metadata": {},
   "source": [
    "## 6.6. Zadaci"
   ]
  },
  {
   "cell_type": "markdown",
   "metadata": {},
   "source": [
    "Zadatke riješite u Jupyteru.\n",
    "\n",
    "**Zadatak 1.** Pogledajte kod i odgovorite na donja pitanja:"
   ]
  },
  {
   "cell_type": "code",
   "execution_count": null,
   "metadata": {},
   "outputs": [],
   "source": [
    "import pandas as pd\n",
    "import matplotlib.pyplot as plt\n",
    "\n",
    "studenti = [[\"Anne\",    \"f\", 13, 46, 160],\n",
    "            [\"Ben\",     \"m\", 14, 52, 165],\n",
    "            [\"Colin\",   \"m\", 13, 47, 157],\n",
    "            [\"Diana\",   \"f\", 15, 54, 165],\n",
    "            [\"Ethan\",   \"m\", 15, 56, 163],\n",
    "            [\"Fred\",    \"m\", 13, 45, 159]]\n",
    "\n",
    "table = pd.DataFrame(studenti)\n",
    "table.columns=[\"Ime\", \"Spol\", \"Godine\", \"Težina\", \"Visina\"]\n",
    "\n",
    "print(table[\"Visina\"].min(), table[\"Visina\"].mean(), table[\"Visina\"].median())\n",
    "\n",
    "plt.figure(figsize=(10,5))\n",
    "plt.bar(table[\"Ime\"], table[\"Visina\"])\n",
    "plt.show()\n",
    "plt.close()\n",
    "\n",
    "temp_anomalije = pd.read_csv(\"data/TempAnomalies.csv\", header=None)\n",
    "drzave = pd.read_csv(\"https://raw.githubusercontent.com/cs109/2014_data/master/countries.csv\")\n",
    "US = pd.read_html(\"https://simple.wikipedia.org/wiki/List_of_U.S._states\", header=[0,1])[0]"
   ]
  },
  {
   "cell_type": "markdown",
   "metadata": {},
   "source": [
    "1. Zašto moramo uvesti dvije biblioteke?\n",
    "2. Zašto tablice predstavljamo DataFrame-ovima, a ne liste?\n",
    "3. Kako se nazivaju stupci u tablici DataFrame `table`?\n",
    "4. Koja je razlika između `min`, `mean` i `median`?\n",
    "5. Što morate promijeniti da grafikon prikaže težinu učenika?\n",
    "6. Kako biste učitali datoteku `TempAnomalies.csv` ako bi imala redak zaglavlja?\n",
    "7. Jesu li države DataFrame `countries` stvorene iz podataka pohranjenih lokalno na vašem računalu?\n",
    "8. Koji je format tablice iz koje je kreiran DataFrame `US`?\n",
    "9. Što se događa ako u preglednik upišete `https://simple.wikipedia.org/wiki/List_of_U.S._states`?"
   ]
  },
  {
   "cell_type": "markdown",
   "metadata": {},
   "source": [
    "**Zadatak 2.** Donja tablica prikazuje proizvodnju kukuruza, pšenice u poljoprivrednoj regiji Europe (brojke su u 1000 tona):\n",
    "\n",
    "| Godina | Kukuruz  | Pšenica |\n",
    "|--|--|--|\n",
    "| 2008 | 6,158 | 2,095 |\n",
    "| 2009 | 6,396 | 2,067 |\n",
    "| 2010 | 7,207 | 1,631 |\n",
    "| 2011 | 6,480 | 2,076 |\n",
    "| 2012 | 3,532 | 1,911 |\n",
    "\n",
    "_(a)_ Pretvorite ovu tablicu na listu i iz liste stvorite DataFrame. Zatim izračunajte maksimalni prinos kukuruza i minimalni prinos pšenice."
   ]
  },
  {
   "cell_type": "markdown",
   "metadata": {},
   "source": [
    "_(b)_ Vizualizirajte podatke pomoću grafikona."
   ]
  },
  {
   "cell_type": "markdown",
   "metadata": {},
   "source": [
    "_(c)_ izračunati prosječni prinos kukuruza; zatim izračunajte razliku između maksimalnog i minimalnog prinosa pšenice."
   ]
  },
  {
   "cell_type": "markdown",
   "metadata": {},
   "source": [
    "**Zadatak 3.** Ovo je pregled potrošnje obitelji tijekom jedne godine (u lokalnoj valuti):\n",
    "  \n",
    "  | Stavka | Jan | Feb | Mar | Apr | May | Jun | Jul | Aug | Sep | Oct | Nov | Dec |\n",
    "  |--------|-----|-----|-----|-----|-----|-----|-----|-----|-----|-----|-----|-----|\n",
    "  | Stanarina             | 8,251 | 8,436 | 8,524 | 8,388 | 8,241 | 8,196 | 8,004 | 7,996 | 7,991 | 8,015 | 8,353 | 8,456 |\n",
    "  | Struja      | 4,321 | 4,530 | 4,115 | 3,990 | 3,985 | 3,726 | 3,351 | 3,289 | 3,295 | 3,485 | 3,826 | 3,834 |\n",
    "  | Telefon (fiksni) | 1,425 | 1,538 | 1,623 | 1,489 | 1,521 | 1,485 | 1,491 | 1,399 | 1,467 | 1,531 | 1,410 | 1,385 |\n",
    "  | Telefon (mobitel)     | 2,181 | 2,235 | 2,073 | 1,951 | 1,989 | 1,945 | 3,017 | 2,638 | 2,171 | 1,831 | 1,926 | 1,833 |\n",
    "  | TV i Internet  | 2,399 | 2,399 | 2,399 | 2,399 | 2,399 | 2,399 | 2,399 | 2,399 | 2,399 | 2,399 | 2,399 | 2,399  |\n",
    "  | Prijevoz        | 1,830 | 1,830 | 1,830 | 1,830 | 1,950 | 1,950 | 1,450 | 1,450 | 1,950 | 1,950 | 2,050 | 2,050 |\n",
    "  | Hrana             | 23,250 | 23,780 | 24,019 | 24,117 | 24,389 | 24,571 | 24,736 | 24,951 | 25,111 | 25,389 | 25,531 | 25,923 |\n",
    "  | Ostalo             | 4,500 | 3,700 | 5,100 | 3,500 | 2,750 | 4,250 | 7,320 | 8,250 | 3,270 | 4,290 | 3,200 | 8,390 |\n",
    "\n",
    "Ova tablica je predstavljena kao lista i izgleda ovako:"
   ]
  },
  {
   "cell_type": "code",
   "execution_count": null,
   "metadata": {},
   "outputs": [],
   "source": [
    "troskovi = [\n",
    "  [\"Stanarina\", 8251, 8436, 8524, 8388, 8241, 8196, 8004, 7996, 7991, 8015, 8353, 8456],\n",
    "  [\"Struja\", 4321, 4530, 4115, 3990, 3985, 3726, 3351, 3289, 3295, 3485, 3826, 3834],\n",
    "  [\"Telefon (fiksni)\", 1425, 1538, 1623, 1489, 1521, 1485, 1491, 1399, 1467, 1531, 1410, 1385],\n",
    "  [\"Telefon (mobitel)\", 2181, 2235, 2073, 1951, 1989, 1945, 3017, 2638, 2171, 1831, 1926, 1833],\n",
    "  [\"TV i Internet\", 2399, 2399, 2399, 2399, 2399, 2399, 2399, 2399, 2399, 2399, 2399, 2399 ],\n",
    "  [\"Prijevoz\", 1830, 1830, 1830, 1830, 1950, 1950, 1450, 1450, 1950, 1950, 2050, 2050],\n",
    "  [\"Hrana\", 23250, 23780, 24019, 24117, 24389, 24571, 24736, 24951, 25111, 25389, 25531, 25923],\n",
    "  [\"Ostalo\", 4500, 3700, 5100, 3500, 2750, 4250, 7320, 8250, 3270, 4290, 3200, 8390]\n",
    "]"
   ]
  },
  {
   "cell_type": "markdown",
   "metadata": {},
   "source": [
    "_(a)_ Pretvorite ovo u _DataFrame_."
   ]
  },
  {
   "cell_type": "markdown",
   "metadata": {},
   "source": [
    "_(b)_ Izračunajte ukupnu potrošnju mjesečno (koliko u January, koliko u February, itd)."
   ]
  },
  {
   "cell_type": "code",
   "execution_count": null,
   "metadata": {},
   "outputs": [],
   "source": []
  },
  {
   "cell_type": "markdown",
   "metadata": {},
   "source": [
    "**Zadatak 4.** Podaci datoteke _data/LEB.csv_ sadrže ukupnu _Life Expectancy at Birth_ ljudi izračunatu u petogodišnjem razdoblju."
   ]
  },
  {
   "cell_type": "markdown",
   "metadata": {},
   "source": [
    "_(a)_ Učitajte ovu datoteku u _DataFrame_."
   ]
  },
  {
   "cell_type": "markdown",
   "metadata": {},
   "source": [
    "_(b)_ Vizualizirajte podatke."
   ]
  },
  {
   "cell_type": "markdown",
   "metadata": {},
   "source": [
    "**Zadatak 5.** Na satu tjelesnog studenti su uvježbavali skokove u dalj. Svaki je student imao tri pokušaja, a podaci se prikupljaju u _LongJump.csv_ dostupno u podacima u mapi. Prvi red datoteke je zaglavlje.\n",
    "\n",
    "_(a)_ Učitajte ovu datoteku u _DataFrame_."
   ]
  },
  {
   "cell_type": "markdown",
   "metadata": {},
   "source": [
    "_(b)_ Vizualizirajte podatke pomoću grafikona. (Savjet: Budite kreativni.)"
   ]
  },
  {
   "cell_type": "code",
   "execution_count": null,
   "metadata": {},
   "outputs": [],
   "source": []
  },
  {
   "cell_type": "markdown",
   "metadata": {},
   "source": [
    "**Zadatak 6.** Na sljedećem URL-u\n",
    "\n",
    "    https://raw.githubusercontent.com/resbaz/r-novice-gapminder-files/master/data/gapminder-FiveYearData.csv\n",
    "\n",
    "možete pronaći javno dostupnu tablicu s popisom zemalja svijeta i nekim parametrima gospodarskog razvoja država sažeto u intervalima od pet godina. Tablica ima sljedeće stupce:\n",
    "\n",
    "* zemlja\n",
    "* godina\n",
    "* pop (= populacija)\n",
    "* kontinent\n",
    "* lifeExp (= životni vijek; koliko godina u prosjeku ima državljanin te zemlje za živjeti)\n",
    "* gdpPercap (= BDP po glavi stanovnika; koliko novca, u prosjeku američki dolari, zarađuju građani te zemlje)\n",
    "\n",
    "Učitajte ovu tablicu u _DataFrame_ i prikažite prvih 20 redaka kao i zadnjih 10 redaka tablice."
   ]
  },
  {
   "cell_type": "code",
   "execution_count": null,
   "metadata": {},
   "outputs": [],
   "source": []
  },
  {
   "cell_type": "markdown",
   "metadata": {},
   "source": [
    "**Zadatak 7.** Učitajte tablicu sa sljedećeg URL-a\n",
    "\n",
    "    https://www.worldometers.info/world-population/population-by-country/\n",
    "\n",
    "u DataFrame i prikažite prvih nekoliko redaka tablice."
   ]
  },
  {
   "cell_type": "code",
   "execution_count": null,
   "metadata": {},
   "outputs": [],
   "source": []
  }
 ],
 "metadata": {
  "kernelspec": {
   "display_name": "Python 3",
   "language": "python",
   "name": "python3"
  },
  "language_info": {
   "codemirror_mode": {
    "name": "ipython",
    "version": 3
   },
   "file_extension": ".py",
   "mimetype": "text/x-python",
   "name": "python",
   "nbconvert_exporter": "python",
   "pygments_lexer": "ipython3",
   "version": "3.7.6"
  }
 },
 "nbformat": 4,
 "nbformat_minor": 2
}
