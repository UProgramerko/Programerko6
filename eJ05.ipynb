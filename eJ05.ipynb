{
 "cells": [
  {
   "cell_type": "markdown",
   "metadata": {},
   "source": [
    "# 5. Analiza frekvencije i grafikoni sektora\n",
    "\n",
    "\n",
    "U ovoj lekciji naučit ćete:\n",
    "1. kako izvršiti _analizu frekvencije_ niza podataka (što je jedno komplicirano ime za jednu vrlo jednostavnu i korisnu stvar); i\n",
    "2. kako prikazati zastupljenost nekih veličina u grafikonu sektora.\n"
   ]
  },
  {
   "cell_type": "markdown",
   "metadata": {},
   "source": [
    "## 5.1. Analiza frekvencije niza podataka\n",
    "\n",
    "_Analiza frekvencije_ niza podataka svodi se na brojanje podataka u nizu i pokušavanje zaključka na temelju tako dobivenih _frekvencija podataka_ (riječ frekvencija znači \"učestalost\"). Na primjer, u jednom razredu ima 30 učenika i njihove ocjene daju se u sljedećem nizu:"
   ]
  },
  {
   "cell_type": "code",
   "execution_count": null,
   "metadata": {},
   "outputs": [],
   "source": [
    "ocjeneInf = [\"3\", \"4\", \"5\", \"4\", \"5\", \"3\", \"4\", \"5\", \"2\", \"4\", \"5\", \"4\", \"5\", \"4\", \"2\", \"3\", \"1\", \"4\", \"5\", \"4\", \"3\", \"2\", \"3\", \"4\", \"5\", \"4\", \"5\", \"5\", \"4\", \"3\"]"
   ]
  },
  {
   "cell_type": "markdown",
   "metadata": {},
   "source": [
    "Analiza frekvencija ove serije svodi se na koliko ima petica, četvorki, trojki, dvojki i jedinica u tom razredu. Umjesto da to radimo ručno, pustit ćemo Python da to učini za nas. Python ima ugrađenu funkciju `count` koja može računati broj pojavljivanja elementa na popisu:"
   ]
  },
  {
   "cell_type": "code",
   "execution_count": null,
   "metadata": {},
   "outputs": [],
   "source": [
    "ocjena5 = ocjeneInf.count(\"5\")\n",
    "ocjena4 = ocjeneInf.count(\"4\")\n",
    "ocjena3 = ocjeneInf.count(\"3\")\n",
    "ocjena2 = ocjeneInf.count(\"2\")\n",
    "ocjena1 = ocjeneInf.count(\"1\")\n",
    "print(\"Ocjene u razredu su raspodijeljene kako slijedi:\")\n",
    "print(\"Ocjenu 5 ima ->\", ocjena5, \"ucenika\")\n",
    "print(\"Ocjenu 4 ima ->\", ocjena4, \"ucenika\")\n",
    "print(\"Ocjenu 3 ima ->\", ocjena3, \"ucenika\")\n",
    "print(\"Ocjenu 2 ima ->\", ocjena2, \"ucenika\")\n",
    "print(\"Ocjenu 1 ima ->\", ocjena1, \"ucenika\")"
   ]
  },
  {
   "cell_type": "markdown",
   "metadata": {},
   "source": [
    "Za svaku ocjenu smo odredili koliko se puta pojavila u list i dobili smo podatke u _apsolutnim iznosima_.\n",
    "\n",
    "Ako želimo odrediti _relativne odnose_ brojeva ocjena, dobivene brojeve ćemo prikazati u postocima:"
   ]
  },
  {
   "cell_type": "code",
   "execution_count": null,
   "metadata": {},
   "outputs": [],
   "source": [
    "ukupno = len(ocjeneInf)\n",
    "postotak5 = 100.0 * ocjena5 / ukupno\n",
    "postotak4 = 100.0 * ocjena4 / ukupno\n",
    "postotak3 = 100.0 * ocjena3 / ukupno\n",
    "postotak2 = 100.0 * ocjena2 / ukupno\n",
    "postotak1 = 100.0 * ocjena1 / ukupno\n",
    "print(\"Ocjene u razredu su raspodijeljene kako slijedi:\")\n",
    "print(\"Ocjenu 5 ima -> \", round(postotak5, 2), \"% ucenika\", sep=\"\")\n",
    "print(\"Ocjenu 4 ima -> \", round(postotak4, 2), \"% ucenika\", sep=\"\")\n",
    "print(\"Ocjenu 3 ima -> \", round(postotak3, 2), \"% ucenika\", sep=\"\")\n",
    "print(\"Ocjenu 2 ima -> \", round(postotak2, 2), \"% ucenika\", sep=\"\")\n",
    "print(\"Ocjenu 1 ima -> \", round(postotak1, 2), \"% ucenika\", sep=\"\")"
   ]
  },
  {
   "cell_type": "markdown",
   "metadata": {},
   "source": [
    "Dakle, analiza frekvencije daje nam vrijednosti u konkretnom iznosu (recimo, postoji 9 petica u razredu, 11 četvorki i tako dalje). Ako ove podatke iznesemo u postocima, dobit ćemo podatke koji nam govore o zastupljenosti ocjena u relativnim odnosima.\n",
    "\n",
    "Tako, u ovom razredu ima 30% petice (9/30 = 30%), 36,67% četvorke (11/30 = 36,67%), trojke 20% (6/30 = 20%), 10% dvojke (3/30 = 10%) i 3,33% jedinica (1/30 = 3,33%)."
   ]
  },
  {
   "cell_type": "markdown",
   "metadata": {},
   "source": [
    "## 5.2. Sektorski dijagrami\n",
    "\n",
    "U situacijama u kojima su prikazani postoci komponenti u cjelini, prikladno je prikazati podatke _sektorskim dijagramom_ koji predstavlja krug izrezan na kriške poput pizze. Krug tada predstavlja cjelinu (100%), dok isječci predstavljaju komponente koje sudjeluju u cjelini izražene u postocima.\n",
    "\n",
    "Na primjer, ocjene informatike dijele se u jednom razredu sa 30 učenika kako slijedi:\n",
    "\n",
    "| Ocjena      | Zastupljenost ocjene |\n",
    "|------------|--------------|\n",
    "| 5          | 9       |\n",
    "| 4          | 11       |\n",
    "| 3          | 6       |\n",
    "| 2          | 3       |\n",
    "| 1          | 1       |\n",
    "\n",
    "Podatke u ovoj tablici ilustrirat ćemo sektorskim dijagramom. Prvo ćemo predstaviti biblioteku:"
   ]
  },
  {
   "cell_type": "code",
   "execution_count": null,
   "metadata": {},
   "outputs": [],
   "source": [
    "import matplotlib.pyplot as plt"
   ]
  },
  {
   "cell_type": "markdown",
   "metadata": {},
   "source": [
    "Onda ćemo podatke zapisati pomoću dva niza:"
   ]
  },
  {
   "cell_type": "code",
   "execution_count": null,
   "metadata": {},
   "outputs": [],
   "source": [
    "frekvencije = [9,   11,  6,   3,   1]\n",
    "ocjene = [\"5\", \"4\", \"3\", \"2\", \"1\"]"
   ]
  },
  {
   "cell_type": "markdown",
   "metadata": {},
   "source": [
    "A sada možemo prijeći na prezentaciju podataka dijagramom. Funkcija koja predstavlja podatke u sektorskom dijagramu naziva se `pie` , jer se u američkom slengu sektorski dijagrami nazivaju _pie charts_ = \"pita dijagrami\". Prvi argument predstavlja niz vrijednosti, dok se drugim zadaju oznake (eng. label = oznaka):"
   ]
  },
  {
   "cell_type": "code",
   "execution_count": null,
   "metadata": {},
   "outputs": [],
   "source": [
    "plt.figure(figsize=(6,6))\n",
    "plt.pie(frekvencije, labels=ocjene)\n",
    "plt.title(\"Ocjene iz informatike\")\n",
    "plt.show()\n",
    "plt.close()"
   ]
  },
  {
   "cell_type": "markdown",
   "metadata": {},
   "source": [
    "Ako želimo naglasiti broj petica u razredu, možemo iz središta izvući odgovarajući sektor malo iz centra. To se postiže argumentom `explode` funkcije `pie` koji za svaki podatak u nizu govori koliko nam je potrebno da ga izvučemo iz centra (0 = nema potrebe da sektor pomičemo iz središta dijagrama; što je veći broj, to je pomicanje veće)."
   ]
  },
  {
   "cell_type": "code",
   "execution_count": null,
   "metadata": {},
   "outputs": [],
   "source": [
    "freqs = [9,   11,  6,   3,   1]\n",
    "marks = [\"5\", \"4\", \"3\", \"2\", \"1\"]\n",
    "pomicanje = [0.1,  0,   0,   0,   0]\n",
    "plt.figure(figsize=(6,6))\n",
    "plt.pie(frekvencije, labels=ocjene, explode=pomicanje)\n",
    "plt.title(\"Ocjene iz informatike\")\n",
    "plt.show()\n",
    "plt.close()"
   ]
  },
  {
   "cell_type": "markdown",
   "metadata": {},
   "source": [
    "Kao još jedan primjer, razmotrite strukturu naše atmosfere. Naša atmosfera je mješavina raznih plinova, a suhi zrak ima sljedeći sastav:\n",
    "\n",
    "|   Plin         | Zastupljenost(%) |\n",
    "|---------------|------------------|\n",
    "| Dušik         | 78.08            |\n",
    "| Kisik         | 20.94            |\n",
    "| Argon         |  0.93            |\n",
    "| Ugljikov dioksid |  0.05            |\n",
    "\n",
    "Važno je napomenuti da ovo _nije ispravan sastav naše atmosfere_ : u njemu se nalaze i drugi plinovi, ali u tragovima (kako to kemičari vole reći), pa oni nisu prikazani u tablici.\n",
    "\n",
    "Predstavit ćemo strukturu atmosfere u dijagramu ovako:"
   ]
  },
  {
   "cell_type": "code",
   "execution_count": null,
   "metadata": {},
   "outputs": [],
   "source": [
    "postotak = [78.08,  20.94,      0.93,    0.05]\n",
    "oznake  = [\"Dušik\", \"Kisik\", \"Argon\", \"Ugljikov dioksid\"]\n",
    "plt.figure(figsize=(7,7))\n",
    "plt.pie(postotak, labels=oznake)\n",
    "plt.title(\"Sastav naše atmosfere\")\n",
    "plt.show()\n",
    "plt.close()"
   ]
  },
  {
   "cell_type": "markdown",
   "metadata": {},
   "source": [
    "Opet nailazimo na problem: oznake za posljednja dva podatka preklapaju se jer su to vrlo uski sektori. Da bismo riješili problem, dijagram možemo još više proširiti, a također možemo pokušati izvući posljednja dva \"mala\" sektora iz središta, ovako:"
   ]
  },
  {
   "cell_type": "code",
   "execution_count": null,
   "metadata": {},
   "outputs": [],
   "source": [
    "postotak = [78.08,  20.94,      0.93,    0.05]\n",
    "oznake  = [\"Dušik\", \"Kisik\", \"Argon\", \"Ugljikov dioksid\"]\n",
    "pomicanje = [0,      0,          0.75,    0.75]\n",
    "plt.figure(figsize=(7,7))\n",
    "plt.pie(postotak, labels=oznake, explode=pomicanje)\n",
    "plt.title(\"Sastav naše atmosfere\")\n",
    "plt.show()\n",
    "plt.close()"
   ]
  },
  {
   "cell_type": "markdown",
   "metadata": {},
   "source": [
    "## 5.3. Zadaci"
   ]
  },
  {
   "cell_type": "markdown",
   "metadata": {},
   "source": [
    "Zadatke riješite u  Jupyteru.\n",
    "\n",
    "**Zadatak 1.** Broj stanovnika na našem planet po kontinentima se procjenjuje ovako:\n",
    "\n",
    "| Kontinent | Populacija |\n",
    "|------------|--------------|\n",
    "| Azija  | 4,584,807,072 |\n",
    "| Afrika  | 1,320,038,716 |\n",
    "| Europa  | 743,102,600 |\n",
    "| Južna Amerika  | 658,305,557 |\n",
    "| Sjeverna Amerika  | 366,496,802 |\n",
    "| Oceanija  | 41,826,176 |\n",
    "\n",
    "Izraziti broj stanovnika po kontinentima u postocima i ilustrirati podatke sektorskim dijagramom"
   ]
  },
  {
   "cell_type": "markdown",
   "metadata": {},
   "source": [
    "**Exercise 2.** Početkom ovog stoljeća \"rat formata\" tiho se vodio na tržištu optičkih medija. Širenjem novih video formata (prije svega HD formata) pojavila se potreba za optičkim medijima većeg kapaciteta jer se na jedan klasični DVD može pohraniti samo oko 4,5 GB podataka, što nije dovoljno za jedan HD film. U posljednju bitku ušla su dva formata: Blu-ray Disc (kraće BR) i HD-DVD. Otprilike dvije godine (gotovo cijelu 2006. i cijelu 2007.) dva su formata bila približno jednaka u odnosu na tržišni udio. Tada se početkom 2008. dogodilo nešto neočekivano: u roku od tjedan dana situacija se drastično promijenila. Tablica u nastavku prikazuje udio ova dva formata na svjetskom tržištu dana 5.1.2008. i 12.1.2008 .:\n",
    "\n",
    "| Datum         | Blu-ray Disc | HD-DVD |\n",
    "|--------------|--------------|--------|\n",
    "|  5.1.2008.    | 51,17%       | 48,83% |\n",
    "| 12.1.2008.   | 92,53%       | 7,47%  |\n",
    "\n",
    "Tako je u samo sedam dana Blu-ray format pobijedio, a danas je to dominantan format za pohranu velike količine informacija na optičkim medijima.\n",
    "\n",
    "_(a)_ Nacrtajte dva dijagrama nezavisnog sektora: jedan prikazuje odnos dva formata na tržištu 5/1/2008, a drugi prikazuje odnos dva formata na tržištu 12/1/2008.\n",
    "\n",
    "_(b*)_ Na internetu pokušajte saznati što se dogodilo između 5.1.2008. i 12.1.2008. (To se odnosi na Sony koji podržava Blu-ray format i jedan od njegovih proizvoda.)"
   ]
  },
  {
   "cell_type": "markdown",
   "metadata": {},
   "source": [
    "**Zadatak 3.** Savršena limunada pravi se na sljedeći način: Pomiješajte jednu šalicu šećera u jednoj šalici tople vode dok se šećer potpuno ne otopi. Ulijte jednu šalicu limunovog soka i dodajte još tri šalice hladne vode. Izračunajte u postotku količinu vode, šećera i limunovog soka u savršenoj limunadi i prikažite ove podatke u sektorskom dijagramu, ali tako da podaci koji predstavljaju količinu šećera budu izdvojeni."
   ]
  },
  {
   "cell_type": "markdown",
   "metadata": {},
   "source": [
    "**Zadatak 4.** Izabela je, vidjevši kako pada kiša u Macondi, odlučila voditi meteorološki zapisnik jednu godinu. Kad god bi kiša pala u ponedjeljak u dnevnik bi upisivala 1; ako je kiša padala u utorak u dnevnik bi upisala 2; za srijedu bi do nedjelje napisala 3 i tako dalje (za kišne tjedne pisala bi 7). Tako je dobila sljedeći niz brojeva:"
   ]
  },
  {
   "cell_type": "code",
   "execution_count": null,
   "metadata": {},
   "outputs": [],
   "source": [
    "IzabelinDnevnik = [1,2,4,7,2,4,7,6,7,5,6,7,3,5,7,1,3,6,2,3,4,2,3,1,4,7,7,\n",
    "              6,5,6,4,5,6,2,3,4,5,1,3,4,2,5,7,2,3,5,3,5,7,6,7,2,3,7,\n",
    "              1,2,3,4,5,6,7,2,7,3,4,1,5,6,1,2,4,5,6,7,1,3,4,1,2,3,4,\n",
    "              2,5,7,6,4,5,6,1,3,7,5,7,1,2,3,7,7,3,4,7,1,2,4,7,4,7,2,\n",
    "              3,4,4,6,8,1,7,7,7,3,4,5,6,7,1,2,4,7,1,2,3,1,7,2,7]"
   ]
  },
  {
   "cell_type": "markdown",
   "metadata": {},
   "source": [
    "_(a)_ Koliko je kišnih dana Izabela zapisala u svoj dnevnik?"
   ]
  },
  {
   "cell_type": "markdown",
   "metadata": {},
   "source": [
    "_(b)_ Navedite broj kišnih dana u postotku, ako znate da ta godina nije bila prestupna."
   ]
  },
  {
   "cell_type": "markdown",
   "metadata": {},
   "source": [
    "_(c)_ Odredite koliko je Izabela registrirala kišnih ponedjeljka, utorka, srijede, četvrtka, petka i subote te godine."
   ]
  },
  {
   "cell_type": "markdown",
   "metadata": {},
   "source": [
    "_(d)_ Dajte u postotku broj kišnih ponedjeljka u odnosu na broj svih ponedjeljka u toj godini, koji su bili 53"
   ]
  },
  {
   "cell_type": "markdown",
   "metadata": {},
   "source": [
    "_(e)_ Odredite kišni dan u tjednu u Izabelinom dnevniku i pokažite podatke dobivene pod (c) sektorski dijagram. Označite najkišniji dan u dijagramu."
   ]
  },
  {
   "cell_type": "markdown",
   "metadata": {},
   "source": [
    "**Zadatak 5.** Donja ćelija sadrži prvih nekoliko decimalnih mjesta broja $\\pi$:"
   ]
  },
  {
   "cell_type": "code",
   "execution_count": null,
   "metadata": {},
   "outputs": [],
   "source": [
    "pi_decimale=\"141592653589793238462643383279502884197169399375105820974944592307816406286208998628034825342117067982148086513282306647093844609550582231725359408128481117450284102701938521105559644622948954930381964428810975665933446128475648233786783165271201909145648566923460348610454326648213393607260249141273724587006606315588174881520920962829254091715364367892590360011330530548820466521384146951941511609433057270365759591953092186117381932611793105118548074462379962749567351885752724891227938183011949129833673362440656643086021394946395224737190702179860943702770539217176293176752384674818467669405132000568127145263560827785771342757789609173637178721468440901224953430146549585371050792279689258923542019956112129021960864034418159813629774771309960518707211349999998372978049951059731732816096318595024459455346908302642522308253344685035261931188171010003137838752886587533208381420617177669147303598253490428755468731159562863882353787593751957781857780532171226806613001927876611195909216420198938095257201065485863278865936153381827968230301952035301852968995773622599413891249721775283479131515574857242454150695950829533116861727855889075098381754637464939319255060400927701671139009848824012858361603563707660104710181942955596198946767837449448255379774726847104047534646208046684259069491293313677028989152104752162056966024058038150193511253382430035587640247496473263914199272604269922796782354781636009341721641219924586315030286182974555706749838505494588586926995690927210797509302955321165344987202755960236480665499119881834797753566369807426542527862551818417574672890977772793800081647060016145249192173217214772350141441973568548161361157352552133475741849468438523323907394143334547762416862518983569485562099219222184272550254256887671790494601653466804988627232791786085784383827967976681454100953883786360950680064225125205117392984896084128488626945604241965285022210661186306744278622039194945047123713786960956364371917287467764657573962413890865832645995813390478027590099465764078951269468398352595709825822620522489407726719478268482601476990902640136394437455305068203496252451749399651431429809190659250937221696461515709858387410597885959772975498930161753928468138268683868942774155991855925245953959431049972524680845987273644695848653836736222626099124608051243884390451244136549762780797715691435997700129616089441694868555848406353422072225828488648158456028506016842739452267467678895252138522549954666727823986456596116354886230577456498035593634568174324112515076069479451096596094025228879710893145669136867228748940560101503308617928680920874760917824938589009714909675985261365549781893129784821682998948722658804857564014270477555132379641451523746234364542858444795265867821051141354735739523113427166102135969536231442952484937187110145765403590279934403742007310578539062198387447808478489683321445713868751943506430218453191048481005370614680674919278191197939952061419663428754440643745123718192179998391015919561814675142691239748940907186494231961567945208095146550225231603881930142093762137855956638937787083039069792077346722182562599661501421503068038447734549202605414665925201497442850732518666002132434088190710486331734649651453905796268561005508106658796998163574736384052571459102897064140110971206280439039759515677157700420337869936007230558763176359421873125147120532928191826186125867321579198414848829164470609575270695722091756711672291098169091528017350671274858322287183520935396572512108357915136988209144421006751033467110314126711136990865851639831501970165151168517143765761835155650884909989859982387345528331635507647918535893226185489632132933089857064204675259070915481416549859461637180270981994309924488957571282890592323326097299712084433573265489382391193259746366730583604142813883032038249037589852437441702913276561809377344403070746921120191302033038019762110110044929321516084244485963766983895228684783123552658213144957685726243344189303968642624341077322697802807318915441101044682325271620105265227211166039666557309254711055785376346682065310989652691862056476931\""
   ]
  },
  {
   "cell_type": "markdown",
   "metadata": {},
   "source": [
    "_(a)_ Odredite koliko decimala broja $\\pi$ je naveden u nizu. (Funkcija `len` može vam koristiti.)\n",
    "\n",
    "_(b)_ Napravite frekvencijsku analizu ovog niza određivanjem broja nula, jedinica, dvojki, ...., devetki. (Funkcija count također se može primijeniti na stringove;\n",
    "\n",
    "pi_decimale.count(\"0\")\n",
    "\n",
    "odredit će broj nula. Imajte na umu da je pod navodnicima jednaka nuli, _jer se radi sa stringovima!_ )\n",
    "\n",
    "_(v)_ Predstavite broj nula, jedinica, dvojki, ..., devetki koje ste primili pod (b) u postocima.\n",
    "\n",
    "_(g)_ Prikažite podatke dobivene sektorskim dijagramom.\n"
   ]
  },
  {
   "cell_type": "code",
   "execution_count": null,
   "metadata": {},
   "outputs": [],
   "source": []
  }
 ],
 "metadata": {
  "kernelspec": {
   "display_name": "Python 3",
   "language": "python",
   "name": "python3"
  },
  "language_info": {
   "codemirror_mode": {
    "name": "ipython",
    "version": 3
   },
   "file_extension": ".py",
   "mimetype": "text/x-python",
   "name": "python",
   "nbconvert_exporter": "python",
   "pygments_lexer": "ipython3",
   "version": "3.7.6"
  }
 },
 "nbformat": 4,
 "nbformat_minor": 2
}
